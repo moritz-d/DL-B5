{
 "cells": [
  {
   "cell_type": "markdown",
   "metadata": {
    "colab_type": "text",
    "id": "kcB3r4vJpatQ"
   },
   "source": [
    "# Prediction of time series with different neural networks architectures\n",
    "\n",
    "In this notebook we will use different network architectures to predict the next steps for a time series. We compare: \n",
    "\n",
    "* 1D causal convolutional networks \n",
    "* 1D causal convolutional networks witho dilation rate\n",
    "* RNNs  \n",
    "* LSTMs\n",
    "\n",
    "We forecast a time series for longer times than we trained them on and compare the results of the different architectures. The goal is to capture the longterm dependencies of the time series.\n"
   ]
  },
  {
   "cell_type": "code",
   "execution_count": 1,
   "metadata": {
    "colab": {
     "base_uri": "https://localhost:8080/",
     "height": 35
    },
    "colab_type": "code",
    "id": "qGdc4oO6Bwt9",
    "outputId": "72ff3f71-ceab-41a1-c833-169d779b1f03"
   },
   "outputs": [],
   "source": [
    "try: #If running in colab \n",
    "    import google.colab\n",
    "    IN_COLAB = True \n",
    "    %tensorflow_version 2.x\n",
    "except:\n",
    "    IN_COLAB = False"
   ]
  },
  {
   "cell_type": "code",
   "execution_count": 2,
   "metadata": {
    "colab": {},
    "colab_type": "code",
    "id": "geSS6viBpatT"
   },
   "outputs": [],
   "source": [
    "# load required libraries:\n",
    "import numpy as np\n",
    "import matplotlib.pyplot as plt\n",
    "%matplotlib inline\n",
    "\n",
    "from tensorflow.keras.models import Sequential\n",
    "from tensorflow.keras.layers import Dense, Lambda, Convolution1D,LSTM, SimpleRNN ,Input\n"
   ]
  },
  {
   "cell_type": "markdown",
   "metadata": {
    "colab_type": "text",
    "id": "82ZRKcWopate"
   },
   "source": [
    "## Simulate some data\n",
    "\n",
    "We produce training data with two different time scales and a bit of noise. This produces 1000 curves which all follow the same pattern: a fast changing sine wave where the amplitude is modulated by a sine wave with lower frequency. To make it a bit more challenging, we add some noise at each timestep of the waves. All of the 1000 waves have the same pattern, however, the starting point is randomly shifted in time. One such example is shown the plot below. The first 128 data points are used as an input to the model (shown as a line). The model should predict the following 10 data points (shown as points). Note that the future data does not follow a smooth curve, but instead is ragged because of the random noise present in the data."
   ]
  },
  {
   "cell_type": "code",
   "execution_count": 3,
   "metadata": {
    "colab": {
     "base_uri": "https://localhost:8080/",
     "height": 315
    },
    "colab_type": "code",
    "id": "OlA9Vabapatf",
    "outputId": "3eb43c1c-9abd-4402-d28d-f74ef9b2304a"
   },
   "outputs": [
    {
     "data": {
      "image/png": "[encoded data removed]",
      "text/plain": [
       "<Figure size 360x144 with 1 Axes>"
      ]
     },
     "metadata": {
      "needs_background": "light"
     },
     "output_type": "display_data"
    },
    {
     "data": {
      "image/png": "[encoded data removed]",
      "text/plain": [
       "<Figure size 360x144 with 1 Axes>"
      ]
     },
     "metadata": {
      "needs_background": "light"
     },
     "output_type": "display_data"
    },
    {
     "name": "stdout",
     "output_type": "stream",
     "text": [
      "The training data X (solid) line and the next predictions Y (dotted), which should be forecasted.\n"
     ]
    }
   ],
   "source": [
    "np.random.seed(1) # Fixing the seed, so that data is always the same\n",
    "seq_length = 128  # Sequence length used for training\n",
    "look_ahead =  10  # The number of data points the model should predict \n",
    "\n",
    "\n",
    "def gen_data(size=1000, noise=0.1): # We create 1000 data-points\n",
    "  s = seq_length + look_ahead\n",
    "  d = np.zeros((size, s,1))\n",
    "  for i in range(size):\n",
    "    start = np.random.uniform(0, 2*np.pi) # Random start point\n",
    "    d[i,:,0] = np.sin(start + np.linspace(0, 20*np.pi, s)) * np.sin(start + np.linspace(0, np.pi, s)) + np.random.normal(0,noise,s)\n",
    "  return d[:,0:seq_length], d[:,seq_length:s]\n",
    "\n",
    "\n",
    "X,Y = gen_data()\n",
    "for i in range(2):\n",
    "  plt.figure(num=None, figsize=(5,2))  \n",
    "  plt.plot(range(0, seq_length),X[i,:,0],'b-')\n",
    "  plt.plot(range(seq_length, seq_length + look_ahead),Y[i,:,0],'bo',color='orange')\n",
    "\n",
    "plt.show()\n",
    "print('The training data X (solid) line and the next predictions Y (dotted), which should be forecasted.')"
   ]
  },
  {
   "cell_type": "markdown",
   "metadata": {
    "colab_type": "text",
    "id": "YbHIUaw3paty"
   },
   "source": [
    "## A) 1D Convolution without dilation rate"
   ]
  },
  {
   "cell_type": "code",
   "execution_count": 4,
   "metadata": {},
   "outputs": [
    {
     "name": "stdout",
     "output_type": "stream",
     "text": [
      "(1000, 128, 1)\n",
      "(1000, 10, 1)\n",
      "[[ 1.67851679e-01]\n",
      " [-1.49147717e-02]\n",
      " [-2.87128158e-01]\n",
      " [-4.95270896e-01]\n",
      " [-6.39140987e-01]\n",
      " [-2.74092878e-01]\n",
      " [-3.97587745e-01]\n",
      " [-9.06528408e-02]\n",
      " [-8.39834637e-02]\n",
      " [ 3.16094480e-01]\n",
      " [ 1.18608001e-01]\n",
      " [ 2.79278233e-01]\n",
      " [ 2.91331077e-01]\n",
      " [ 1.08574351e-01]\n",
      " [ 1.47504766e-01]\n",
      " [ 2.41033984e-02]\n",
      " [-2.48567041e-02]\n",
      " [-1.18996919e-01]\n",
      " [ 8.37736164e-02]\n",
      " [-4.76291011e-02]\n",
      " [ 7.03855096e-02]\n",
      " [-1.25288870e-01]\n",
      " [-8.25894554e-02]\n",
      " [ 9.26520384e-02]\n",
      " [-4.70369484e-02]\n",
      " [-3.59742023e-02]\n",
      " [ 1.86820793e-02]\n",
      " [-7.43884593e-02]\n",
      " [-1.33151102e-01]\n",
      " [-7.07661013e-02]\n",
      " [-2.72518845e-03]\n",
      " [ 2.35970299e-01]\n",
      " [ 2.04560774e-01]\n",
      " [ 3.33958338e-02]\n",
      " [ 1.62045771e-01]\n",
      " [-1.31903316e-02]\n",
      " [-5.55490755e-02]\n",
      " [-3.25676727e-01]\n",
      " [-3.80425410e-01]\n",
      " [-3.32371993e-01]\n",
      " [-1.60589317e-01]\n",
      " [-2.93304023e-01]\n",
      " [-1.04418306e-01]\n",
      " [ 1.42600416e-01]\n",
      " [ 5.43108439e-01]\n",
      " [ 5.11068025e-01]\n",
      " [ 5.70762161e-01]\n",
      " [ 4.34043010e-01]\n",
      " [ 3.47442187e-01]\n",
      " [ 4.09389560e-02]\n",
      " [-2.79625466e-01]\n",
      " [-3.39304432e-01]\n",
      " [-4.79937790e-01]\n",
      " [-6.99414551e-01]\n",
      " [-4.51044147e-01]\n",
      " [-2.46140902e-01]\n",
      " [ 1.56727968e-01]\n",
      " [ 3.98770437e-01]\n",
      " [ 4.57646578e-01]\n",
      " [ 6.44024002e-01]\n",
      " [ 7.05513087e-01]\n",
      " [ 6.53773772e-01]\n",
      " [ 2.84674257e-01]\n",
      " [-5.50412580e-02]\n",
      " [-5.16485094e-01]\n",
      " [-6.72527373e-01]\n",
      " [-8.40246599e-01]\n",
      " [-7.31636917e-01]\n",
      " [-7.68915027e-01]\n",
      " [-9.65485909e-02]\n",
      " [ 1.79036447e-01]\n",
      " [ 5.02178906e-01]\n",
      " [ 6.44489605e-01]\n",
      " [ 1.01798458e+00]\n",
      " [ 9.39815138e-01]\n",
      " [ 5.94161812e-01]\n",
      " [ 2.79791222e-01]\n",
      " [-2.45955148e-01]\n",
      " [-6.15529672e-01]\n",
      " [-8.76781449e-01]\n",
      " [-9.45975020e-01]\n",
      " [-8.08452125e-01]\n",
      " [-6.02468473e-01]\n",
      " [-1.33008844e-01]\n",
      " [ 3.76128907e-01]\n",
      " [ 7.65141118e-01]\n",
      " [ 9.53910425e-01]\n",
      " [ 1.03153062e+00]\n",
      " [ 8.98919799e-01]\n",
      " [ 4.76115923e-01]\n",
      " [ 3.15218276e-01]\n",
      " [-1.95514652e-01]\n",
      " [-6.76303900e-01]\n",
      " [-1.12124334e+00]\n",
      " [-9.76206727e-01]\n",
      " [-7.54846739e-01]\n",
      " [-3.86573430e-01]\n",
      " [-7.62748181e-02]\n",
      " [ 5.22294660e-01]\n",
      " [ 7.40357923e-01]\n",
      " [ 9.94562337e-01]\n",
      " [ 1.10623667e+00]\n",
      " [ 7.14420829e-01]\n",
      " [ 3.47199471e-01]\n",
      " [-9.27391740e-04]\n",
      " [-2.90605999e-01]\n",
      " [-7.70720960e-01]\n",
      " [-8.78499388e-01]\n",
      " [-9.46258098e-01]\n",
      " [-7.34351600e-01]\n",
      " [-3.79068355e-01]\n",
      " [ 1.70517581e-01]\n",
      " [ 5.29329796e-01]\n",
      " [ 7.63706396e-01]\n",
      " [ 8.19116635e-01]\n",
      " [ 8.53160050e-01]\n",
      " [ 7.99307128e-01]\n",
      " [ 2.08427075e-01]\n",
      " [-1.86414795e-01]\n",
      " [-4.54347540e-01]\n",
      " [-4.60510403e-01]\n",
      " [-8.07581104e-01]\n",
      " [-8.65960226e-01]\n",
      " [-3.88494266e-01]\n",
      " [-1.42216136e-01]\n",
      " [ 2.02249515e-01]\n",
      " [ 5.49855273e-01]\n",
      " [ 4.16061462e-01]]\n",
      "[[ 0.7455389 ]\n",
      " [ 0.68002416]\n",
      " [ 0.33028677]\n",
      " [ 0.06922018]\n",
      " [-0.04939921]\n",
      " [-0.54866364]\n",
      " [-0.45975249]\n",
      " [-0.60983968]\n",
      " [-0.43943144]\n",
      " [-0.26504637]]\n"
     ]
    }
   ],
   "source": [
    "print(X.shape)\n",
    "print(Y.shape)\n",
    "print(X[0])\n",
    "print(Y[0])"
   ]
  },
  {
   "cell_type": "markdown",
   "metadata": {
    "colab_type": "text",
    "id": "M8xZadZfp_z_"
   },
   "source": [
    "### Build network\n",
    "Here we define a Neural network with 1D convolutions and \"causal\" padding. \n",
    "\n",
    "Build a first model using the causal convolutions. Don't specify the sequence length (batch_input_shape=(None, None, 1)), so you can use a different sequence length in prediction later. The network should have 4, 1-dimensional convolutional layers, with a kernelsize of `ks=5` and 32 feartures. Use the keras function `Convolution1D` for that. The network should report 10 values that the end. You can achive this with the function.\n",
    "\n",
    "```{pyhon}\n",
    "def slice(x, slice_length):\n",
    "    return x[:,-slice_length:,:]\n",
    "...\n",
    "model1.add(Lambda(slice, arguments={'slice_length':look_ahead}))\n",
    "```\n",
    "\n",
    "Which you add at the end of the network.\n",
    "\n",
    "Use the first 800 sequences for training and the last 200 for validation. As loss function we use the mean squared error (MSE). You should get a MSE of approx 0.02 to 0.03."
   ]
  },
  {
   "cell_type": "code",
   "execution_count": 5,
   "metadata": {},
   "outputs": [
    {
     "data": {
      "text/plain": [
       "'2.4.0'"
      ]
     },
     "execution_count": 5,
     "metadata": {},
     "output_type": "execute_result"
    }
   ],
   "source": [
    "import numpy as np\n",
    "import matplotlib.pyplot as plt\n",
    "\n",
    "\n",
    "\n",
    "import tensorflow as tf\n",
    "import tensorflow.keras as keras\n",
    "from tensorflow.keras.models import Sequential\n",
    "from tensorflow.keras.layers import Dense, Convolution2D, MaxPooling2D, Flatten , Activation, Dropout,Convolution1D,SimpleRNN\n",
    "from tensorflow.keras.optimizers import SGD\n",
    "tf.__version__"
   ]
  },
  {
   "cell_type": "code",
   "execution_count": 6,
   "metadata": {},
   "outputs": [],
   "source": [
    "def slice(x, slice_length):\n",
    "    return x[:,-slice_length:,:]"
   ]
  },
  {
   "cell_type": "code",
   "execution_count": 7,
   "metadata": {
    "colab": {
     "base_uri": "https://localhost:8080/",
     "height": 363
    },
    "colab_type": "code",
    "id": "eicNaym0patz",
    "outputId": "ba6890af-f4f2-4fe6-fb58-3ea3a6408ddc"
   },
   "outputs": [],
   "source": [
    "model = Sequential()\n",
    "model.add(Convolution1D(32, kernel_size=(5),activation='relu',batch_input_shape=(None, None, 1),padding=\"causal\"))\n",
    "model.add(Convolution1D(32, kernel_size=(5),activation='relu',batch_input_shape=(None, None, 1),padding=\"causal\"))\n",
    "model.add(Convolution1D(32, kernel_size=(5),activation='relu',batch_input_shape=(None, None, 1),padding=\"causal\"))\n",
    "model.add(Convolution1D(32, kernel_size=(5),activation='relu',batch_input_shape=(None, None, 1),padding=\"causal\"))\n",
    "model.add(Dense(1,activation=\"linear\"))\n",
    "model.add(Lambda(slice, arguments={'slice_length':look_ahead}))\n",
    "\n",
    "\n"
   ]
  },
  {
   "cell_type": "markdown",
   "metadata": {},
   "source": [
    "# Model: \"sequential\"\n",
    "_________________________________________________________________\n",
    "Layer (type)                 Output Shape              Param #   \n",
    "=================================================================\n",
    "conv1d (Conv1D)              (None, None, 32)          192       \n",
    "_________________________________________________________________\n",
    "conv1d_1 (Conv1D)            (None, None, 32)          5152      \n",
    "_________________________________________________________________\n",
    "conv1d_2 (Conv1D)            (None, None, 32)          5152      \n",
    "_________________________________________________________________\n",
    "conv1d_3 (Conv1D)            (None, None, 32)          5152      \n",
    "_________________________________________________________________\n",
    "dense (Dense)                (None, None, 1)           33        \n",
    "_________________________________________________________________\n",
    "lambda (Lambda)              (None, None, 1)           0         \n",
    "=================================================================\n",
    "Total params: 15,681\n",
    "Trainable params: 15,681\n",
    "Non-trainable params: 0\n",
    "_________________________________________________________________"
   ]
  },
  {
   "cell_type": "code",
   "execution_count": 8,
   "metadata": {},
   "outputs": [
    {
     "name": "stdout",
     "output_type": "stream",
     "text": [
      "(800, 128, 1)\n",
      "Epoch 1/10\n",
      "80/80 [==============================] - 2s 19ms/step - loss: 0.2038 - mse: 0.2038 - val_loss: 0.0655 - val_mse: 0.0655\n",
      "Epoch 2/10\n",
      "80/80 [==============================] - 0s 6ms/step - loss: 0.0578 - mse: 0.0578 - val_loss: 0.0397 - val_mse: 0.0397\n",
      "Epoch 3/10\n",
      "80/80 [==============================] - 0s 6ms/step - loss: 0.0415 - mse: 0.0415 - val_loss: 0.0358 - val_mse: 0.0358\n",
      "Epoch 4/10\n",
      "80/80 [==============================] - 1s 6ms/step - loss: 0.0377 - mse: 0.0377 - val_loss: 0.0339 - val_mse: 0.0339\n",
      "Epoch 5/10\n",
      "80/80 [==============================] - 0s 6ms/step - loss: 0.0356 - mse: 0.0356 - val_loss: 0.0328 - val_mse: 0.0328\n",
      "Epoch 6/10\n",
      "80/80 [==============================] - 0s 6ms/step - loss: 0.0344 - mse: 0.0344 - val_loss: 0.0318 - val_mse: 0.0318\n",
      "Epoch 7/10\n",
      "80/80 [==============================] - 0s 6ms/step - loss: 0.0337 - mse: 0.0337 - val_loss: 0.0313 - val_mse: 0.0313\n",
      "Epoch 8/10\n",
      "80/80 [==============================] - 0s 6ms/step - loss: 0.0340 - mse: 0.0340 - val_loss: 0.0306 - val_mse: 0.0306\n",
      "Epoch 9/10\n",
      "80/80 [==============================] - 0s 6ms/step - loss: 0.0315 - mse: 0.0315 - val_loss: 0.0297 - val_mse: 0.0297\n",
      "Epoch 10/10\n",
      "80/80 [==============================] - 0s 6ms/step - loss: 0.0322 - mse: 0.0322 - val_loss: 0.0293 - val_mse: 0.0293\n"
     ]
    }
   ],
   "source": [
    "trainings_data =X[:800]\n",
    "trainings_class =Y[:800]\n",
    "valid_data =X[800:]\n",
    "valid_class = Y[800:]\n",
    "print(trainings_data.shape)\n",
    "\n",
    "# Optimierer\n",
    "eta = 0.01                  # learning rate\n",
    "wdecay = 0.1/np.shape(trainings_data)[0]    # weight decay\n",
    "sgd = SGD(lr=eta, decay=wdecay)\n",
    "\n",
    "model.compile(loss=tf.keras.losses.MeanSquaredError(),\n",
    "              optimizer = sgd,\n",
    "              metrics=['mse'])\n",
    "\n",
    "history = model.fit(trainings_data,trainings_class,                    \n",
    "          batch_size=10,\n",
    "          epochs=10, \n",
    "          validation_data=(valid_data,valid_class))\n",
    "\n"
   ]
  },
  {
   "cell_type": "code",
   "execution_count": 9,
   "metadata": {},
   "outputs": [
    {
     "name": "stdout",
     "output_type": "stream",
     "text": [
      "Model: \"sequential\"\n",
      "_________________________________________________________________\n",
      "Layer (type)                 Output Shape              Param #   \n",
      "=================================================================\n",
      "conv1d (Conv1D)              (None, None, 32)          192       \n",
      "_________________________________________________________________\n",
      "conv1d_1 (Conv1D)            (None, None, 32)          5152      \n",
      "_________________________________________________________________\n",
      "conv1d_2 (Conv1D)            (None, None, 32)          5152      \n",
      "_________________________________________________________________\n",
      "conv1d_3 (Conv1D)            (None, None, 32)          5152      \n",
      "_________________________________________________________________\n",
      "dense (Dense)                (None, None, 1)           33        \n",
      "_________________________________________________________________\n",
      "lambda (Lambda)              (None, None, 1)           0         \n",
      "=================================================================\n",
      "Total params: 15,681\n",
      "Trainable params: 15,681\n",
      "Non-trainable params: 0\n",
      "_________________________________________________________________\n"
     ]
    }
   ],
   "source": [
    "model.summary()"
   ]
  },
  {
   "cell_type": "markdown",
   "metadata": {
    "colab_type": "text",
    "id": "VKVL1GP9fF6C"
   },
   "source": [
    "### Make repeated predictions\n",
    "\n"
   ]
  },
  {
   "cell_type": "markdown",
   "metadata": {
    "colab_type": "text",
    "id": "_cR-davRpauF"
   },
   "source": [
    "Since we work with simulated data, we can produce as much new data as we like. We can also switch off the noise and check how well the model can extract the real underlying pattern in the data."
   ]
  },
  {
   "cell_type": "code",
   "execution_count": 11,
   "metadata": {
    "colab": {
     "base_uri": "https://localhost:8080/",
     "height": 104
    },
    "colab_type": "code",
    "id": "FRVVMvrhdy6J",
    "outputId": "73b71cb2-fb80-4ed6-e4ae-abd82efc0eda"
   },
   "outputs": [
    {
     "name": "stdout",
     "output_type": "stream",
     "text": [
      "(1, 128, 1)\n",
      "(1, 10, 1)\n"
     ]
    },
    {
     "data": {
      "text/plain": [
       "array([ 0.9712118 ,  0.860772  ,  0.60165966,  0.2860713 , -0.11036483,\n",
       "       -0.49158832, -0.7230251 , -0.8018463 , -0.67408884, -0.41780105],\n",
       "      dtype=float32)"
      ]
     },
     "execution_count": 11,
     "metadata": {},
     "output_type": "execute_result"
    }
   ],
   "source": [
    "x_test,y_test = gen_data(size=1,noise=0.0)\n",
    "print(x_test.shape)\n",
    "print(y_test.shape)\n",
    "model.predict(x_test).reshape(-1)#Predicts 10 value"
   ]
  },
  {
   "cell_type": "markdown",
   "metadata": {
    "colab_type": "text",
    "id": "Grw9QTLDepnB"
   },
   "source": [
    "Write a function which predicts 10 values from a starting sequence of size 128. Then add these predicted values to the starting sequence and uses this sequence of length 138 as a new starting sequence. Repeat this procedure 12 times. You should get a prediction for 120 time points in the future.  "
   ]
  },
  {
   "cell_type": "code",
   "execution_count": 12,
   "metadata": {
    "colab": {},
    "colab_type": "code",
    "id": "l3jEUp5FpauG"
   },
   "outputs": [
    {
     "data": {
      "image/png": "[encoded data removed]",
      "text/plain": [
       "<Figure size 360x72 with 1 Axes>"
      ]
     },
     "metadata": {
      "needs_background": "light"
     },
     "output_type": "display_data"
    }
   ],
   "source": [
    "x_training,y_training = gen_data(size=1,noise =0.0)\n",
    "for i in range(0,12):\n",
    "    data = model.predict(x_training)\n",
    "    x_training = np.concatenate((x_training, data), axis=1)\n",
    "plt.figure(num=None, figsize=(5,1))  \n",
    "plt.plot(range(0, x_training[0].shape[0]),x_training[0],'b-')\n",
    "plt.show()"
   ]
  },
  {
   "cell_type": "markdown",
   "metadata": {
    "colab_type": "text",
    "id": "gii40ZQqs-DJ"
   },
   "source": [
    "## B) 1D Convolution with dilation rate\n"
   ]
  },
  {
   "cell_type": "markdown",
   "metadata": {
    "colab_type": "text",
    "id": "KG-10GeCsi_s"
   },
   "source": [
    "Here we define a Neural network with 1D convolutions and \"causal\" padding, this time with dilation rate, so we are able to look back longer in time (see figure below)\n",
    " \n",
    "![](https://i.stack.imgur.com/20xRe.png)"
   ]
  },
  {
   "cell_type": "markdown",
   "metadata": {
    "colab_type": "text",
    "id": "Xht-oURyid28"
   },
   "source": [
    "Build the same network as in A) but this time with dilation_rates 1,2,4,8 "
   ]
  },
  {
   "cell_type": "code",
   "execution_count": 13,
   "metadata": {},
   "outputs": [],
   "source": [
    "model = Sequential()\n",
    "model.add(Convolution1D(32, kernel_size=(5),activation='relu',batch_input_shape=(None, None, 1),padding=\"causal\",dilation_rate=1))\n",
    "model.add(Convolution1D(32, kernel_size=(5),activation='relu',batch_input_shape=(None, None, 1),padding=\"causal\",dilation_rate=2))\n",
    "model.add(Convolution1D(32, kernel_size=(5),activation='relu',batch_input_shape=(None, None, 1),padding=\"causal\",dilation_rate=4))\n",
    "model.add(Convolution1D(32, kernel_size=(5),activation='relu',batch_input_shape=(None, None, 1),padding=\"causal\",dilation_rate=8))\n",
    "model.add(Dense(1,activation=\"linear\"))\n",
    "model.add(Lambda(slice, arguments={'slice_length':look_ahead}))"
   ]
  },
  {
   "cell_type": "code",
   "execution_count": 14,
   "metadata": {},
   "outputs": [
    {
     "name": "stdout",
     "output_type": "stream",
     "text": [
      "(800, 128, 1)\n",
      "Epoch 1/10\n",
      "80/80 [==============================] - 1s 9ms/step - loss: 0.2207 - mse: 0.2207 - val_loss: 0.1196 - val_mse: 0.1196\n",
      "Epoch 2/10\n",
      "80/80 [==============================] - 1s 6ms/step - loss: 0.1067 - mse: 0.1067 - val_loss: 0.0709 - val_mse: 0.0709\n",
      "Epoch 3/10\n",
      "80/80 [==============================] - 0s 6ms/step - loss: 0.0709 - mse: 0.0709 - val_loss: 0.0523 - val_mse: 0.0523\n",
      "Epoch 4/10\n",
      "80/80 [==============================] - 0s 6ms/step - loss: 0.0510 - mse: 0.0510 - val_loss: 0.0379 - val_mse: 0.0379\n",
      "Epoch 5/10\n",
      "80/80 [==============================] - 0s 6ms/step - loss: 0.0368 - mse: 0.0368 - val_loss: 0.0281 - val_mse: 0.0281\n",
      "Epoch 6/10\n",
      "80/80 [==============================] - 0s 6ms/step - loss: 0.0278 - mse: 0.0278 - val_loss: 0.0219 - val_mse: 0.0219\n",
      "Epoch 7/10\n",
      "80/80 [==============================] - 0s 6ms/step - loss: 0.0209 - mse: 0.0209 - val_loss: 0.0185 - val_mse: 0.0185\n",
      "Epoch 8/10\n",
      "80/80 [==============================] - 0s 6ms/step - loss: 0.0178 - mse: 0.0178 - val_loss: 0.0170 - val_mse: 0.0170\n",
      "Epoch 9/10\n",
      "80/80 [==============================] - 0s 6ms/step - loss: 0.0165 - mse: 0.0165 - val_loss: 0.0156 - val_mse: 0.0156\n",
      "Epoch 10/10\n",
      "80/80 [==============================] - 0s 6ms/step - loss: 0.0160 - mse: 0.0160 - val_loss: 0.0152 - val_mse: 0.0152\n"
     ]
    }
   ],
   "source": [
    "trainings_data =X[:800]\n",
    "trainings_class =Y[:800]\n",
    "valid_data =X[800:]\n",
    "valid_class = Y[800:]\n",
    "print(trainings_data.shape)\n",
    "\n",
    "# Optimierer\n",
    "eta = 0.01                  # learning rate\n",
    "wdecay = 0.1/np.shape(trainings_data)[0]    # weight decay\n",
    "sgd = SGD(lr=eta, decay=wdecay)\n",
    "\n",
    "model.compile(loss=tf.keras.losses.MeanSquaredError(),\n",
    "              optimizer = sgd,\n",
    "              metrics=['mse'])\n",
    "\n",
    "history = model.fit(trainings_data,trainings_class,\n",
    "                    \n",
    "          batch_size=10,\n",
    "          epochs=10, \n",
    "          validation_data=(valid_data,valid_class))"
   ]
  },
  {
   "cell_type": "code",
   "execution_count": 15,
   "metadata": {},
   "outputs": [
    {
     "name": "stdout",
     "output_type": "stream",
     "text": [
      "Model: \"sequential_1\"\n",
      "_________________________________________________________________\n",
      "Layer (type)                 Output Shape              Param #   \n",
      "=================================================================\n",
      "conv1d_4 (Conv1D)            (None, None, 32)          192       \n",
      "_________________________________________________________________\n",
      "conv1d_5 (Conv1D)            (None, None, 32)          5152      \n",
      "_________________________________________________________________\n",
      "conv1d_6 (Conv1D)            (None, None, 32)          5152      \n",
      "_________________________________________________________________\n",
      "conv1d_7 (Conv1D)            (None, None, 32)          5152      \n",
      "_________________________________________________________________\n",
      "dense_1 (Dense)              (None, None, 1)           33        \n",
      "_________________________________________________________________\n",
      "lambda_1 (Lambda)            (None, None, 1)           0         \n",
      "=================================================================\n",
      "Total params: 15,681\n",
      "Trainable params: 15,681\n",
      "Non-trainable params: 0\n",
      "_________________________________________________________________\n"
     ]
    }
   ],
   "source": [
    "model.summary()"
   ]
  },
  {
   "cell_type": "markdown",
   "metadata": {
    "colab_type": "text",
    "id": "zSznQxmZjGhU"
   },
   "source": [
    "### Make repeated predictions\n",
    "As in A) make preaded preditions on noise less data."
   ]
  },
  {
   "cell_type": "code",
   "execution_count": 16,
   "metadata": {},
   "outputs": [
    {
     "data": {
      "image/png": "[encoded data removed]",
      "text/plain": [
       "<Figure size 360x72 with 1 Axes>"
      ]
     },
     "metadata": {
      "needs_background": "light"
     },
     "output_type": "display_data"
    }
   ],
   "source": [
    "x_training,y_training = gen_data(size=1,noise =0.0)\n",
    "for i in range(0,12):\n",
    "    data = model.predict(x_training)\n",
    "    x_training = np.concatenate((x_training, data), axis=1)\n",
    "plt.figure(num=None, figsize=(5,1))  \n",
    "plt.plot(range(0, x_training[0].shape[0]),x_training[0],'b-')\n",
    "plt.show()"
   ]
  },
  {
   "cell_type": "markdown",
   "metadata": {
    "colab_type": "text",
    "id": "Qmwo6fh9pauo"
   },
   "source": [
    "## C) Simple RNN\n",
    "\n",
    "Now, use a RNN cell Keras `SimpleRNN` to see if we are able to learn the data generating process. Start with a hidden state size of 12. Repeat the task from A) and B). Consider to add several layers of cells and play with the state size."
   ]
  },
  {
   "cell_type": "code",
   "execution_count": 17,
   "metadata": {},
   "outputs": [
    {
     "name": "stdout",
     "output_type": "stream",
     "text": [
      "Model: \"sequential_2\"\n",
      "_________________________________________________________________\n",
      "Layer (type)                 Output Shape              Param #   \n",
      "=================================================================\n",
      "simple_rnn (SimpleRNN)       (None, None, 12)          168       \n",
      "_________________________________________________________________\n",
      "simple_rnn_1 (SimpleRNN)     (None, None, 12)          300       \n",
      "_________________________________________________________________\n",
      "simple_rnn_2 (SimpleRNN)     (None, None, 12)          300       \n",
      "_________________________________________________________________\n",
      "simple_rnn_3 (SimpleRNN)     (None, None, 12)          300       \n",
      "_________________________________________________________________\n",
      "dense_2 (Dense)              (None, None, 1)           13        \n",
      "_________________________________________________________________\n",
      "lambda_2 (Lambda)            (None, None, 1)           0         \n",
      "=================================================================\n",
      "Total params: 1,081\n",
      "Trainable params: 1,081\n",
      "Non-trainable params: 0\n",
      "_________________________________________________________________\n"
     ]
    }
   ],
   "source": [
    "model = Sequential()\n",
    "model.add(SimpleRNN(12,batch_input_shape=(None,None,1),input_shape=(1,1),return_sequences = True))\n",
    "model.add(SimpleRNN(12,batch_input_shape=(None,None,1),input_shape=(1,2),return_sequences = True))\n",
    "model.add(SimpleRNN(12,batch_input_shape=(None,None,1),input_shape=(1,4),return_sequences = True))\n",
    "model.add(SimpleRNN(12,batch_input_shape=(None,None,1),input_shape=(1,8),return_sequences = True))\n",
    "#model.add(SimpleRNN(12,batch_input_shape=(None,None,1),return_sequences = True))\n",
    "model.add(Dense(1,activation=\"linear\"))\n",
    "\n",
    "model.add(Lambda(slice, arguments={'slice_length':look_ahead}))\n",
    "# Optimierer\n",
    "eta = 0.01                  # learning rate\n",
    "wdecay = 0.1/np.shape(trainings_data)[0]    # weight decay\n",
    "sgd = SGD(lr=eta, decay=wdecay)\n",
    "\n",
    "model.compile(loss = \"mse\",optimizer = sgd)\n",
    "model.summary()"
   ]
  },
  {
   "cell_type": "code",
   "execution_count": 18,
   "metadata": {},
   "outputs": [
    {
     "name": "stdout",
     "output_type": "stream",
     "text": [
      "(800, 128, 1)\n",
      "Epoch 1/10\n",
      "80/80 [==============================] - 8s 63ms/step - loss: 0.1050 - val_loss: 0.0350\n",
      "Epoch 2/10\n",
      "80/80 [==============================] - 4s 55ms/step - loss: 0.0341 - val_loss: 0.0306\n",
      "Epoch 3/10\n",
      "80/80 [==============================] - 4s 54ms/step - loss: 0.0300 - val_loss: 0.0280\n",
      "Epoch 4/10\n",
      "80/80 [==============================] - 4s 53ms/step - loss: 0.0288 - val_loss: 0.0260\n",
      "Epoch 5/10\n",
      "80/80 [==============================] - 4s 53ms/step - loss: 0.0262 - val_loss: 0.0250\n",
      "Epoch 6/10\n",
      "80/80 [==============================] - 4s 53ms/step - loss: 0.0259 - val_loss: 0.0241\n",
      "Epoch 7/10\n",
      "80/80 [==============================] - 4s 53ms/step - loss: 0.0255 - val_loss: 0.0239\n",
      "Epoch 8/10\n",
      "80/80 [==============================] - 4s 53ms/step - loss: 0.0246 - val_loss: 0.0230\n",
      "Epoch 9/10\n",
      "80/80 [==============================] - 4s 53ms/step - loss: 0.0238 - val_loss: 0.0234\n",
      "Epoch 10/10\n",
      "80/80 [==============================] - 4s 52ms/step - loss: 0.0235 - val_loss: 0.0231\n"
     ]
    }
   ],
   "source": [
    "trainings_data =X[:800]\n",
    "trainings_class =Y[:800]\n",
    "valid_data =X[800:]\n",
    "valid_class = Y[800:]\n",
    "print(trainings_data.shape)\n",
    "\n",
    "history = model.fit(trainings_data,trainings_class,\n",
    "                    \n",
    "          batch_size=10,\n",
    "          epochs=10, \n",
    "          validation_data=(valid_data,valid_class))"
   ]
  },
  {
   "cell_type": "markdown",
   "metadata": {
    "colab_type": "text",
    "id": "Fe4y8qO5kGaG"
   },
   "source": [
    "### Make repeated predictions\n",
    "As in A) make preaded preditions on noise less data."
   ]
  },
  {
   "cell_type": "code",
   "execution_count": 19,
   "metadata": {},
   "outputs": [
    {
     "data": {
      "image/png": "[encoded data removed]",
      "text/plain": [
       "<Figure size 360x72 with 1 Axes>"
      ]
     },
     "metadata": {
      "needs_background": "light"
     },
     "output_type": "display_data"
    }
   ],
   "source": [
    "x_training,y_training = gen_data(size=1,noise =0.0)\n",
    "for i in range(0,12):\n",
    "    data = model.predict(x_training)\n",
    "    x_training = np.concatenate((x_training, data), axis=1)\n",
    "plt.figure(num=None, figsize=(5,1))  \n",
    "plt.plot(range(0, x_training[0].shape[0]),x_training[0],'b-')\n",
    "plt.show()"
   ]
  },
  {
   "cell_type": "markdown",
   "metadata": {
    "colab_type": "text",
    "id": "sw8pkdW4l96k"
   },
   "source": [
    "## D) LSTM Cell\n",
    "Repeat C) but now with an LSTM cell."
   ]
  },
  {
   "cell_type": "code",
   "execution_count": 20,
   "metadata": {},
   "outputs": [],
   "source": [
    "model = Sequential()\n",
    "model.add(LSTM(24,batch_input_shape=(None,None,1),input_shape=(1,1),return_sequences= True))\n",
    "#model.add(LSTM(24,batch_input_shape=(None,None,1),input_shape=(1,2),return_sequences= True))\n",
    "#model.add(LSTM(24,batch_input_shape=(None,None,1),input_shape=(1,4),return_sequences= True))\n",
    "#model.add(LSTM(24,batch_input_shape=(None,None,1),input_shape=(1,8),return_sequences= True))\n",
    "model.add(Dense(1,activation=\"linear\"))\n",
    "model.add(Lambda(slice, arguments={'slice_length':look_ahead}))"
   ]
  },
  {
   "cell_type": "code",
   "execution_count": 21,
   "metadata": {},
   "outputs": [
    {
     "name": "stdout",
     "output_type": "stream",
     "text": [
      "(800, 128, 1)\n",
      "Epoch 1/10\n",
      "80/80 [==============================] - 4s 27ms/step - loss: 0.2700 - mse: 0.2700 - val_loss: 0.1113 - val_mse: 0.1113\n",
      "Epoch 2/10\n",
      "80/80 [==============================] - 2s 20ms/step - loss: 0.0880 - mse: 0.0880 - val_loss: 0.0419 - val_mse: 0.0419\n",
      "Epoch 3/10\n",
      "80/80 [==============================] - 2s 19ms/step - loss: 0.0391 - mse: 0.0391 - val_loss: 0.0307 - val_mse: 0.0307\n",
      "Epoch 4/10\n",
      "80/80 [==============================] - 2s 20ms/step - loss: 0.0307 - mse: 0.0307 - val_loss: 0.0296 - val_mse: 0.0296\n",
      "Epoch 5/10\n",
      "80/80 [==============================] - 2s 20ms/step - loss: 0.0296 - mse: 0.0296 - val_loss: 0.0294 - val_mse: 0.0294\n",
      "Epoch 6/10\n",
      "80/80 [==============================] - 2s 20ms/step - loss: 0.0297 - mse: 0.0297 - val_loss: 0.0287 - val_mse: 0.0287\n",
      "Epoch 7/10\n",
      "80/80 [==============================] - 2s 20ms/step - loss: 0.0290 - mse: 0.0290 - val_loss: 0.0289 - val_mse: 0.0289\n",
      "Epoch 8/10\n",
      "80/80 [==============================] - 2s 20ms/step - loss: 0.0297 - mse: 0.0297 - val_loss: 0.0287 - val_mse: 0.0287\n",
      "Epoch 9/10\n",
      "80/80 [==============================] - 2s 20ms/step - loss: 0.0299 - mse: 0.0299 - val_loss: 0.0290 - val_mse: 0.0290\n",
      "Epoch 10/10\n",
      "80/80 [==============================] - 2s 20ms/step - loss: 0.0293 - mse: 0.0293 - val_loss: 0.0284 - val_mse: 0.0284\n"
     ]
    }
   ],
   "source": [
    "trainings_data =X[:800]\n",
    "trainings_class =Y[:800]\n",
    "valid_data =X[800:]\n",
    "valid_class = Y[800:]\n",
    "print(trainings_data.shape)\n",
    "\n",
    "# Optimierer\n",
    "eta = 0.04                  # learning rate\n",
    "wdecay = 0.1/np.shape(trainings_data)[0]    # weight decay\n",
    "sgd = SGD(lr=eta, decay=wdecay)\n",
    "\n",
    "model.compile(loss=tf.keras.losses.MeanSquaredError(),\n",
    "              optimizer = sgd,\n",
    "              metrics=['mse'])\n",
    "\n",
    "history = model.fit(trainings_data,trainings_class,\n",
    "                    \n",
    "          batch_size=10,\n",
    "          epochs=10, \n",
    "          validation_data=(valid_data,valid_class))"
   ]
  },
  {
   "cell_type": "code",
   "execution_count": 22,
   "metadata": {},
   "outputs": [
    {
     "name": "stdout",
     "output_type": "stream",
     "text": [
      "Model: \"sequential_3\"\n",
      "_________________________________________________________________\n",
      "Layer (type)                 Output Shape              Param #   \n",
      "=================================================================\n",
      "lstm (LSTM)                  (None, None, 24)          2496      \n",
      "_________________________________________________________________\n",
      "dense_3 (Dense)              (None, None, 1)           25        \n",
      "_________________________________________________________________\n",
      "lambda_3 (Lambda)            (None, None, 1)           0         \n",
      "=================================================================\n",
      "Total params: 2,521\n",
      "Trainable params: 2,521\n",
      "Non-trainable params: 0\n",
      "_________________________________________________________________\n"
     ]
    }
   ],
   "source": [
    "model.summary()"
   ]
  },
  {
   "cell_type": "code",
   "execution_count": 23,
   "metadata": {},
   "outputs": [
    {
     "data": {
      "image/png": "[encoded data removed]",
      "text/plain": [
       "<Figure size 360x72 with 1 Axes>"
      ]
     },
     "metadata": {
      "needs_background": "light"
     },
     "output_type": "display_data"
    }
   ],
   "source": [
    "x_training,y_training = gen_data(size=1,noise =0.0)\n",
    "for i in range(0,12):\n",
    "    data = model.predict(x_training)\n",
    "    x_training = np.concatenate((x_training, data), axis=1)\n",
    "plt.figure(num=None, figsize=(5,1))  \n",
    "plt.plot(range(0, x_training[0].shape[0]),x_training[0],'b-')\n",
    "plt.show()"
   ]
  },
  {
   "cell_type": "code",
   "execution_count": null,
   "metadata": {},
   "outputs": [],
   "source": []
  }
 ],
 "metadata": {
  "accelerator": "GPU",
  "colab": {
   "collapsed_sections": [],
   "name": "12_LSTM_vs_1DConv_solution.ipynb",
   "provenance": [],
   "toc_visible": true
  },
  "kernelspec": {
   "display_name": "Python 3",
   "language": "python",
   "name": "python3"
  },
  "language_info": {
   "codemirror_mode": {
    "name": "ipython",
    "version": 3
   },
   "file_extension": ".py",
   "mimetype": "text/x-python",
   "name": "python",
   "nbconvert_exporter": "python",
   "pygments_lexer": "ipython3",
   "version": "3.8.5"
  }
 },
 "nbformat": 4,
 "nbformat_minor": 1
}

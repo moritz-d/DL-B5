{
 "cells": [
  {
   "cell_type": "markdown",
   "metadata": {
    "colab_type": "text",
    "id": "kcB3r4vJpatQ"
   },
   "source": [
    "# Prediction of time series with different neural networks architectures\n",
    "\n",
    "In this notebook we will use different network architectures to predict the next steps for a time series. We compare: \n",
    "\n",
    "* 1D causal convolutional networks \n",
    "* 1D causal convolutional networks witho dilation rate\n",
    "* RNNs  \n",
    "* LSTMs\n",
    "\n",
    "We forecast a time series for longer times than we trained them on and compare the results of the different architectures. The goal is to capture the longterm dependencies of the time series.\n"
   ]
  },
  {
   "cell_type": "code",
   "execution_count": 1,
   "metadata": {
    "colab": {
     "base_uri": "https://localhost:8080/",
     "height": 35
    },
    "colab_type": "code",
    "id": "qGdc4oO6Bwt9",
    "outputId": "72ff3f71-ceab-41a1-c833-169d779b1f03"
   },
   "outputs": [],
   "source": [
    "try: #If running in colab \n",
    "    import google.colab\n",
    "    IN_COLAB = True \n",
    "    %tensorflow_version 2.x\n",
    "except:\n",
    "    IN_COLAB = False"
   ]
  },
  {
   "cell_type": "code",
   "execution_count": 201,
   "metadata": {
    "colab": {},
    "colab_type": "code",
    "id": "geSS6viBpatT"
   },
   "outputs": [],
   "source": [
    "# load required libraries:\n",
    "import numpy as np\n",
    "import matplotlib.pyplot as plt\n",
    "%matplotlib inline\n",
    "\n",
    "from tensorflow.keras.models import Sequential\n",
    "from tensorflow.keras.layers import Dense, Lambda, Convolution1D,LSTM, SimpleRNN ,Input\n"
   ]
  },
  {
   "cell_type": "markdown",
   "metadata": {
    "colab_type": "text",
    "id": "82ZRKcWopate"
   },
   "source": [
    "## Simulate some data\n",
    "\n",
    "We produce training data with two different time scales and a bit of noise. This produces 1000 curves which all follow the same pattern: a fast changing sine wave where the amplitude is modulated by a sine wave with lower frequency. To make it a bit more challenging, we add some noise at each timestep of the waves. All of the 1000 waves have the same pattern, however, the starting point is randomly shifted in time. One such example is shown the plot below. The first 128 data points are used as an input to the model (shown as a line). The model should predict the following 10 data points (shown as points). Note that the future data does not follow a smooth curve, but instead is ragged because of the random noise present in the data."
   ]
  },
  {
   "cell_type": "code",
   "execution_count": 3,
   "metadata": {
    "colab": {
     "base_uri": "https://localhost:8080/",
     "height": 315
    },
    "colab_type": "code",
    "id": "OlA9Vabapatf",
    "outputId": "3eb43c1c-9abd-4402-d28d-f74ef9b2304a"
   },
   "outputs": [
    {
     "data": {
      "image/png": "[encoded data removed]",
      "text/plain": [
       "<Figure size 360x144 with 1 Axes>"
      ]
     },
     "metadata": {
      "needs_background": "light"
     },
     "output_type": "display_data"
    },
    {
     "data": {
      "image/png": "[encoded data removed]",
      "text/plain": [
       "<Figure size 360x144 with 1 Axes>"
      ]
     },
     "metadata": {
      "needs_background": "light"
     },
     "output_type": "display_data"
    },
    {
     "name": "stdout",
     "output_type": "stream",
     "text": [
      "The training data X (solid) line and the next predictions Y (dotted), which should be forecasted.\n"
     ]
    }
   ],
   "source": [
    "np.random.seed(1) # Fixing the seed, so that data is always the same\n",
    "seq_length = 128  # Sequence length used for training\n",
    "look_ahead =  10  # The number of data points the model should predict \n",
    "\n",
    "\n",
    "def gen_data(size=1000, noise=0.1): # We create 1000 data-points\n",
    "  s = seq_length + look_ahead\n",
    "  d = np.zeros((size, s,1))\n",
    "  for i in range(size):\n",
    "    start = np.random.uniform(0, 2*np.pi) # Random start point\n",
    "    d[i,:,0] = np.sin(start + np.linspace(0, 20*np.pi, s)) * np.sin(start + np.linspace(0, np.pi, s)) + np.random.normal(0,noise,s)\n",
    "  return d[:,0:seq_length], d[:,seq_length:s]\n",
    "\n",
    "\n",
    "X,Y = gen_data()\n",
    "for i in range(2):\n",
    "  plt.figure(num=None, figsize=(5,2))  \n",
    "  plt.plot(range(0, seq_length),X[i,:,0],'b-')\n",
    "  plt.plot(range(seq_length, seq_length + look_ahead),Y[i,:,0],'bo',color='orange')\n",
    "\n",
    "plt.show()\n",
    "print('The training data X (solid) line and the next predictions Y (dotted), which should be forecasted.')"
   ]
  },
  {
   "cell_type": "markdown",
   "metadata": {
    "colab_type": "text",
    "id": "YbHIUaw3paty"
   },
   "source": [
    "## A) 1D Convolution without dilation rate"
   ]
  },
  {
   "cell_type": "code",
   "execution_count": 28,
   "metadata": {},
   "outputs": [
    {
     "name": "stdout",
     "output_type": "stream",
     "text": [
      "(1000, 128, 1)\n",
      "(1000, 10, 1)\n",
      "[[ 1.67851679e-01]\n",
      " [-1.49147717e-02]\n",
      " [-2.87128158e-01]\n",
      " [-4.95270896e-01]\n",
      " [-6.39140987e-01]\n",
      " [-2.74092878e-01]\n",
      " [-3.97587745e-01]\n",
      " [-9.06528408e-02]\n",
      " [-8.39834637e-02]\n",
      " [ 3.16094480e-01]\n",
      " [ 1.18608001e-01]\n",
      " [ 2.79278233e-01]\n",
      " [ 2.91331077e-01]\n",
      " [ 1.08574351e-01]\n",
      " [ 1.47504766e-01]\n",
      " [ 2.41033984e-02]\n",
      " [-2.48567041e-02]\n",
      " [-1.18996919e-01]\n",
      " [ 8.37736164e-02]\n",
      " [-4.76291011e-02]\n",
      " [ 7.03855096e-02]\n",
      " [-1.25288870e-01]\n",
      " [-8.25894554e-02]\n",
      " [ 9.26520384e-02]\n",
      " [-4.70369484e-02]\n",
      " [-3.59742023e-02]\n",
      " [ 1.86820793e-02]\n",
      " [-7.43884593e-02]\n",
      " [-1.33151102e-01]\n",
      " [-7.07661013e-02]\n",
      " [-2.72518845e-03]\n",
      " [ 2.35970299e-01]\n",
      " [ 2.04560774e-01]\n",
      " [ 3.33958338e-02]\n",
      " [ 1.62045771e-01]\n",
      " [-1.31903316e-02]\n",
      " [-5.55490755e-02]\n",
      " [-3.25676727e-01]\n",
      " [-3.80425410e-01]\n",
      " [-3.32371993e-01]\n",
      " [-1.60589317e-01]\n",
      " [-2.93304023e-01]\n",
      " [-1.04418306e-01]\n",
      " [ 1.42600416e-01]\n",
      " [ 5.43108439e-01]\n",
      " [ 5.11068025e-01]\n",
      " [ 5.70762161e-01]\n",
      " [ 4.34043010e-01]\n",
      " [ 3.47442187e-01]\n",
      " [ 4.09389560e-02]\n",
      " [-2.79625466e-01]\n",
      " [-3.39304432e-01]\n",
      " [-4.79937790e-01]\n",
      " [-6.99414551e-01]\n",
      " [-4.51044147e-01]\n",
      " [-2.46140902e-01]\n",
      " [ 1.56727968e-01]\n",
      " [ 3.98770437e-01]\n",
      " [ 4.57646578e-01]\n",
      " [ 6.44024002e-01]\n",
      " [ 7.05513087e-01]\n",
      " [ 6.53773772e-01]\n",
      " [ 2.84674257e-01]\n",
      " [-5.50412580e-02]\n",
      " [-5.16485094e-01]\n",
      " [-6.72527373e-01]\n",
      " [-8.40246599e-01]\n",
      " [-7.31636917e-01]\n",
      " [-7.68915027e-01]\n",
      " [-9.65485909e-02]\n",
      " [ 1.79036447e-01]\n",
      " [ 5.02178906e-01]\n",
      " [ 6.44489605e-01]\n",
      " [ 1.01798458e+00]\n",
      " [ 9.39815138e-01]\n",
      " [ 5.94161812e-01]\n",
      " [ 2.79791222e-01]\n",
      " [-2.45955148e-01]\n",
      " [-6.15529672e-01]\n",
      " [-8.76781449e-01]\n",
      " [-9.45975020e-01]\n",
      " [-8.08452125e-01]\n",
      " [-6.02468473e-01]\n",
      " [-1.33008844e-01]\n",
      " [ 3.76128907e-01]\n",
      " [ 7.65141118e-01]\n",
      " [ 9.53910425e-01]\n",
      " [ 1.03153062e+00]\n",
      " [ 8.98919799e-01]\n",
      " [ 4.76115923e-01]\n",
      " [ 3.15218276e-01]\n",
      " [-1.95514652e-01]\n",
      " [-6.76303900e-01]\n",
      " [-1.12124334e+00]\n",
      " [-9.76206727e-01]\n",
      " [-7.54846739e-01]\n",
      " [-3.86573430e-01]\n",
      " [-7.62748181e-02]\n",
      " [ 5.22294660e-01]\n",
      " [ 7.40357923e-01]\n",
      " [ 9.94562337e-01]\n",
      " [ 1.10623667e+00]\n",
      " [ 7.14420829e-01]\n",
      " [ 3.47199471e-01]\n",
      " [-9.27391740e-04]\n",
      " [-2.90605999e-01]\n",
      " [-7.70720960e-01]\n",
      " [-8.78499388e-01]\n",
      " [-9.46258098e-01]\n",
      " [-7.34351600e-01]\n",
      " [-3.79068355e-01]\n",
      " [ 1.70517581e-01]\n",
      " [ 5.29329796e-01]\n",
      " [ 7.63706396e-01]\n",
      " [ 8.19116635e-01]\n",
      " [ 8.53160050e-01]\n",
      " [ 7.99307128e-01]\n",
      " [ 2.08427075e-01]\n",
      " [-1.86414795e-01]\n",
      " [-4.54347540e-01]\n",
      " [-4.60510403e-01]\n",
      " [-8.07581104e-01]\n",
      " [-8.65960226e-01]\n",
      " [-3.88494266e-01]\n",
      " [-1.42216136e-01]\n",
      " [ 2.02249515e-01]\n",
      " [ 5.49855273e-01]\n",
      " [ 4.16061462e-01]]\n",
      "[[ 0.7455389 ]\n",
      " [ 0.68002416]\n",
      " [ 0.33028677]\n",
      " [ 0.06922018]\n",
      " [-0.04939921]\n",
      " [-0.54866364]\n",
      " [-0.45975249]\n",
      " [-0.60983968]\n",
      " [-0.43943144]\n",
      " [-0.26504637]]\n"
     ]
    }
   ],
   "source": [
    "print(X.shape)\n",
    "print(Y.shape)\n",
    "print(X[0])\n",
    "print(Y[0])"
   ]
  },
  {
   "cell_type": "markdown",
   "metadata": {
    "colab_type": "text",
    "id": "M8xZadZfp_z_"
   },
   "source": [
    "### Build network\n",
    "Here we define a Neural network with 1D convolutions and \"causal\" padding. \n",
    "\n",
    "Build a first model using the causal convolutions. Don't specify the sequence length (batch_input_shape=(None, None, 1)), so you can use a different sequence length in prediction later. The network should have 4, 1-dimensional convolutional layers, with a kernelsize of `ks=5` and 32 feartures. Use the keras function `Convolution1D` for that. The network should report 10 values that the end. You can achive this with the function.\n",
    "\n",
    "```{pyhon}\n",
    "def slice(x, slice_length):\n",
    "    return x[:,-slice_length:,:]\n",
    "...\n",
    "model1.add(Lambda(slice, arguments={'slice_length':look_ahead}))\n",
    "```\n",
    "\n",
    "Which you add at the end of the network.\n",
    "\n",
    "Use the first 800 sequences for training and the last 200 for validation. As loss function we use the mean squared error (MSE). You should get a MSE of approx 0.02 to 0.03."
   ]
  },
  {
   "cell_type": "code",
   "execution_count": 154,
   "metadata": {},
   "outputs": [
    {
     "data": {
      "text/plain": [
       "'2.4.0'"
      ]
     },
     "execution_count": 154,
     "metadata": {},
     "output_type": "execute_result"
    }
   ],
   "source": [
    "import numpy as np\n",
    "import matplotlib.pyplot as plt\n",
    "\n",
    "\n",
    "\n",
    "import tensorflow as tf\n",
    "import tensorflow.keras as keras\n",
    "from tensorflow.keras.models import Sequential\n",
    "from tensorflow.keras.layers import Dense, Convolution2D, MaxPooling2D, Flatten , Activation, Dropout,Convolution1D,SimpleRNN\n",
    "from tensorflow.keras.optimizers import SGD\n",
    "tf.__version__"
   ]
  },
  {
   "cell_type": "code",
   "execution_count": 33,
   "metadata": {},
   "outputs": [],
   "source": [
    "def slice(x, slice_length):\n",
    "    return x[:,-slice_length:,:]"
   ]
  },
  {
   "cell_type": "code",
   "execution_count": 105,
   "metadata": {
    "colab": {
     "base_uri": "https://localhost:8080/",
     "height": 363
    },
    "colab_type": "code",
    "id": "eicNaym0patz",
    "outputId": "ba6890af-f4f2-4fe6-fb58-3ea3a6408ddc"
   },
   "outputs": [],
   "source": [
    "model = Sequential()\n",
    "model.add(Convolution1D(32, kernel_size=(5),activation='relu',batch_input_shape=(None, None, 1),padding=\"causal\"))\n",
    "model.add(Convolution1D(32, kernel_size=(5),activation='relu',batch_input_shape=(None, None, 1),padding=\"causal\"))\n",
    "model.add(Convolution1D(32, kernel_size=(5),activation='relu',batch_input_shape=(None, None, 1),padding=\"causal\"))\n",
    "model.add(Convolution1D(32, kernel_size=(5),activation='relu',batch_input_shape=(None, None, 1),padding=\"causal\"))\n",
    "model.add(Dense(1,activation=\"linear\"))\n",
    "model.add(Lambda(slice, arguments={'slice_length':look_ahead}))\n",
    "\n",
    "\n"
   ]
  },
  {
   "cell_type": "markdown",
   "metadata": {},
   "source": [
    "# Model: \"sequential\"\n",
    "_________________________________________________________________\n",
    "Layer (type)                 Output Shape              Param #   \n",
    "=================================================================\n",
    "conv1d (Conv1D)              (None, None, 32)          192       \n",
    "_________________________________________________________________\n",
    "conv1d_1 (Conv1D)            (None, None, 32)          5152      \n",
    "_________________________________________________________________\n",
    "conv1d_2 (Conv1D)            (None, None, 32)          5152      \n",
    "_________________________________________________________________\n",
    "conv1d_3 (Conv1D)            (None, None, 32)          5152      \n",
    "_________________________________________________________________\n",
    "dense (Dense)                (None, None, 1)           33        \n",
    "_________________________________________________________________\n",
    "lambda (Lambda)              (None, None, 1)           0         \n",
    "=================================================================\n",
    "Total params: 15,681\n",
    "Trainable params: 15,681\n",
    "Non-trainable params: 0\n",
    "_________________________________________________________________"
   ]
  },
  {
   "cell_type": "code",
   "execution_count": 106,
   "metadata": {},
   "outputs": [
    {
     "name": "stdout",
     "output_type": "stream",
     "text": [
      "(800, 128, 1)\n",
      "Epoch 1/10\n",
      "80/80 [==============================] - 1s 9ms/step - loss: 0.2303 - mse: 0.2303 - val_loss: 0.1093 - val_mse: 0.1093\n",
      "Epoch 2/10\n",
      "80/80 [==============================] - 1s 7ms/step - loss: 0.0812 - mse: 0.0812 - val_loss: 0.0360 - val_mse: 0.0360\n",
      "Epoch 3/10\n",
      "80/80 [==============================] - 0s 6ms/step - loss: 0.0371 - mse: 0.0371 - val_loss: 0.0339 - val_mse: 0.0339\n",
      "Epoch 4/10\n",
      "80/80 [==============================] - 1s 6ms/step - loss: 0.0365 - mse: 0.0365 - val_loss: 0.0329 - val_mse: 0.0329\n",
      "Epoch 5/10\n",
      "80/80 [==============================] - 0s 6ms/step - loss: 0.0351 - mse: 0.0351 - val_loss: 0.0321 - val_mse: 0.0321\n",
      "Epoch 6/10\n",
      "80/80 [==============================] - 1s 6ms/step - loss: 0.0334 - mse: 0.0334 - val_loss: 0.0314 - val_mse: 0.0314\n",
      "Epoch 7/10\n",
      "80/80 [==============================] - 1s 7ms/step - loss: 0.0322 - mse: 0.0322 - val_loss: 0.0307 - val_mse: 0.0307\n",
      "Epoch 8/10\n",
      "80/80 [==============================] - 0s 6ms/step - loss: 0.0321 - mse: 0.0321 - val_loss: 0.0301 - val_mse: 0.0301\n",
      "Epoch 9/10\n",
      "80/80 [==============================] - 0s 6ms/step - loss: 0.0312 - mse: 0.0312 - val_loss: 0.0297 - val_mse: 0.0297\n",
      "Epoch 10/10\n",
      "80/80 [==============================] - 1s 6ms/step - loss: 0.0315 - mse: 0.0315 - val_loss: 0.0290 - val_mse: 0.0290\n"
     ]
    }
   ],
   "source": [
    "trainings_data =X[:800]\n",
    "trainings_class =Y[:800]\n",
    "valid_data =X[800:]\n",
    "valid_class = Y[800:]\n",
    "print(trainings_data.shape)\n",
    "\n",
    "# Optimierer\n",
    "eta = 0.01                  # learning rate\n",
    "wdecay = 0.1/np.shape(trainings_data)[0]    # weight decay\n",
    "sgd = SGD(lr=eta, decay=wdecay)\n",
    "\n",
    "model.compile(loss=tf.keras.losses.MeanSquaredError(),\n",
    "              optimizer = sgd,\n",
    "              metrics=['mse'])\n",
    "\n",
    "history = model.fit(trainings_data,trainings_class,\n",
    "                    \n",
    "          batch_size=10,\n",
    "          epochs=10, \n",
    "          validation_data=(valid_data,valid_class))\n",
    "\n"
   ]
  },
  {
   "cell_type": "code",
   "execution_count": 107,
   "metadata": {},
   "outputs": [
    {
     "name": "stdout",
     "output_type": "stream",
     "text": [
      "Model: \"sequential_23\"\n",
      "_________________________________________________________________\n",
      "Layer (type)                 Output Shape              Param #   \n",
      "=================================================================\n",
      "conv1d_82 (Conv1D)           (None, None, 32)          192       \n",
      "_________________________________________________________________\n",
      "conv1d_83 (Conv1D)           (None, None, 32)          5152      \n",
      "_________________________________________________________________\n",
      "conv1d_84 (Conv1D)           (None, None, 32)          5152      \n",
      "_________________________________________________________________\n",
      "conv1d_85 (Conv1D)           (None, None, 32)          5152      \n",
      "_________________________________________________________________\n",
      "dense_14 (Dense)             (None, None, 1)           33        \n",
      "_________________________________________________________________\n",
      "lambda_12 (Lambda)           (None, None, 1)           0         \n",
      "=================================================================\n",
      "Total params: 15,681\n",
      "Trainable params: 15,681\n",
      "Non-trainable params: 0\n",
      "_________________________________________________________________\n"
     ]
    },
    {
     "data": {
      "text/plain": [
       "array([[ 0.6451486 ],\n",
       "       [ 0.44185314],\n",
       "       [ 0.16441046],\n",
       "       [-0.0978705 ],\n",
       "       [-0.3187952 ],\n",
       "       [-0.4440521 ],\n",
       "       [-0.46691564],\n",
       "       [-0.34525388],\n",
       "       [-0.18720871],\n",
       "       [ 0.02227302]], dtype=float32)"
      ]
     },
     "execution_count": 107,
     "metadata": {},
     "output_type": "execute_result"
    }
   ],
   "source": [
    "model.summary()"
   ]
  },
  {
   "cell_type": "markdown",
   "metadata": {
    "colab_type": "text",
    "id": "VKVL1GP9fF6C"
   },
   "source": [
    "### Make repeated predictions\n",
    "\n"
   ]
  },
  {
   "cell_type": "markdown",
   "metadata": {
    "colab_type": "text",
    "id": "_cR-davRpauF"
   },
   "source": [
    "Since we work with simulated data, we can produce as much new data as we like. We can also switch off the noise and check how well the model can extract the real underlying pattern in the data."
   ]
  },
  {
   "cell_type": "code",
   "execution_count": null,
   "metadata": {
    "colab": {
     "base_uri": "https://localhost:8080/",
     "height": 104
    },
    "colab_type": "code",
    "id": "FRVVMvrhdy6J",
    "outputId": "73b71cb2-fb80-4ed6-e4ae-abd82efc0eda"
   },
   "outputs": [],
   "source": [
    "x_test,y_test = gen_data(size=1,noise=0.0)\n",
    "print(x_test.shape)\n",
    "print(y_test.shape)\n",
    "model1.predict(x_test).reshape(-1)#Predicts 10 value"
   ]
  },
  {
   "cell_type": "markdown",
   "metadata": {
    "colab_type": "text",
    "id": "Grw9QTLDepnB"
   },
   "source": [
    "Write a function which predicts 10 values from a starting sequence of size 128. Then add these predicted values to the starting sequence and uses this sequence of length 138 as a new starting sequence. Repeat this procedure 12 times. You should get a prediction for 120 time points in the future.  "
   ]
  },
  {
   "cell_type": "code",
   "execution_count": 149,
   "metadata": {
    "colab": {},
    "colab_type": "code",
    "id": "l3jEUp5FpauG"
   },
   "outputs": [
    {
     "data": {
      "image/png": "[encoded data removed]",
      "text/plain": [
       "<Figure size 360x72 with 1 Axes>"
      ]
     },
     "metadata": {
      "needs_background": "light"
     },
     "output_type": "display_data"
    }
   ],
   "source": [
    "x_training,y_training = gen_data(size=1,noise =0.0)\n",
    "for i in range(0,12):\n",
    "    data = model.predict(x_training)\n",
    "    x_training = np.concatenate((x_training, data), axis=1)\n",
    "plt.figure(num=None, figsize=(5,1))  \n",
    "plt.plot(range(0, x_training[0].shape[0]),x_training[0],'b-')\n",
    "plt.show()"
   ]
  },
  {
   "cell_type": "markdown",
   "metadata": {
    "colab_type": "text",
    "id": "gii40ZQqs-DJ"
   },
   "source": [
    "## B) 1D Convolution with dilation rate\n"
   ]
  },
  {
   "cell_type": "markdown",
   "metadata": {
    "colab_type": "text",
    "id": "KG-10GeCsi_s"
   },
   "source": [
    "Here we define a Neural network with 1D convolutions and \"causal\" padding, this time with dilation rate, so we are able to look back longer in time (see figure below)\n",
    " \n",
    "![](https://i.stack.imgur.com/20xRe.png)"
   ]
  },
  {
   "cell_type": "markdown",
   "metadata": {
    "colab_type": "text",
    "id": "Xht-oURyid28"
   },
   "source": [
    "Build the same network as in A) but this time with dilation_rates 1,2,4,8 "
   ]
  },
  {
   "cell_type": "code",
   "execution_count": 140,
   "metadata": {},
   "outputs": [],
   "source": [
    "model = Sequential()\n",
    "model.add(Convolution1D(32, kernel_size=(5),activation='relu',batch_input_shape=(None, None, 1),padding=\"causal\",dilation_rate=1))\n",
    "model.add(Convolution1D(32, kernel_size=(5),activation='relu',batch_input_shape=(None, None, 1),padding=\"causal\",dilation_rate=2))\n",
    "model.add(Convolution1D(32, kernel_size=(5),activation='relu',batch_input_shape=(None, None, 1),padding=\"causal\",dilation_rate=4))\n",
    "model.add(Convolution1D(32, kernel_size=(5),activation='relu',batch_input_shape=(None, None, 1),padding=\"causal\",dilation_rate=8))\n",
    "model.add(Dense(1,activation=\"linear\"))\n",
    "model.add(Lambda(slice, arguments={'slice_length':look_ahead}))"
   ]
  },
  {
   "cell_type": "code",
   "execution_count": 141,
   "metadata": {},
   "outputs": [
    {
     "name": "stdout",
     "output_type": "stream",
     "text": [
      "(800, 128, 1)\n",
      "Epoch 1/10\n",
      "80/80 [==============================] - 2s 9ms/step - loss: 0.2779 - mse: 0.2779 - val_loss: 0.1969 - val_mse: 0.1969\n",
      "Epoch 2/10\n",
      "80/80 [==============================] - 1s 6ms/step - loss: 0.1757 - mse: 0.1757 - val_loss: 0.1029 - val_mse: 0.1029\n",
      "Epoch 3/10\n",
      "80/80 [==============================] - 0s 6ms/step - loss: 0.0951 - mse: 0.0951 - val_loss: 0.0615 - val_mse: 0.0615\n",
      "Epoch 4/10\n",
      "80/80 [==============================] - 0s 6ms/step - loss: 0.0597 - mse: 0.0597 - val_loss: 0.0426 - val_mse: 0.0426\n",
      "Epoch 5/10\n",
      "80/80 [==============================] - 0s 6ms/step - loss: 0.0402 - mse: 0.0402 - val_loss: 0.0304 - val_mse: 0.0304\n",
      "Epoch 6/10\n",
      "80/80 [==============================] - 1s 6ms/step - loss: 0.0292 - mse: 0.0292 - val_loss: 0.0229 - val_mse: 0.0229\n",
      "Epoch 7/10\n",
      "80/80 [==============================] - 0s 6ms/step - loss: 0.0222 - mse: 0.0222 - val_loss: 0.0191 - val_mse: 0.0191\n",
      "Epoch 8/10\n",
      "80/80 [==============================] - 0s 6ms/step - loss: 0.0190 - mse: 0.0190 - val_loss: 0.0169 - val_mse: 0.0169\n",
      "Epoch 9/10\n",
      "80/80 [==============================] - 0s 6ms/step - loss: 0.0170 - mse: 0.0170 - val_loss: 0.0157 - val_mse: 0.0157\n",
      "Epoch 10/10\n",
      "80/80 [==============================] - 0s 6ms/step - loss: 0.0157 - mse: 0.0157 - val_loss: 0.0149 - val_mse: 0.0149\n"
     ]
    }
   ],
   "source": [
    "trainings_data =X[:800]\n",
    "trainings_class =Y[:800]\n",
    "valid_data =X[800:]\n",
    "valid_class = Y[800:]\n",
    "print(trainings_data.shape)\n",
    "\n",
    "# Optimierer\n",
    "eta = 0.01                  # learning rate\n",
    "wdecay = 0.1/np.shape(trainings_data)[0]    # weight decay\n",
    "sgd = SGD(lr=eta, decay=wdecay)\n",
    "\n",
    "model.compile(loss=tf.keras.losses.MeanSquaredError(),\n",
    "              optimizer = sgd,\n",
    "              metrics=['mse'])\n",
    "\n",
    "history = model.fit(trainings_data,trainings_class,\n",
    "                    \n",
    "          batch_size=10,\n",
    "          epochs=10, \n",
    "          validation_data=(valid_data,valid_class))"
   ]
  },
  {
   "cell_type": "code",
   "execution_count": 142,
   "metadata": {},
   "outputs": [
    {
     "name": "stdout",
     "output_type": "stream",
     "text": [
      "Model: \"sequential_26\"\n",
      "_________________________________________________________________\n",
      "Layer (type)                 Output Shape              Param #   \n",
      "=================================================================\n",
      "conv1d_94 (Conv1D)           (None, None, 32)          192       \n",
      "_________________________________________________________________\n",
      "conv1d_95 (Conv1D)           (None, None, 32)          5152      \n",
      "_________________________________________________________________\n",
      "conv1d_96 (Conv1D)           (None, None, 32)          5152      \n",
      "_________________________________________________________________\n",
      "conv1d_97 (Conv1D)           (None, None, 32)          5152      \n",
      "_________________________________________________________________\n",
      "dense_17 (Dense)             (None, None, 1)           33        \n",
      "_________________________________________________________________\n",
      "lambda_15 (Lambda)           (None, None, 1)           0         \n",
      "=================================================================\n",
      "Total params: 15,681\n",
      "Trainable params: 15,681\n",
      "Non-trainable params: 0\n",
      "_________________________________________________________________\n"
     ]
    }
   ],
   "source": [
    "model.summary()"
   ]
  },
  {
   "cell_type": "markdown",
   "metadata": {
    "colab_type": "text",
    "id": "zSznQxmZjGhU"
   },
   "source": [
    "### Make repeated predictions\n",
    "As in A) make preaded preditions on noise less data."
   ]
  },
  {
   "cell_type": "code",
   "execution_count": 151,
   "metadata": {},
   "outputs": [
    {
     "data": {
      "image/png": "[encoded data removed]",
      "text/plain": [
       "<Figure size 360x72 with 1 Axes>"
      ]
     },
     "metadata": {
      "needs_background": "light"
     },
     "output_type": "display_data"
    }
   ],
   "source": [
    "x_training,y_training = gen_data(size=1,noise =0.0)\n",
    "for i in range(0,12):\n",
    "    data = model.predict(x_training)\n",
    "    x_training = np.concatenate((x_training, data), axis=1)\n",
    "plt.figure(num=None, figsize=(5,1))  \n",
    "plt.plot(range(0, x_training[0].shape[0]),x_training[0],'b-')\n",
    "plt.show()"
   ]
  },
  {
   "cell_type": "markdown",
   "metadata": {
    "colab_type": "text",
    "id": "Qmwo6fh9pauo"
   },
   "source": [
    "## C) Simple RNN\n",
    "\n",
    "Now, use a RNN cell Keras `SimpleRNN` to see if we are able to learn the data generating process. Start with a hidden state size of 12. Repeat the task from A) and B). Consider to add several layers of cells and play with the state size."
   ]
  },
  {
   "cell_type": "code",
   "execution_count": 291,
   "metadata": {},
   "outputs": [
    {
     "name": "stdout",
     "output_type": "stream",
     "text": [
      "Model: \"sequential_108\"\n",
      "_________________________________________________________________\n",
      "Layer (type)                 Output Shape              Param #   \n",
      "=================================================================\n",
      "simple_rnn_69 (SimpleRNN)    (None, None, 12)          168       \n",
      "_________________________________________________________________\n",
      "simple_rnn_70 (SimpleRNN)    (None, None, 12)          300       \n",
      "_________________________________________________________________\n",
      "simple_rnn_71 (SimpleRNN)    (None, None, 12)          300       \n",
      "_________________________________________________________________\n",
      "simple_rnn_72 (SimpleRNN)    (None, None, 12)          300       \n",
      "_________________________________________________________________\n",
      "dense_63 (Dense)             (None, None, 1)           13        \n",
      "_________________________________________________________________\n",
      "lambda_54 (Lambda)           (None, None, 1)           0         \n",
      "=================================================================\n",
      "Total params: 1,081\n",
      "Trainable params: 1,081\n",
      "Non-trainable params: 0\n",
      "_________________________________________________________________\n"
     ]
    }
   ],
   "source": [
    "model = Sequential()\n",
    "model.add(SimpleRNN(12,batch_input_shape=(None,None,1),input_shape=(1,1),return_sequences = True))\n",
    "model.add(SimpleRNN(12,batch_input_shape=(None,None,1),input_shape=(1,2),return_sequences = True))\n",
    "model.add(SimpleRNN(12,batch_input_shape=(None,None,1),input_shape=(1,4),return_sequences = True))\n",
    "model.add(SimpleRNN(12,batch_input_shape=(None,None,1),input_shape=(1,8),return_sequences = True))\n",
    "#model.add(SimpleRNN(12,batch_input_shape=(None,None,1),return_sequences = True))\n",
    "model.add(Dense(1,activation=\"linear\"))\n",
    "\n",
    "model.add(Lambda(slice, arguments={'slice_length':look_ahead}))\n",
    "# Optimierer\n",
    "eta = 0.01                  # learning rate\n",
    "wdecay = 0.1/np.shape(trainings_data)[0]    # weight decay\n",
    "sgd = SGD(lr=eta, decay=wdecay)\n",
    "\n",
    "model.compile(loss = \"mse\",optimizer = sgd)\n",
    "model.summary()"
   ]
  },
  {
   "cell_type": "code",
   "execution_count": 292,
   "metadata": {},
   "outputs": [
    {
     "name": "stdout",
     "output_type": "stream",
     "text": [
      "(800, 128, 1)\n",
      "Epoch 1/10\n",
      "80/80 [==============================] - 8s 61ms/step - loss: 0.1057 - val_loss: 0.0505\n",
      "Epoch 2/10\n",
      "80/80 [==============================] - 4s 53ms/step - loss: 0.0487 - val_loss: 0.0380\n",
      "Epoch 3/10\n",
      "80/80 [==============================] - 4s 53ms/step - loss: 0.0383 - val_loss: 0.0319\n",
      "Epoch 4/10\n",
      "80/80 [==============================] - 4s 53ms/step - loss: 0.0333 - val_loss: 0.0284\n",
      "Epoch 5/10\n",
      "80/80 [==============================] - 4s 53ms/step - loss: 0.0287 - val_loss: 0.0264\n",
      "Epoch 6/10\n",
      "80/80 [==============================] - 4s 54ms/step - loss: 0.0257 - val_loss: 0.0247\n",
      "Epoch 7/10\n",
      "80/80 [==============================] - 4s 53ms/step - loss: 0.0239 - val_loss: 0.0239\n",
      "Epoch 8/10\n",
      "80/80 [==============================] - 4s 53ms/step - loss: 0.0238 - val_loss: 0.0230\n",
      "Epoch 9/10\n",
      "80/80 [==============================] - 4s 53ms/step - loss: 0.0226 - val_loss: 0.0249\n",
      "Epoch 10/10\n",
      "80/80 [==============================] - 4s 53ms/step - loss: 0.0226 - val_loss: 0.0214\n"
     ]
    }
   ],
   "source": [
    "trainings_data =X[:800]\n",
    "trainings_class =Y[:800]\n",
    "valid_data =X[800:]\n",
    "valid_class = Y[800:]\n",
    "print(trainings_data.shape)\n",
    "\n",
    "history = model.fit(trainings_data,trainings_class,\n",
    "                    \n",
    "          batch_size=10,\n",
    "          epochs=10, \n",
    "          validation_data=(valid_data,valid_class))"
   ]
  },
  {
   "cell_type": "markdown",
   "metadata": {
    "colab_type": "text",
    "id": "Fe4y8qO5kGaG"
   },
   "source": [
    "### Make repeated predictions\n",
    "As in A) make preaded preditions on noise less data."
   ]
  },
  {
   "cell_type": "code",
   "execution_count": 270,
   "metadata": {},
   "outputs": [
    {
     "name": "stdout",
     "output_type": "stream",
     "text": [
      "WARNING:tensorflow:5 out of the last 160 calls to <function Model.make_predict_function.<locals>.predict_function at 0x0000025F38A15D30> triggered tf.function retracing. Tracing is expensive and the excessive number of tracings could be due to (1) creating @tf.function repeatedly in a loop, (2) passing tensors with different shapes, (3) passing Python objects instead of tensors. For (1), please define your @tf.function outside of the loop. For (2), @tf.function has experimental_relax_shapes=True option that relaxes argument shapes that can avoid unnecessary retracing. For (3), please refer to https://www.tensorflow.org/guide/function#controlling_retracing and https://www.tensorflow.org/api_docs/python/tf/function for  more details.\n"
     ]
    },
    {
     "data": {
      "image/png": "[encoded data removed]",
      "text/plain": [
       "<Figure size 360x72 with 1 Axes>"
      ]
     },
     "metadata": {
      "needs_background": "light"
     },
     "output_type": "display_data"
    }
   ],
   "source": [
    "x_training,y_training = gen_data(size=1,noise =0.0)\n",
    "for i in range(0,12):\n",
    "    data = model.predict(x_training)\n",
    "    x_training = np.concatenate((x_training, data), axis=1)\n",
    "plt.figure(num=None, figsize=(5,1))  \n",
    "plt.plot(range(0, x_training[0].shape[0]),x_training[0],'b-')\n",
    "plt.show()"
   ]
  },
  {
   "cell_type": "markdown",
   "metadata": {
    "colab_type": "text",
    "id": "sw8pkdW4l96k"
   },
   "source": [
    "## D) LSTM Cell\n",
    "Repeat C) but now with an LSTM cell."
   ]
  },
  {
   "cell_type": "code",
   "execution_count": 303,
   "metadata": {},
   "outputs": [],
   "source": [
    "model = Sequential()\n",
    "model.add(LSTM(24,batch_input_shape=(None,None,1),input_shape=(1,1),return_sequences= True))\n",
    "#model.add(LSTM(24,batch_input_shape=(None,None,1),input_shape=(1,2),return_sequences= True))\n",
    "#model.add(LSTM(24,batch_input_shape=(None,None,1),input_shape=(1,4),return_sequences= True))\n",
    "#model.add(LSTM(24,batch_input_shape=(None,None,1),input_shape=(1,8),return_sequences= True))\n",
    "model.add(Dense(1,activation=\"linear\"))\n",
    "model.add(Lambda(slice, arguments={'slice_length':look_ahead}))"
   ]
  },
  {
   "cell_type": "code",
   "execution_count": 304,
   "metadata": {},
   "outputs": [
    {
     "name": "stdout",
     "output_type": "stream",
     "text": [
      "(800, 128, 1)\n",
      "Epoch 1/10\n",
      "80/80 [==============================] - 4s 27ms/step - loss: 0.2911 - mse: 0.2911 - val_loss: 0.0941 - val_mse: 0.0941\n",
      "Epoch 2/10\n",
      "80/80 [==============================] - 2s 20ms/step - loss: 0.0737 - mse: 0.0737 - val_loss: 0.0388 - val_mse: 0.0388\n",
      "Epoch 3/10\n",
      "80/80 [==============================] - 2s 20ms/step - loss: 0.0379 - mse: 0.0379 - val_loss: 0.0332 - val_mse: 0.0332\n",
      "Epoch 4/10\n",
      "80/80 [==============================] - 2s 20ms/step - loss: 0.0327 - mse: 0.0327 - val_loss: 0.0296 - val_mse: 0.0296\n",
      "Epoch 5/10\n",
      "80/80 [==============================] - 2s 20ms/step - loss: 0.0307 - mse: 0.0307 - val_loss: 0.0294 - val_mse: 0.0294\n",
      "Epoch 6/10\n",
      "80/80 [==============================] - 2s 20ms/step - loss: 0.0313 - mse: 0.0313 - val_loss: 0.0292 - val_mse: 0.0292\n",
      "Epoch 7/10\n",
      "80/80 [==============================] - 2s 20ms/step - loss: 0.0302 - mse: 0.0302 - val_loss: 0.0289 - val_mse: 0.0289\n",
      "Epoch 8/10\n",
      "80/80 [==============================] - 2s 20ms/step - loss: 0.0309 - mse: 0.0309 - val_loss: 0.0288 - val_mse: 0.0288\n",
      "Epoch 9/10\n",
      "80/80 [==============================] - 2s 21ms/step - loss: 0.0298 - mse: 0.0298 - val_loss: 0.0294 - val_mse: 0.0294\n",
      "Epoch 10/10\n",
      "80/80 [==============================] - 2s 21ms/step - loss: 0.0290 - mse: 0.0290 - val_loss: 0.0284 - val_mse: 0.0284\n"
     ]
    }
   ],
   "source": [
    "trainings_data =X[:800]\n",
    "trainings_class =Y[:800]\n",
    "valid_data =X[800:]\n",
    "valid_class = Y[800:]\n",
    "print(trainings_data.shape)\n",
    "\n",
    "# Optimierer\n",
    "eta = 0.04                  # learning rate\n",
    "wdecay = 0.1/np.shape(trainings_data)[0]    # weight decay\n",
    "sgd = SGD(lr=eta, decay=wdecay)\n",
    "\n",
    "model.compile(loss=tf.keras.losses.MeanSquaredError(),\n",
    "              optimizer = sgd,\n",
    "              metrics=['mse'])\n",
    "\n",
    "history = model.fit(trainings_data,trainings_class,\n",
    "                    \n",
    "          batch_size=10,\n",
    "          epochs=10, \n",
    "          validation_data=(valid_data,valid_class))"
   ]
  },
  {
   "cell_type": "code",
   "execution_count": 276,
   "metadata": {},
   "outputs": [
    {
     "name": "stdout",
     "output_type": "stream",
     "text": [
      "Model: \"sequential_96\"\n",
      "_________________________________________________________________\n",
      "Layer (type)                 Output Shape              Param #   \n",
      "=================================================================\n",
      "lstm_1 (LSTM)                (None, None, 128)         66560     \n",
      "_________________________________________________________________\n",
      "dense_58 (Dense)             (None, None, 1)           129       \n",
      "_________________________________________________________________\n",
      "lambda_49 (Lambda)           (None, None, 1)           0         \n",
      "=================================================================\n",
      "Total params: 66,689\n",
      "Trainable params: 66,689\n",
      "Non-trainable params: 0\n",
      "_________________________________________________________________\n"
     ]
    }
   ],
   "source": [
    "model.summary()"
   ]
  },
  {
   "cell_type": "code",
   "execution_count": null,
   "metadata": {},
   "outputs": [],
   "source": [
    "x_training,y_training = gen_data(size=1,noise =0.0)\n",
    "for i in range(0,12):\n",
    "    data = model.predict(x_training)\n",
    "    x_training = np.concatenate((x_training, data), axis=1)\n",
    "plt.figure(num=None, figsize=(5,1))  \n",
    "plt.plot(range(0, x_training[0].shape[0]),x_training[0],'b-')\n",
    "plt.show()"
   ]
  }
 ],
 "metadata": {
  "accelerator": "GPU",
  "colab": {
   "collapsed_sections": [],
   "name": "12_LSTM_vs_1DConv_solution.ipynb",
   "provenance": [],
   "toc_visible": true
  },
  "kernelspec": {
   "display_name": "Python 3",
   "language": "python",
   "name": "python3"
  },
  "language_info": {
   "codemirror_mode": {
    "name": "ipython",
    "version": 3
   },
   "file_extension": ".py",
   "mimetype": "text/x-python",
   "name": "python",
   "nbconvert_exporter": "python",
   "pygments_lexer": "ipython3",
   "version": "3.8.5"
  }
 },
 "nbformat": 4,
 "nbformat_minor": 1
}

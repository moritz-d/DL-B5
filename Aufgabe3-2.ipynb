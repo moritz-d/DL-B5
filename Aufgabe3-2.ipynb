{
 "cells": [
  {
   "cell_type": "markdown",
   "metadata": {
    "colab_type": "text",
    "id": "EIolRLmR2tJc"
   },
   "source": [
    "# Neural Networks for Count Data \n",
    "\n",
    "Redo the Poisson Regression for the fish data set, now with keras. From the previous exercise:\n",
    "\n",
    "## Fish Data Set\n",
    "\n",
    "The following data-set contains the number of Fish a group of camper caught in a state park (taken from https://stats.idre.ucla.edu/r/dae/zip/). Your task here is to predict the number of fish $y$ caught by a fishing party. We have a small data set, of 250 groups, which visited a state park and provided the following information: \n",
    "\n",
    "* how many people are in the group\n",
    "* the number children in the group\n",
    "* the use of live bait\n",
    "* whether the group came with a camper to the park. \n",
    "\n",
    "Split the data set into a training set and testset. Use the first 200 entries for training, the remaining 50 for testing. See below for code how to read the data."
   ]
  },
  {
   "cell_type": "code",
   "execution_count": 1,
   "metadata": {
    "colab": {},
    "colab_type": "code",
    "id": "YsAt_vDL3jFG"
   },
   "outputs": [],
   "source": [
    "import matplotlib.pyplot as plt\n",
    "import numpy as np\n",
    "import pandas as pd\n",
    "%matplotlib inline"
   ]
  },
  {
   "cell_type": "code",
   "execution_count": 2,
   "metadata": {
    "colab": {
     "base_uri": "https://localhost:8080/",
     "height": 111
    },
    "colab_type": "code",
    "id": "8zoZAYtO4FHE",
    "outputId": "5ad02e25-b532-47fa-b8af-7af9e8b7a650"
   },
   "outputs": [
    {
     "data": {
      "text/html": [
       "<div>\n",
       "<style scoped>\n",
       "    .dataframe tbody tr th:only-of-type {\n",
       "        vertical-align: middle;\n",
       "    }\n",
       "\n",
       "    .dataframe tbody tr th {\n",
       "        vertical-align: top;\n",
       "    }\n",
       "\n",
       "    .dataframe thead th {\n",
       "        text-align: right;\n",
       "    }\n",
       "</style>\n",
       "<table border=\"1\" class=\"dataframe\">\n",
       "  <thead>\n",
       "    <tr style=\"text-align: right;\">\n",
       "      <th></th>\n",
       "      <th>0</th>\n",
       "      <th>1</th>\n",
       "      <th>2</th>\n",
       "      <th>3</th>\n",
       "    </tr>\n",
       "  </thead>\n",
       "  <tbody>\n",
       "    <tr>\n",
       "      <th>0</th>\n",
       "      <td>1.0</td>\n",
       "      <td>0.0</td>\n",
       "      <td>4.0</td>\n",
       "      <td>0.0</td>\n",
       "    </tr>\n",
       "    <tr>\n",
       "      <th>1</th>\n",
       "      <td>1.0</td>\n",
       "      <td>1.0</td>\n",
       "      <td>2.0</td>\n",
       "      <td>0.0</td>\n",
       "    </tr>\n",
       "  </tbody>\n",
       "</table>\n",
       "</div>"
      ],
      "text/plain": [
       "     0    1    2    3\n",
       "0  1.0  0.0  4.0  0.0\n",
       "1  1.0  1.0  2.0  0.0"
      ]
     },
     "execution_count": 2,
     "metadata": {},
     "output_type": "execute_result"
    }
   ],
   "source": [
    "# from sklearn.model_selection import train_test_split\n",
    "# X_train, X_test, y_train, y_test = train_test_split(X, y, test_size=0.2, random_state=42,shuffle=True)\n",
    "# np.savez('fishing.npz', X_train=X_train, X_test=X_test, y_train=y_train, y_test=y_test)\n",
    "#https://github.com/ioskn/mldl_htwg/raw/master/data/fishing.npz\n",
    "import os\n",
    "from urllib.request import urlretrieve\n",
    "if not os.path.isfile('fishing.npz'):\n",
    "    print(\"Downloading\")\n",
    "    urlretrieve('http://www-home.htwg-konstanz.de/~oduerr/data/fishing.npz',filename = 'fishing.npz')\n",
    "d = np.load('fishing.npz')\n",
    "X_train = d['Xt'] #\"livebait\",\"camper\",\"persons\",\"child\"\n",
    "X_test = d['Xte']\n",
    "y_train = d['yt']\n",
    "y_test = d['yte']\n",
    "pd.DataFrame(X_train[0:2])"
   ]
  },
  {
   "cell_type": "markdown",
   "metadata": {
    "colab_type": "text",
    "id": "4-uaG92sPBXg"
   },
   "source": [
    "## Results from the Machine Learning excercise, we had. "
   ]
  },
  {
   "cell_type": "markdown",
   "metadata": {
    "colab_type": "text",
    "id": "_uiqzQZnChZ_"
   },
   "source": [
    "### LinearRegression"
   ]
  },
  {
   "cell_type": "code",
   "execution_count": 3,
   "metadata": {
    "colab": {
     "base_uri": "https://localhost:8080/",
     "height": 34
    },
    "colab_type": "code",
    "id": "lFLrY1YtNClk",
    "outputId": "d7779272-1b27-4096-e4ec-697001f2bc7e"
   },
   "outputs": [
    {
     "data": {
      "text/plain": [
       "array([-8.49222821,  2.4822138 ,  2.95430727,  4.64953914, -5.47160051])"
      ]
     },
     "execution_count": 3,
     "metadata": {},
     "output_type": "execute_result"
    }
   ],
   "source": [
    "from sklearn.linear_model import LinearRegression\n",
    "Xd = np.hstack([np.ones((X_train.shape[0],1)), X_train])\n",
    "pd.DataFrame(Xd[0:2])\n",
    "Xdt = np.hstack([np.ones((X_test.shape[0],1)), X_test])\n",
    "X_train.shape,Xd.shape\n",
    "model_skl = LinearRegression(fit_intercept=False)\n",
    "res = model_skl.fit(Xd, y_train)\n",
    "res.coef_"
   ]
  },
  {
   "cell_type": "markdown",
   "metadata": {
    "colab_type": "text",
    "id": "pNIUUugxPmSZ"
   },
   "source": [
    "#### RMSE and NLL\n",
    "Determine the Root Mean Square Error (RMSE) and the average negative log-likelihood (NLL) on the testset. For NLL we assume that the conditional probability distrubution (CPD) $p(y|x)$ is given by the density of a Gaussian with constant variance $\\sigma^2$. Estimate $\\sigma^2$ using the variance of the residuals. Use the variance estimation with $1/N$. \n"
   ]
  },
  {
   "cell_type": "code",
   "execution_count": 4,
   "metadata": {
    "colab": {
     "base_uri": "https://localhost:8080/",
     "height": 34
    },
    "colab_type": "code",
    "id": "hmtWgh0xPYca",
    "outputId": "44bf40a7-3fab-4e7a-9eee-6cc466a1980a"
   },
   "outputs": [
    {
     "data": {
      "text/plain": [
       "(8.588126386734231, 73.75591483452077, (50, 5))"
      ]
     },
     "execution_count": 4,
     "metadata": {},
     "output_type": "execute_result"
    }
   ],
   "source": [
    "ypred = model_skl.predict(Xdt)\n",
    "#ypred = np.ones_like(y_test) * np.median(y_train)\n",
    "sigma_hat_2 = np.mean((y_test - ypred.flatten())**2)\n",
    "np.sqrt(sigma_hat_2),sigma_hat_2,Xdt.shape"
   ]
  },
  {
   "cell_type": "code",
   "execution_count": 5,
   "metadata": {
    "colab": {
     "base_uri": "https://localhost:8080/",
     "height": 34
    },
    "colab_type": "code",
    "id": "MLg_A70-QbJr",
    "outputId": "a57c6bb0-cd23-44d1-bf60-2656a62a3ceb"
   },
   "outputs": [
    {
     "data": {
      "text/plain": [
       "3.5693191297796893"
      ]
     },
     "execution_count": 5,
     "metadata": {},
     "output_type": "execute_result"
    }
   ],
   "source": [
    "0.5*np.log(2 * np.pi * sigma_hat_2) + 0.5*np.mean((y_test - ypred.flatten())**2)/sigma_hat_2"
   ]
  },
  {
   "cell_type": "markdown",
   "metadata": {
    "colab_type": "text",
    "id": "PLl18uW6D507"
   },
   "source": [
    "#### Comparison with test set"
   ]
  },
  {
   "cell_type": "markdown",
   "metadata": {
    "colab_type": "text",
    "id": "nCJHxadORefq"
   },
   "source": [
    "For the testset: plot the mean of the predicted number of fish caught against observed number of fish caught. Further include the 2.5 and 97.25 precentile of p(y|x), the conditional predictive distribution (CPD) of $y$ for a given $x$. Why is a Gaussian not ideal for that kind of data? For the Gaussian the 2.5% and the 97.5% percentile is approximatiy given by $\\mu \\pm 1.96*\\sigma$"
   ]
  },
  {
   "cell_type": "code",
   "execution_count": 6,
   "metadata": {
    "colab": {
     "base_uri": "https://localhost:8080/",
     "height": 295
    },
    "colab_type": "code",
    "id": "f51ByX5wSjPa",
    "outputId": "2fce8f60-ebdb-493a-f3a9-6950c7f0bae0"
   },
   "outputs": [
    {
     "data": {
      "image/png": "[encoded data removed]",
      "text/plain": [
       "<Figure size 432x288 with 1 Axes>"
      ]
     },
     "metadata": {
      "needs_background": "light"
     },
     "output_type": "display_data"
    }
   ],
   "source": [
    "plt.scatter(ypred, y_test,alpha=0.3)\n",
    "sort_idx=np.argsort(ypred,axis=0)\n",
    "plt.plot(ypred[sort_idx].flatten(), ypred[sort_idx].flatten()+1.96*np.sqrt(sigma_hat_2),linestyle='dashed',c=\"black\")\n",
    "plt.plot(ypred[sort_idx].flatten(), ypred[sort_idx].flatten()-1.96*np.sqrt(sigma_hat_2),linestyle='dashed',c=\"black\")\n",
    "plt.plot(ypred, ypred, c=\"black\")\n",
    "plt.title('Comparison on the testset')\n",
    "plt.xlabel('predicted average of caught fish')\n",
    "plt.ylabel('observed number of caught fish')\n",
    "plt.xlim(-5,15)\n",
    "plt.ylim(-5,15)\n",
    "plt.show()"
   ]
  },
  {
   "cell_type": "markdown",
   "metadata": {
    "colab_type": "text",
    "id": "XXsavhRVU4BJ"
   },
   "source": [
    "### Poisson\n",
    "\n",
    "This data is count data. Count data has only positive values and also the distribution is discrete. You cannot catch 0.5 fish and that the CPD has probability on negative number of fish is fishy too. A Gaussian as a CPD is therefore not ideal. Now use a Poissonian as CPD. If we assume a Poissonian then the probability to catch $k$ fish is given by \n",
    "$$\n",
    "  p(k) = \\exp(-\\mu) \\frac{\\mu^k}{k!}\n",
    "$$\n",
    "\n",
    "and the NLL is thus by:\n",
    "\n",
    "$$\n",
    " log(p(k)) = -\\mu  + k \\cdot \\log(\\mu) - log(k!)\n",
    "$$\n",
    "\n",
    "with $\\mu$ being the expectation. In our case the average number of fish expected.\n",
    "\n",
    "In the case of the probabilistic interpretation of the linear regression, $y_i$ for a given $x_i$ is distributed like a Gaussian. The paramter $\\mu_i$ from $N(\\mu_i,\\sigma^2)$ has been determined from $x_i$ via $\\mu_i= \\beta^T \\cdot x_i$. Nown in the Poissonian, $\\mu_i$ needs to be positive. We therefore pipe $\\beta^T \\cdot x_i$ through an exponential first to make it positive and can so determine $\\mu_i=exp(\\beta^T \\cdot x_i)$.\n",
    "\n",
    "Use a gradient descent approach to find the solution for the parameters. Calculate the RMSE and the NLL on the test set.\n",
    "\n",
    "Hint: On the trainingset the NLL for the parameter values (1,1,1,1,1) should be approx 1508 and the gradient "
   ]
  },
  {
   "cell_type": "code",
   "execution_count": 7,
   "metadata": {
    "colab": {
     "base_uri": "https://localhost:8080/",
     "height": 34
    },
    "colab_type": "code",
    "id": "HL_GpshBU4BJ",
    "outputId": "1560dedc-f3e6-4455-f474-b90e0c150657"
   },
   "outputs": [
    {
     "ename": "TypeError",
     "evalue": "'numpy.float32' object cannot be interpreted as an integer",
     "output_type": "error",
     "traceback": [
      "\u001b[1;31m---------------------------------------------------------------------------\u001b[0m",
      "\u001b[1;31mTypeError\u001b[0m                                 Traceback (most recent call last)",
      "\u001b[1;32m<ipython-input-7-f811d47ab141>\u001b[0m in \u001b[0;36m<module>\u001b[1;34m\u001b[0m\n\u001b[0;32m      6\u001b[0m     \u001b[1;32mreturn\u001b[0m \u001b[0mnp\u001b[0m\u001b[1;33m.\u001b[0m\u001b[0mmean\u001b[0m\u001b[1;33m(\u001b[0m\u001b[0mret\u001b[0m\u001b[1;33m)\u001b[0m\u001b[1;33m\u001b[0m\u001b[1;33m\u001b[0m\u001b[0m\n\u001b[0;32m      7\u001b[0m \u001b[0mw\u001b[0m \u001b[1;33m=\u001b[0m \u001b[0mnp\u001b[0m\u001b[1;33m.\u001b[0m\u001b[0mones\u001b[0m\u001b[1;33m(\u001b[0m\u001b[1;36m5\u001b[0m\u001b[1;33m)\u001b[0m\u001b[1;33m\u001b[0m\u001b[1;33m\u001b[0m\u001b[0m\n\u001b[1;32m----> 8\u001b[1;33m \u001b[0mNLL\u001b[0m\u001b[1;33m(\u001b[0m\u001b[0my_train\u001b[0m\u001b[1;33m,\u001b[0m \u001b[0mXd\u001b[0m\u001b[1;33m,\u001b[0m\u001b[0mw\u001b[0m\u001b[1;33m)\u001b[0m\u001b[1;33m\u001b[0m\u001b[1;33m\u001b[0m\u001b[0m\n\u001b[0m",
      "\u001b[1;32m<ipython-input-7-f811d47ab141>\u001b[0m in \u001b[0;36mNLL\u001b[1;34m(y_train, Xd, w)\u001b[0m\n\u001b[0;32m      3\u001b[0m     \u001b[0mret\u001b[0m \u001b[1;33m=\u001b[0m \u001b[0mnp\u001b[0m\u001b[1;33m.\u001b[0m\u001b[0mzeros_like\u001b[0m\u001b[1;33m(\u001b[0m\u001b[0mmu\u001b[0m\u001b[1;33m)\u001b[0m\u001b[1;33m\u001b[0m\u001b[1;33m\u001b[0m\u001b[0m\n\u001b[0;32m      4\u001b[0m     \u001b[1;32mfor\u001b[0m \u001b[0mi\u001b[0m \u001b[1;32min\u001b[0m \u001b[0mrange\u001b[0m\u001b[1;33m(\u001b[0m\u001b[0mret\u001b[0m\u001b[1;33m.\u001b[0m\u001b[0mshape\u001b[0m\u001b[1;33m[\u001b[0m\u001b[1;36m0\u001b[0m\u001b[1;33m]\u001b[0m\u001b[1;33m)\u001b[0m\u001b[1;33m:\u001b[0m\u001b[1;33m\u001b[0m\u001b[1;33m\u001b[0m\u001b[0m\n\u001b[1;32m----> 5\u001b[1;33m         \u001b[0mret\u001b[0m\u001b[1;33m[\u001b[0m\u001b[0mi\u001b[0m\u001b[1;33m]\u001b[0m \u001b[1;33m=\u001b[0m \u001b[0mmu\u001b[0m\u001b[1;33m[\u001b[0m\u001b[0mi\u001b[0m\u001b[1;33m]\u001b[0m \u001b[1;33m-\u001b[0m \u001b[0my_train\u001b[0m\u001b[1;33m[\u001b[0m\u001b[0mi\u001b[0m\u001b[1;33m]\u001b[0m\u001b[1;33m*\u001b[0m\u001b[0mnp\u001b[0m\u001b[1;33m.\u001b[0m\u001b[0mlog\u001b[0m\u001b[1;33m(\u001b[0m\u001b[0mmu\u001b[0m\u001b[1;33m[\u001b[0m\u001b[0mi\u001b[0m\u001b[1;33m]\u001b[0m\u001b[1;33m)\u001b[0m \u001b[1;33m+\u001b[0m \u001b[0mnp\u001b[0m\u001b[1;33m.\u001b[0m\u001b[0mlog\u001b[0m\u001b[1;33m(\u001b[0m\u001b[1;36m1.0\u001b[0m\u001b[1;33m*\u001b[0m\u001b[0mnp\u001b[0m\u001b[1;33m.\u001b[0m\u001b[0mmath\u001b[0m\u001b[1;33m.\u001b[0m\u001b[0mfactorial\u001b[0m\u001b[1;33m(\u001b[0m\u001b[0my_train\u001b[0m\u001b[1;33m[\u001b[0m\u001b[0mi\u001b[0m\u001b[1;33m]\u001b[0m\u001b[1;33m)\u001b[0m\u001b[1;33m)\u001b[0m\u001b[1;33m\u001b[0m\u001b[1;33m\u001b[0m\u001b[0m\n\u001b[0m\u001b[0;32m      6\u001b[0m     \u001b[1;32mreturn\u001b[0m \u001b[0mnp\u001b[0m\u001b[1;33m.\u001b[0m\u001b[0mmean\u001b[0m\u001b[1;33m(\u001b[0m\u001b[0mret\u001b[0m\u001b[1;33m)\u001b[0m\u001b[1;33m\u001b[0m\u001b[1;33m\u001b[0m\u001b[0m\n\u001b[0;32m      7\u001b[0m \u001b[0mw\u001b[0m \u001b[1;33m=\u001b[0m \u001b[0mnp\u001b[0m\u001b[1;33m.\u001b[0m\u001b[0mones\u001b[0m\u001b[1;33m(\u001b[0m\u001b[1;36m5\u001b[0m\u001b[1;33m)\u001b[0m\u001b[1;33m\u001b[0m\u001b[1;33m\u001b[0m\u001b[0m\n",
      "\u001b[1;31mTypeError\u001b[0m: 'numpy.float32' object cannot be interpreted as an integer"
     ]
    }
   ],
   "source": [
    "def NLL(y_train, Xd, w):\n",
    "    mu = np.exp(np.matmul(Xd,w))\n",
    "    ret = np.zeros_like(mu)\n",
    "    for i in range(ret.shape[0]):\n",
    "        ret[i] = mu[i] - y_train[i]*np.log(mu[i]) + np.log(1.0*np.math.factorial(y_train[i]))\n",
    "    return np.mean(ret)\n",
    "w = np.ones(5)\n",
    "NLL(y_train, Xd,w)"
   ]
  },
  {
   "cell_type": "code",
   "execution_count": null,
   "metadata": {
    "colab": {
     "base_uri": "https://localhost:8080/",
     "height": 34
    },
    "colab_type": "code",
    "id": "LwpfoYG-U4BL",
    "outputId": "3cf4dd06-24bf-417e-dbb3-679193216af5"
   },
   "outputs": [],
   "source": [
    "def gradNLL(y_train, Xd, w):\n",
    "    mu = np.exp(np.matmul(Xd,w))\n",
    "    #print(mu.shape)\n",
    "    ret = np.zeros_like(Xd)\n",
    "    for i in range(Xd.shape[0]):\n",
    "        mux = Xd[i] * mu[i]\n",
    "        ret[i] = -mux + y_train[i] *Xd[i]\n",
    "    return np.mean(ret, axis=0)\n",
    "\n",
    "NLL(y_train, Xd,np.ones(5))\n",
    "np.round(gradNLL(y_train, Xd,np.ones(5)),2)\n",
    "#1518.61, 1403.99, 1171.02, 5701.91, 3258.7"
   ]
  },
  {
   "cell_type": "code",
   "execution_count": null,
   "metadata": {
    "colab": {
     "base_uri": "https://localhost:8080/",
     "height": 68
    },
    "colab_type": "code",
    "id": "DjXqvYyqU4BN",
    "outputId": "5184b8fa-b50a-436c-c8a1-8c831306fc26"
   },
   "outputs": [],
   "source": [
    "from tqdm import tqdm \n",
    "w = np.ones(5)\n",
    "hist = []\n",
    "for i in tqdm(range(10000)):\n",
    "    if (i % 10 == 0):\n",
    "        hist.append(NLL(y_train, Xd,w))\n",
    "    w = w + 0.001 * gradNLL(y_train, Xd,w)\n",
    "w, NLL(y_train, Xd,w)"
   ]
  },
  {
   "cell_type": "code",
   "execution_count": null,
   "metadata": {
    "colab": {
     "base_uri": "https://localhost:8080/",
     "height": 286
    },
    "colab_type": "code",
    "id": "tRV1sLkQU4BO",
    "outputId": "88b17695-3df7-49c9-ce6b-87f30da200ed"
   },
   "outputs": [],
   "source": [
    "plt.plot(hist)\n",
    "plt.ylim(0,5)"
   ]
  },
  {
   "cell_type": "code",
   "execution_count": null,
   "metadata": {
    "colab": {
     "base_uri": "https://localhost:8080/",
     "height": 34
    },
    "colab_type": "code",
    "id": "j-HhXc7GU4BQ",
    "outputId": "d2743421-6e15-4202-9b28-a02fb7d3d842"
   },
   "outputs": [],
   "source": [
    "mupred = np.exp(np.matmul(Xdt, w))\n",
    "np.sqrt(np.mean((mupred - y_test)**2)), NLL(y_test, Xdt,w)"
   ]
  },
  {
   "cell_type": "markdown",
   "metadata": {
    "colab_type": "text",
    "id": "rtumKjuJEVKE"
   },
   "source": [
    "## A) Poisson Regression using a NN build with Keras\n",
    "\n",
    "Redo the analysis from above using Keras. You may (but don't have to) use tfp."
   ]
  },
  {
   "cell_type": "code",
   "execution_count": 8,
   "metadata": {
    "colab": {},
    "colab_type": "code",
    "id": "z4hUQh2aHFje",
    "scrolled": false
   },
   "outputs": [
    {
     "data": {
      "text/plain": [
       "6.0"
      ]
     },
     "execution_count": 8,
     "metadata": {},
     "output_type": "execute_result"
    }
   ],
   "source": [
    "X_train \n",
    "X_test\n",
    "y_train\n",
    "y_test\n",
    "X_train[0]#\"livebait\",\"camper\",\"persons\",\"child\"\n",
    "y_train[0]"
   ]
  },
  {
   "cell_type": "code",
   "execution_count": 9,
   "metadata": {},
   "outputs": [
    {
     "data": {
      "text/plain": [
       "'2.4.0'"
      ]
     },
     "execution_count": 9,
     "metadata": {},
     "output_type": "execute_result"
    }
   ],
   "source": [
    "import numpy as np\n",
    "import matplotlib.pyplot as plt\n",
    "\n",
    "import tensorflow as tf\n",
    "import tensorflow.keras as keras\n",
    "from tensorflow.keras.models import Sequential,Model\n",
    "from tensorflow.keras.layers import Dense, Convolution2D, MaxPooling2D, Flatten , Activation, Dropout,Convolution1D,Input\n",
    "from tensorflow.keras.optimizers import SGD,Adam\n",
    "import tensorflow_probability as tfp\n",
    "tf.__version__"
   ]
  },
  {
   "cell_type": "markdown",
   "metadata": {},
   "source": [
    "\n",
    "    how many people are in the group\n",
    "    the number children in the group\n",
    "    the use of live bait\n",
    "    whether the group came with a camper to the park.\n"
   ]
  },
  {
   "cell_type": "code",
   "execution_count": 10,
   "metadata": {},
   "outputs": [
    {
     "name": "stdout",
     "output_type": "stream",
     "text": [
      "Model: \"model\"\n",
      "_________________________________________________________________\n",
      "Layer (type)                 Output Shape              Param #   \n",
      "=================================================================\n",
      "input_1 (InputLayer)         [(None, 4)]               0         \n",
      "_________________________________________________________________\n",
      "dense (Dense)                (None, 1)                 5         \n",
      "_________________________________________________________________\n",
      "distribution_lambda (Distrib multiple                  0         \n",
      "=================================================================\n",
      "Total params: 5\n",
      "Trainable params: 5\n",
      "Non-trainable params: 0\n",
      "_________________________________________________________________\n"
     ]
    }
   ],
   "source": [
    "tfd = tfp.distributions\n",
    "inputs = Input(shape=(X_train.shape[1],))  \n",
    "rate = Dense(1, \n",
    "         activation=tf.exp)(inputs)\n",
    "p_y = tfp.layers.DistributionLambda(tfd.Poisson)(rate)\n",
    " \n",
    "model_p = Model(inputs=inputs, outputs=p_y)\n",
    " \n",
    " \n",
    "def NLL(y_true, y_hat):\n",
    "  return -y_hat.log_prob(y_true)\n",
    " \n",
    "model_p.compile(Adam(learning_rate=0.01), loss=NLL)\n",
    "model_p.summary()"
   ]
  },
  {
   "cell_type": "code",
   "execution_count": 11,
   "metadata": {},
   "outputs": [
    {
     "name": "stdout",
     "output_type": "stream",
     "text": [
      "Epoch 1/150\n",
      "20/20 [==============================] - 2s 48ms/step - loss: 9.7533 - val_loss: 7.5024\n",
      "Epoch 2/150\n",
      "20/20 [==============================] - 0s 3ms/step - loss: 12.9021 - val_loss: 7.3416\n",
      "Epoch 3/150\n",
      "20/20 [==============================] - 0s 3ms/step - loss: 11.6363 - val_loss: 7.0069\n",
      "Epoch 4/150\n",
      "20/20 [==============================] - 0s 3ms/step - loss: 7.8135 - val_loss: 6.6654\n",
      "Epoch 5/150\n",
      "20/20 [==============================] - 0s 3ms/step - loss: 5.1899 - val_loss: 6.4444\n",
      "Epoch 6/150\n",
      "20/20 [==============================] - 0s 3ms/step - loss: 7.3912 - val_loss: 5.9752\n",
      "Epoch 7/150\n",
      "20/20 [==============================] - 0s 3ms/step - loss: 6.8323 - val_loss: 5.7254\n",
      "Epoch 8/150\n",
      "20/20 [==============================] - 0s 3ms/step - loss: 5.0586 - val_loss: 5.5279\n",
      "Epoch 9/150\n",
      "20/20 [==============================] - 0s 3ms/step - loss: 4.3228 - val_loss: 5.3403\n",
      "Epoch 10/150\n",
      "20/20 [==============================] - 0s 3ms/step - loss: 4.7825 - val_loss: 5.1481\n",
      "Epoch 11/150\n",
      "20/20 [==============================] - 0s 3ms/step - loss: 4.8079 - val_loss: 4.9586\n",
      "Epoch 12/150\n",
      "20/20 [==============================] - 0s 3ms/step - loss: 4.5015 - val_loss: 4.8159\n",
      "Epoch 13/150\n",
      "20/20 [==============================] - 0s 3ms/step - loss: 4.4328 - val_loss: 4.6992\n",
      "Epoch 14/150\n",
      "20/20 [==============================] - 0s 3ms/step - loss: 5.8890 - val_loss: 4.5773\n",
      "Epoch 15/150\n",
      "20/20 [==============================] - 0s 3ms/step - loss: 3.8255 - val_loss: 4.5016\n",
      "Epoch 16/150\n",
      "20/20 [==============================] - 0s 3ms/step - loss: 3.4260 - val_loss: 4.3934\n",
      "Epoch 17/150\n",
      "20/20 [==============================] - 0s 3ms/step - loss: 3.5404 - val_loss: 4.3175\n",
      "Epoch 18/150\n",
      "20/20 [==============================] - 0s 3ms/step - loss: 4.7738 - val_loss: 4.2539\n",
      "Epoch 19/150\n",
      "20/20 [==============================] - 0s 3ms/step - loss: 4.1407 - val_loss: 4.1694\n",
      "Epoch 20/150\n",
      "20/20 [==============================] - 0s 3ms/step - loss: 3.6391 - val_loss: 4.1138\n",
      "Epoch 21/150\n",
      "20/20 [==============================] - 0s 3ms/step - loss: 3.7939 - val_loss: 4.0609\n",
      "Epoch 22/150\n",
      "20/20 [==============================] - 0s 3ms/step - loss: 3.8326 - val_loss: 4.0028\n",
      "Epoch 23/150\n",
      "20/20 [==============================] - 0s 3ms/step - loss: 5.0997 - val_loss: 3.9568\n",
      "Epoch 24/150\n",
      "20/20 [==============================] - 0s 3ms/step - loss: 6.5634 - val_loss: 3.9059\n",
      "Epoch 25/150\n",
      "20/20 [==============================] - 0s 3ms/step - loss: 3.1026 - val_loss: 3.8689\n",
      "Epoch 26/150\n",
      "20/20 [==============================] - 0s 3ms/step - loss: 5.3637 - val_loss: 3.8339\n",
      "Epoch 27/150\n",
      "20/20 [==============================] - 0s 3ms/step - loss: 3.7800 - val_loss: 3.7965\n",
      "Epoch 28/150\n",
      "20/20 [==============================] - 0s 3ms/step - loss: 4.0797 - val_loss: 3.7620\n",
      "Epoch 29/150\n",
      "20/20 [==============================] - 0s 3ms/step - loss: 3.3580 - val_loss: 3.7440\n",
      "Epoch 30/150\n",
      "20/20 [==============================] - 0s 3ms/step - loss: 2.9145 - val_loss: 3.7066\n",
      "Epoch 31/150\n",
      "20/20 [==============================] - 0s 3ms/step - loss: 6.2002 - val_loss: 3.7021\n",
      "Epoch 32/150\n",
      "20/20 [==============================] - 0s 3ms/step - loss: 3.3862 - val_loss: 3.6485\n",
      "Epoch 33/150\n",
      "20/20 [==============================] - 0s 3ms/step - loss: 3.1699 - val_loss: 3.6244\n",
      "Epoch 34/150\n",
      "20/20 [==============================] - 0s 3ms/step - loss: 3.9570 - val_loss: 3.6060\n",
      "Epoch 35/150\n",
      "20/20 [==============================] - 0s 3ms/step - loss: 3.9598 - val_loss: 3.5792\n",
      "Epoch 36/150\n",
      "20/20 [==============================] - 0s 3ms/step - loss: 3.3237 - val_loss: 3.5617\n",
      "Epoch 37/150\n",
      "20/20 [==============================] - 0s 3ms/step - loss: 2.5457 - val_loss: 3.5548\n",
      "Epoch 38/150\n",
      "20/20 [==============================] - 0s 3ms/step - loss: 5.8619 - val_loss: 3.5362\n",
      "Epoch 39/150\n",
      "20/20 [==============================] - 0s 3ms/step - loss: 3.8687 - val_loss: 3.5006\n",
      "Epoch 40/150\n",
      "20/20 [==============================] - 0s 3ms/step - loss: 2.9487 - val_loss: 3.4906\n",
      "Epoch 41/150\n",
      "20/20 [==============================] - 0s 3ms/step - loss: 4.6769 - val_loss: 3.4716\n",
      "Epoch 42/150\n",
      "20/20 [==============================] - 0s 3ms/step - loss: 5.7578 - val_loss: 3.4586\n",
      "Epoch 43/150\n",
      "20/20 [==============================] - 0s 3ms/step - loss: 3.5275 - val_loss: 3.4415\n",
      "Epoch 44/150\n",
      "20/20 [==============================] - 0s 3ms/step - loss: 3.3876 - val_loss: 3.4295\n",
      "Epoch 45/150\n",
      "20/20 [==============================] - 0s 3ms/step - loss: 3.2848 - val_loss: 3.4311\n",
      "Epoch 46/150\n",
      "20/20 [==============================] - 0s 3ms/step - loss: 4.8171 - val_loss: 3.4140\n",
      "Epoch 47/150\n",
      "20/20 [==============================] - 0s 3ms/step - loss: 3.7346 - val_loss: 3.3939\n",
      "Epoch 48/150\n",
      "20/20 [==============================] - 0s 3ms/step - loss: 4.2413 - val_loss: 3.3796\n",
      "Epoch 49/150\n",
      "20/20 [==============================] - 0s 3ms/step - loss: 3.3190 - val_loss: 3.3706\n",
      "Epoch 50/150\n",
      "20/20 [==============================] - 0s 3ms/step - loss: 2.7046 - val_loss: 3.3608\n",
      "Epoch 51/150\n",
      "20/20 [==============================] - 0s 3ms/step - loss: 3.3385 - val_loss: 3.3468\n",
      "Epoch 52/150\n",
      "20/20 [==============================] - 0s 3ms/step - loss: 2.9256 - val_loss: 3.3380\n",
      "Epoch 53/150\n",
      "20/20 [==============================] - 0s 3ms/step - loss: 2.9058 - val_loss: 3.3266\n",
      "Epoch 54/150\n",
      "20/20 [==============================] - 0s 3ms/step - loss: 3.3384 - val_loss: 3.3217\n",
      "Epoch 55/150\n",
      "20/20 [==============================] - 0s 3ms/step - loss: 3.8715 - val_loss: 3.3078\n",
      "Epoch 56/150\n",
      "20/20 [==============================] - 0s 3ms/step - loss: 5.2260 - val_loss: 3.2962\n",
      "Epoch 57/150\n",
      "20/20 [==============================] - 0s 3ms/step - loss: 2.6855 - val_loss: 3.3185\n",
      "Epoch 58/150\n",
      "20/20 [==============================] - 0s 3ms/step - loss: 5.5886 - val_loss: 3.2796\n",
      "Epoch 59/150\n",
      "20/20 [==============================] - 0s 3ms/step - loss: 2.8752 - val_loss: 3.2922\n",
      "Epoch 60/150\n",
      "20/20 [==============================] - 0s 3ms/step - loss: 5.8632 - val_loss: 3.2676\n",
      "Epoch 61/150\n",
      "20/20 [==============================] - 0s 3ms/step - loss: 3.1750 - val_loss: 3.2573\n",
      "Epoch 62/150\n",
      "20/20 [==============================] - 0s 3ms/step - loss: 3.5103 - val_loss: 3.2510\n",
      "Epoch 63/150\n",
      "20/20 [==============================] - 0s 3ms/step - loss: 2.9236 - val_loss: 3.2457\n",
      "Epoch 64/150\n",
      "20/20 [==============================] - 0s 3ms/step - loss: 3.3481 - val_loss: 3.2373\n",
      "Epoch 65/150\n",
      "20/20 [==============================] - 0s 3ms/step - loss: 4.6378 - val_loss: 3.2316\n",
      "Epoch 66/150\n",
      "20/20 [==============================] - 0s 3ms/step - loss: 3.0366 - val_loss: 3.2197\n",
      "Epoch 67/150\n",
      "20/20 [==============================] - 0s 3ms/step - loss: 2.9209 - val_loss: 3.2269\n",
      "Epoch 68/150\n",
      "20/20 [==============================] - 0s 3ms/step - loss: 3.7866 - val_loss: 3.2114\n",
      "Epoch 69/150\n",
      "20/20 [==============================] - 0s 3ms/step - loss: 2.2944 - val_loss: 3.2241\n",
      "Epoch 70/150\n",
      "20/20 [==============================] - 0s 3ms/step - loss: 2.9617 - val_loss: 3.2070\n",
      "Epoch 71/150\n",
      "20/20 [==============================] - 0s 3ms/step - loss: 3.2749 - val_loss: 3.1991\n",
      "Epoch 72/150\n",
      "20/20 [==============================] - 0s 3ms/step - loss: 3.5560 - val_loss: 3.1874\n",
      "Epoch 73/150\n",
      "20/20 [==============================] - 0s 3ms/step - loss: 4.5447 - val_loss: 3.1755\n",
      "Epoch 74/150\n",
      "20/20 [==============================] - 0s 3ms/step - loss: 2.8202 - val_loss: 3.1710\n",
      "Epoch 75/150\n",
      "20/20 [==============================] - 0s 3ms/step - loss: 4.5764 - val_loss: 3.1666\n",
      "Epoch 76/150\n",
      "20/20 [==============================] - 0s 3ms/step - loss: 3.0319 - val_loss: 3.1631\n",
      "Epoch 77/150\n",
      "20/20 [==============================] - 0s 3ms/step - loss: 3.8731 - val_loss: 3.1560\n",
      "Epoch 78/150\n",
      "20/20 [==============================] - 0s 3ms/step - loss: 3.2152 - val_loss: 3.1510\n",
      "Epoch 79/150\n",
      "20/20 [==============================] - 0s 3ms/step - loss: 3.5974 - val_loss: 3.1438\n",
      "Epoch 80/150\n",
      "20/20 [==============================] - 0s 3ms/step - loss: 3.9666 - val_loss: 3.1427\n",
      "Epoch 81/150\n",
      "20/20 [==============================] - 0s 3ms/step - loss: 2.8085 - val_loss: 3.1529\n",
      "Epoch 82/150\n",
      "20/20 [==============================] - 0s 3ms/step - loss: 2.3931 - val_loss: 3.1315\n"
     ]
    },
    {
     "name": "stdout",
     "output_type": "stream",
     "text": [
      "Epoch 83/150\n",
      "20/20 [==============================] - 0s 3ms/step - loss: 3.5418 - val_loss: 3.1349\n",
      "Epoch 84/150\n",
      "20/20 [==============================] - 0s 3ms/step - loss: 4.8807 - val_loss: 3.1172\n",
      "Epoch 85/150\n",
      "20/20 [==============================] - 0s 3ms/step - loss: 3.0932 - val_loss: 3.1230\n",
      "Epoch 86/150\n",
      "20/20 [==============================] - 0s 3ms/step - loss: 3.6102 - val_loss: 3.1165\n",
      "Epoch 87/150\n",
      "20/20 [==============================] - 0s 3ms/step - loss: 3.5813 - val_loss: 3.1107\n",
      "Epoch 88/150\n",
      "20/20 [==============================] - 0s 3ms/step - loss: 3.4939 - val_loss: 3.1043\n",
      "Epoch 89/150\n",
      "20/20 [==============================] - 0s 4ms/step - loss: 3.5228 - val_loss: 3.1029\n",
      "Epoch 90/150\n",
      "20/20 [==============================] - 0s 3ms/step - loss: 3.6601 - val_loss: 3.0940\n",
      "Epoch 91/150\n",
      "20/20 [==============================] - 0s 3ms/step - loss: 3.6943 - val_loss: 3.0917\n",
      "Epoch 92/150\n",
      "20/20 [==============================] - 0s 3ms/step - loss: 3.5147 - val_loss: 3.0900\n",
      "Epoch 93/150\n",
      "20/20 [==============================] - 0s 3ms/step - loss: 3.4602 - val_loss: 3.0839\n",
      "Epoch 94/150\n",
      "20/20 [==============================] - 0s 3ms/step - loss: 3.2506 - val_loss: 3.0774\n",
      "Epoch 95/150\n",
      "20/20 [==============================] - 0s 3ms/step - loss: 5.0500 - val_loss: 3.0764\n",
      "Epoch 96/150\n",
      "20/20 [==============================] - 0s 3ms/step - loss: 5.5520 - val_loss: 3.0784\n",
      "Epoch 97/150\n",
      "20/20 [==============================] - 0s 3ms/step - loss: 3.5324 - val_loss: 3.0775\n",
      "Epoch 98/150\n",
      "20/20 [==============================] - 0s 3ms/step - loss: 3.6262 - val_loss: 3.0689\n",
      "Epoch 99/150\n",
      "20/20 [==============================] - 0s 3ms/step - loss: 3.8957 - val_loss: 3.0610\n",
      "Epoch 100/150\n",
      "20/20 [==============================] - 0s 3ms/step - loss: 3.2266 - val_loss: 3.0556\n",
      "Epoch 101/150\n",
      "20/20 [==============================] - 0s 3ms/step - loss: 3.4178 - val_loss: 3.0575\n",
      "Epoch 102/150\n",
      "20/20 [==============================] - 0s 3ms/step - loss: 2.8738 - val_loss: 3.0582\n",
      "Epoch 103/150\n",
      "20/20 [==============================] - 0s 3ms/step - loss: 3.3300 - val_loss: 3.0503\n",
      "Epoch 104/150\n",
      "20/20 [==============================] - 0s 3ms/step - loss: 3.8522 - val_loss: 3.0414\n",
      "Epoch 105/150\n",
      "20/20 [==============================] - 0s 3ms/step - loss: 3.3834 - val_loss: 3.0524\n",
      "Epoch 106/150\n",
      "20/20 [==============================] - 0s 3ms/step - loss: 3.3046 - val_loss: 3.0393\n",
      "Epoch 107/150\n",
      "20/20 [==============================] - 0s 3ms/step - loss: 3.1174 - val_loss: 3.0355\n",
      "Epoch 108/150\n",
      "20/20 [==============================] - 0s 3ms/step - loss: 3.5786 - val_loss: 3.0361\n",
      "Epoch 109/150\n",
      "20/20 [==============================] - 0s 3ms/step - loss: 2.9593 - val_loss: 3.0320\n",
      "Epoch 110/150\n",
      "20/20 [==============================] - 0s 3ms/step - loss: 2.9361 - val_loss: 3.0355\n",
      "Epoch 111/150\n",
      "20/20 [==============================] - 0s 3ms/step - loss: 4.9211 - val_loss: 3.0291\n",
      "Epoch 112/150\n",
      "20/20 [==============================] - 0s 3ms/step - loss: 3.8107 - val_loss: 3.0193\n",
      "Epoch 113/150\n",
      "20/20 [==============================] - 0s 3ms/step - loss: 4.0985 - val_loss: 3.0271\n",
      "Epoch 114/150\n",
      "20/20 [==============================] - 0s 3ms/step - loss: 4.5497 - val_loss: 3.0140\n",
      "Epoch 115/150\n",
      "20/20 [==============================] - 0s 3ms/step - loss: 5.4647 - val_loss: 3.0149\n",
      "Epoch 116/150\n",
      "20/20 [==============================] - 0s 3ms/step - loss: 3.1417 - val_loss: 3.0626\n",
      "Epoch 117/150\n",
      "20/20 [==============================] - 0s 3ms/step - loss: 2.9607 - val_loss: 3.0042\n",
      "Epoch 118/150\n",
      "20/20 [==============================] - 0s 3ms/step - loss: 3.2655 - val_loss: 3.0046\n",
      "Epoch 119/150\n",
      "20/20 [==============================] - 0s 3ms/step - loss: 2.4363 - val_loss: 3.0080\n",
      "Epoch 120/150\n",
      "20/20 [==============================] - 0s 3ms/step - loss: 3.2526 - val_loss: 2.9981\n",
      "Epoch 121/150\n",
      "20/20 [==============================] - 0s 3ms/step - loss: 2.8614 - val_loss: 3.0271\n",
      "Epoch 122/150\n",
      "20/20 [==============================] - 0s 3ms/step - loss: 2.7165 - val_loss: 2.9927\n",
      "Epoch 123/150\n",
      "20/20 [==============================] - 0s 3ms/step - loss: 3.1168 - val_loss: 3.0018\n",
      "Epoch 124/150\n",
      "20/20 [==============================] - 0s 3ms/step - loss: 3.8652 - val_loss: 2.9918\n",
      "Epoch 125/150\n",
      "20/20 [==============================] - 0s 3ms/step - loss: 3.8765 - val_loss: 2.9810\n",
      "Epoch 126/150\n",
      "20/20 [==============================] - 0s 3ms/step - loss: 2.4598 - val_loss: 3.0141\n",
      "Epoch 127/150\n",
      "20/20 [==============================] - 0s 3ms/step - loss: 3.0352 - val_loss: 2.9794\n",
      "Epoch 128/150\n",
      "20/20 [==============================] - 0s 3ms/step - loss: 4.3166 - val_loss: 2.9792\n",
      "Epoch 129/150\n",
      "20/20 [==============================] - 0s 3ms/step - loss: 2.7422 - val_loss: 2.9691\n",
      "Epoch 130/150\n",
      "20/20 [==============================] - 0s 3ms/step - loss: 3.0082 - val_loss: 2.9694\n",
      "Epoch 131/150\n",
      "20/20 [==============================] - 0s 3ms/step - loss: 3.1572 - val_loss: 2.9691\n",
      "Epoch 132/150\n",
      "20/20 [==============================] - 0s 3ms/step - loss: 3.3171 - val_loss: 2.9635\n",
      "Epoch 133/150\n",
      "20/20 [==============================] - 0s 3ms/step - loss: 2.7577 - val_loss: 2.9721\n",
      "Epoch 134/150\n",
      "20/20 [==============================] - 0s 3ms/step - loss: 3.7713 - val_loss: 2.9628\n",
      "Epoch 135/150\n",
      "20/20 [==============================] - 0s 3ms/step - loss: 3.2189 - val_loss: 2.9862\n",
      "Epoch 136/150\n",
      "20/20 [==============================] - 0s 3ms/step - loss: 2.9837 - val_loss: 2.9576\n",
      "Epoch 137/150\n",
      "20/20 [==============================] - 0s 3ms/step - loss: 3.7562 - val_loss: 2.9573\n",
      "Epoch 138/150\n",
      "20/20 [==============================] - 0s 3ms/step - loss: 3.2002 - val_loss: 2.9632\n",
      "Epoch 139/150\n",
      "20/20 [==============================] - 0s 3ms/step - loss: 3.4532 - val_loss: 2.9458\n",
      "Epoch 140/150\n",
      "20/20 [==============================] - 0s 3ms/step - loss: 4.8415 - val_loss: 2.9463\n",
      "Epoch 141/150\n",
      "20/20 [==============================] - 0s 3ms/step - loss: 3.1092 - val_loss: 2.9449\n",
      "Epoch 142/150\n",
      "20/20 [==============================] - 0s 3ms/step - loss: 2.2630 - val_loss: 2.9681\n",
      "Epoch 143/150\n",
      "20/20 [==============================] - 0s 3ms/step - loss: 2.5497 - val_loss: 2.9426\n",
      "Epoch 144/150\n",
      "20/20 [==============================] - 0s 3ms/step - loss: 3.7531 - val_loss: 2.9439\n",
      "Epoch 145/150\n",
      "20/20 [==============================] - 0s 3ms/step - loss: 2.5266 - val_loss: 2.9616\n",
      "Epoch 146/150\n",
      "20/20 [==============================] - 0s 3ms/step - loss: 4.2312 - val_loss: 2.9326\n",
      "Epoch 147/150\n",
      "20/20 [==============================] - 0s 3ms/step - loss: 5.0901 - val_loss: 2.9344\n",
      "Epoch 148/150\n",
      "20/20 [==============================] - 0s 3ms/step - loss: 3.3437 - val_loss: 2.9323\n",
      "Epoch 149/150\n",
      "20/20 [==============================] - 0s 3ms/step - loss: 3.7815 - val_loss: 2.9395\n",
      "Epoch 150/150\n",
      "20/20 [==============================] - 0s 3ms/step - loss: 4.1939 - val_loss: 2.9297\n"
     ]
    }
   ],
   "source": [
    "history = model_p.fit(X_train,y_train,                    \n",
    "          batch_size=10,\n",
    "          epochs=150, \n",
    "          validation_data=(X_test,y_test))\n"
   ]
  },
  {
   "cell_type": "code",
   "execution_count": 16,
   "metadata": {},
   "outputs": [
    {
     "data": {
      "image/png": "[encoded data removed]",
      "text/plain": [
       "<Figure size 432x288 with 1 Axes>"
      ]
     },
     "metadata": {
      "needs_background": "light"
     },
     "output_type": "display_data"
    }
   ],
   "source": [
    "from scipy.stats import poisson\n",
    "ypred = model_p.predict(X_test).flatten()\n",
    "\n",
    "lower=poisson.ppf(0.025, ypred)\n",
    "upper=poisson.ppf(0.975, ypred)\n",
    "\n",
    "plt.scatter(ypred, y_test,alpha=0.3)\n",
    "sort_idx=np.argsort(ypred,axis=0)\n",
    "plt.plot(ypred, ypred, c=\"black\")\n",
    "plt.plot(ypred[np.argsort(ypred,axis=0)].flatten(), lower[np.argsort(ypred,axis=0)],linestyle='dashed',c=\"black\")\n",
    "plt.plot(ypred[np.argsort(ypred,axis=0)].flatten(), upper[np.argsort(ypred,axis=0)],linestyle='dashed',c=\"black\")\n",
    "plt.title('Comparison on the testset')\n",
    "plt.xlabel('predicted average of caught fish')\n",
    "plt.ylabel('observed number of caught fish')\n",
    "plt.xlim(-2.5,15)\n",
    "plt.ylim(-2.5,15)\n",
    "plt.show()"
   ]
  },
  {
   "cell_type": "code",
   "execution_count": null,
   "metadata": {},
   "outputs": [],
   "source": [
    "plt.plot(history.history['loss'])\n",
    "plt.plot(history.history['val_loss'])\n",
    "plt.title('model loss')\n",
    "plt.ylabel('loss')\n",
    "plt.xlabel('epoch')\n",
    "plt.legend(['train', 'validation'], loc='upper left')\n",
    "plt.show()"
   ]
  },
  {
   "cell_type": "code",
   "execution_count": null,
   "metadata": {},
   "outputs": [],
   "source": []
  }
 ],
 "metadata": {
  "colab": {
   "collapsed_sections": [],
   "name": "Fish_Poisson_Keras.ipynb",
   "provenance": [],
   "toc_visible": true
  },
  "kernelspec": {
   "display_name": "Python 3",
   "language": "python",
   "name": "python3"
  },
  "language_info": {
   "codemirror_mode": {
    "name": "ipython",
    "version": 3
   },
   "file_extension": ".py",
   "mimetype": "text/x-python",
   "name": "python",
   "nbconvert_exporter": "python",
   "pygments_lexer": "ipython3",
   "version": "3.8.5"
  }
 },
 "nbformat": 4,
 "nbformat_minor": 1
}

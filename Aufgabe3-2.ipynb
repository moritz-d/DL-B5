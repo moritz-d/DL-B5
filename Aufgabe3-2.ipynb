{
 "cells": [
  {
   "cell_type": "markdown",
   "metadata": {
    "colab_type": "text",
    "id": "EIolRLmR2tJc"
   },
   "source": [
    "# Neural Networks for Count Data \n",
    "\n",
    "Redo the Poisson Regression for the fish data set, now with keras. From the previous exercise:\n",
    "\n",
    "## Fish Data Set\n",
    "\n",
    "The following data-set contains the number of Fish a group of camper caught in a state park (taken from https://stats.idre.ucla.edu/r/dae/zip/). Your task here is to predict the number of fish $y$ caught by a fishing party. We have a small data set, of 250 groups, which visited a state park and provided the following information: \n",
    "\n",
    "* how many people are in the group\n",
    "* the number children in the group\n",
    "* the use of live bait\n",
    "* whether the group came with a camper to the park. \n",
    "\n",
    "Split the data set into a training set and testset. Use the first 200 entries for training, the remaining 50 for testing. See below for code how to read the data."
   ]
  },
  {
   "cell_type": "code",
   "execution_count": 1,
   "metadata": {
    "colab": {},
    "colab_type": "code",
    "id": "YsAt_vDL3jFG"
   },
   "outputs": [],
   "source": [
    "import matplotlib.pyplot as plt\n",
    "import numpy as np\n",
    "import pandas as pd\n",
    "%matplotlib inline"
   ]
  },
  {
   "cell_type": "code",
   "execution_count": 2,
   "metadata": {
    "colab": {
     "base_uri": "https://localhost:8080/",
     "height": 111
    },
    "colab_type": "code",
    "id": "8zoZAYtO4FHE",
    "outputId": "5ad02e25-b532-47fa-b8af-7af9e8b7a650"
   },
   "outputs": [
    {
     "data": {
      "text/html": [
       "<div>\n",
       "<style scoped>\n",
       "    .dataframe tbody tr th:only-of-type {\n",
       "        vertical-align: middle;\n",
       "    }\n",
       "\n",
       "    .dataframe tbody tr th {\n",
       "        vertical-align: top;\n",
       "    }\n",
       "\n",
       "    .dataframe thead th {\n",
       "        text-align: right;\n",
       "    }\n",
       "</style>\n",
       "<table border=\"1\" class=\"dataframe\">\n",
       "  <thead>\n",
       "    <tr style=\"text-align: right;\">\n",
       "      <th></th>\n",
       "      <th>0</th>\n",
       "      <th>1</th>\n",
       "      <th>2</th>\n",
       "      <th>3</th>\n",
       "    </tr>\n",
       "  </thead>\n",
       "  <tbody>\n",
       "    <tr>\n",
       "      <th>0</th>\n",
       "      <td>1.0</td>\n",
       "      <td>0.0</td>\n",
       "      <td>4.0</td>\n",
       "      <td>0.0</td>\n",
       "    </tr>\n",
       "    <tr>\n",
       "      <th>1</th>\n",
       "      <td>1.0</td>\n",
       "      <td>1.0</td>\n",
       "      <td>2.0</td>\n",
       "      <td>0.0</td>\n",
       "    </tr>\n",
       "  </tbody>\n",
       "</table>\n",
       "</div>"
      ],
      "text/plain": [
       "     0    1    2    3\n",
       "0  1.0  0.0  4.0  0.0\n",
       "1  1.0  1.0  2.0  0.0"
      ]
     },
     "execution_count": 2,
     "metadata": {},
     "output_type": "execute_result"
    }
   ],
   "source": [
    "# from sklearn.model_selection import train_test_split\n",
    "# X_train, X_test, y_train, y_test = train_test_split(X, y, test_size=0.2, random_state=42,shuffle=True)\n",
    "# np.savez('fishing.npz', X_train=X_train, X_test=X_test, y_train=y_train, y_test=y_test)\n",
    "#https://github.com/ioskn/mldl_htwg/raw/master/data/fishing.npz\n",
    "import os\n",
    "from urllib.request import urlretrieve\n",
    "if not os.path.isfile('fishing.npz'):\n",
    "    print(\"Downloading\")\n",
    "    urlretrieve('http://www-home.htwg-konstanz.de/~oduerr/data/fishing.npz',filename = 'fishing.npz')\n",
    "d = np.load('fishing.npz')\n",
    "X_train = d['Xt'] #\"livebait\",\"camper\",\"persons\",\"child\"\n",
    "X_test = d['Xte']\n",
    "y_train = d['yt']\n",
    "y_test = d['yte']\n",
    "pd.DataFrame(X_train[0:2])"
   ]
  },
  {
   "cell_type": "markdown",
   "metadata": {
    "colab_type": "text",
    "id": "4-uaG92sPBXg"
   },
   "source": [
    "## Results from the Machine Learning excercise, we had. "
   ]
  },
  {
   "cell_type": "markdown",
   "metadata": {
    "colab_type": "text",
    "id": "_uiqzQZnChZ_"
   },
   "source": [
    "### LinearRegression"
   ]
  },
  {
   "cell_type": "code",
   "execution_count": 3,
   "metadata": {
    "colab": {
     "base_uri": "https://localhost:8080/",
     "height": 34
    },
    "colab_type": "code",
    "id": "lFLrY1YtNClk",
    "outputId": "d7779272-1b27-4096-e4ec-697001f2bc7e"
   },
   "outputs": [
    {
     "data": {
      "text/plain": [
       "array([-8.49222821,  2.4822138 ,  2.95430727,  4.64953914, -5.47160051])"
      ]
     },
     "execution_count": 3,
     "metadata": {},
     "output_type": "execute_result"
    }
   ],
   "source": [
    "from sklearn.linear_model import LinearRegression\n",
    "Xd = np.hstack([np.ones((X_train.shape[0],1)), X_train])\n",
    "pd.DataFrame(Xd[0:2])\n",
    "Xdt = np.hstack([np.ones((X_test.shape[0],1)), X_test])\n",
    "X_train.shape,Xd.shape\n",
    "model_skl = LinearRegression(fit_intercept=False)\n",
    "res = model_skl.fit(Xd, y_train)\n",
    "res.coef_"
   ]
  },
  {
   "cell_type": "markdown",
   "metadata": {
    "colab_type": "text",
    "id": "pNIUUugxPmSZ"
   },
   "source": [
    "#### RMSE and NLL\n",
    "Determine the Root Mean Square Error (RMSE) and the average negative log-likelihood (NLL) on the testset. For NLL we assume that the conditional probability distrubution (CPD) $p(y|x)$ is given by the density of a Gaussian with constant variance $\\sigma^2$. Estimate $\\sigma^2$ using the variance of the residuals. Use the variance estimation with $1/N$. \n"
   ]
  },
  {
   "cell_type": "code",
   "execution_count": 4,
   "metadata": {
    "colab": {
     "base_uri": "https://localhost:8080/",
     "height": 34
    },
    "colab_type": "code",
    "id": "hmtWgh0xPYca",
    "outputId": "44bf40a7-3fab-4e7a-9eee-6cc466a1980a"
   },
   "outputs": [
    {
     "data": {
      "text/plain": [
       "(8.588126386734231, 73.75591483452077, (50, 5))"
      ]
     },
     "execution_count": 4,
     "metadata": {},
     "output_type": "execute_result"
    }
   ],
   "source": [
    "ypred = model_skl.predict(Xdt)\n",
    "#ypred = np.ones_like(y_test) * np.median(y_train)\n",
    "sigma_hat_2 = np.mean((y_test - ypred.flatten())**2)\n",
    "np.sqrt(sigma_hat_2),sigma_hat_2,Xdt.shape"
   ]
  },
  {
   "cell_type": "code",
   "execution_count": 5,
   "metadata": {
    "colab": {
     "base_uri": "https://localhost:8080/",
     "height": 34
    },
    "colab_type": "code",
    "id": "MLg_A70-QbJr",
    "outputId": "a57c6bb0-cd23-44d1-bf60-2656a62a3ceb"
   },
   "outputs": [
    {
     "data": {
      "text/plain": [
       "3.5693191297796893"
      ]
     },
     "execution_count": 5,
     "metadata": {},
     "output_type": "execute_result"
    }
   ],
   "source": [
    "0.5*np.log(2 * np.pi * sigma_hat_2) + 0.5*np.mean((y_test - ypred.flatten())**2)/sigma_hat_2"
   ]
  },
  {
   "cell_type": "markdown",
   "metadata": {
    "colab_type": "text",
    "id": "PLl18uW6D507"
   },
   "source": [
    "#### Comparison with test set"
   ]
  },
  {
   "cell_type": "markdown",
   "metadata": {
    "colab_type": "text",
    "id": "nCJHxadORefq"
   },
   "source": [
    "For the testset: plot the mean of the predicted number of fish caught against observed number of fish caught. Further include the 2.5 and 97.25 precentile of p(y|x), the conditional predictive distribution (CPD) of $y$ for a given $x$. Why is a Gaussian not ideal for that kind of data? For the Gaussian the 2.5% and the 97.5% percentile is approximatiy given by $\\mu \\pm 1.96*\\sigma$"
   ]
  },
  {
   "cell_type": "code",
   "execution_count": 6,
   "metadata": {
    "colab": {
     "base_uri": "https://localhost:8080/",
     "height": 295
    },
    "colab_type": "code",
    "id": "f51ByX5wSjPa",
    "outputId": "2fce8f60-ebdb-493a-f3a9-6950c7f0bae0"
   },
   "outputs": [
    {
     "data": {
      "image/png": "[encoded data removed]",
      "text/plain": [
       "<Figure size 432x288 with 1 Axes>"
      ]
     },
     "metadata": {
      "needs_background": "light"
     },
     "output_type": "display_data"
    }
   ],
   "source": [
    "plt.scatter(ypred, y_test,alpha=0.3)\n",
    "sort_idx=np.argsort(ypred,axis=0)\n",
    "plt.plot(ypred[sort_idx].flatten(), ypred[sort_idx].flatten()+1.96*np.sqrt(sigma_hat_2),linestyle='dashed',c=\"black\")\n",
    "plt.plot(ypred[sort_idx].flatten(), ypred[sort_idx].flatten()-1.96*np.sqrt(sigma_hat_2),linestyle='dashed',c=\"black\")\n",
    "plt.plot(ypred, ypred, c=\"black\")\n",
    "plt.title('Comparison on the testset')\n",
    "plt.xlabel('predicted average of caught fish')\n",
    "plt.ylabel('observed number of caught fish')\n",
    "plt.xlim(-5,15)\n",
    "plt.ylim(-5,15)\n",
    "plt.show()"
   ]
  },
  {
   "cell_type": "markdown",
   "metadata": {
    "colab_type": "text",
    "id": "XXsavhRVU4BJ"
   },
   "source": [
    "### Poisson\n",
    "\n",
    "This data is count data. Count data has only positive values and also the distribution is discrete. You cannot catch 0.5 fish and that the CPD has probability on negative number of fish is fishy too. A Gaussian as a CPD is therefore not ideal. Now use a Poissonian as CPD. If we assume a Poissonian then the probability to catch $k$ fish is given by \n",
    "$$\n",
    "  p(k) = \\exp(-\\mu) \\frac{\\mu^k}{k!}\n",
    "$$\n",
    "\n",
    "and the NLL is thus by:\n",
    "\n",
    "$$\n",
    " log(p(k)) = -\\mu  + k \\cdot \\log(\\mu) - log(k!)\n",
    "$$\n",
    "\n",
    "with $\\mu$ being the expectation. In our case the average number of fish expected.\n",
    "\n",
    "In the case of the probabilistic interpretation of the linear regression, $y_i$ for a given $x_i$ is distributed like a Gaussian. The paramter $\\mu_i$ from $N(\\mu_i,\\sigma^2)$ has been determined from $x_i$ via $\\mu_i= \\beta^T \\cdot x_i$. Nown in the Poissonian, $\\mu_i$ needs to be positive. We therefore pipe $\\beta^T \\cdot x_i$ through an exponential first to make it positive and can so determine $\\mu_i=exp(\\beta^T \\cdot x_i)$.\n",
    "\n",
    "Use a gradient descent approach to find the solution for the parameters. Calculate the RMSE and the NLL on the test set.\n",
    "\n",
    "Hint: On the trainingset the NLL for the parameter values (1,1,1,1,1) should be approx 1508 and the gradient "
   ]
  },
  {
   "cell_type": "code",
   "execution_count": 7,
   "metadata": {
    "colab": {
     "base_uri": "https://localhost:8080/",
     "height": 34
    },
    "colab_type": "code",
    "id": "HL_GpshBU4BJ",
    "outputId": "1560dedc-f3e6-4455-f474-b90e0c150657"
   },
   "outputs": [
    {
     "ename": "TypeError",
     "evalue": "'numpy.float32' object cannot be interpreted as an integer",
     "output_type": "error",
     "traceback": [
      "\u001b[1;31m---------------------------------------------------------------------------\u001b[0m",
      "\u001b[1;31mTypeError\u001b[0m                                 Traceback (most recent call last)",
      "\u001b[1;32m<ipython-input-7-f811d47ab141>\u001b[0m in \u001b[0;36m<module>\u001b[1;34m\u001b[0m\n\u001b[0;32m      6\u001b[0m     \u001b[1;32mreturn\u001b[0m \u001b[0mnp\u001b[0m\u001b[1;33m.\u001b[0m\u001b[0mmean\u001b[0m\u001b[1;33m(\u001b[0m\u001b[0mret\u001b[0m\u001b[1;33m)\u001b[0m\u001b[1;33m\u001b[0m\u001b[1;33m\u001b[0m\u001b[0m\n\u001b[0;32m      7\u001b[0m \u001b[0mw\u001b[0m \u001b[1;33m=\u001b[0m \u001b[0mnp\u001b[0m\u001b[1;33m.\u001b[0m\u001b[0mones\u001b[0m\u001b[1;33m(\u001b[0m\u001b[1;36m5\u001b[0m\u001b[1;33m)\u001b[0m\u001b[1;33m\u001b[0m\u001b[1;33m\u001b[0m\u001b[0m\n\u001b[1;32m----> 8\u001b[1;33m \u001b[0mNLL\u001b[0m\u001b[1;33m(\u001b[0m\u001b[0my_train\u001b[0m\u001b[1;33m,\u001b[0m \u001b[0mXd\u001b[0m\u001b[1;33m,\u001b[0m\u001b[0mw\u001b[0m\u001b[1;33m)\u001b[0m\u001b[1;33m\u001b[0m\u001b[1;33m\u001b[0m\u001b[0m\n\u001b[0m",
      "\u001b[1;32m<ipython-input-7-f811d47ab141>\u001b[0m in \u001b[0;36mNLL\u001b[1;34m(y_train, Xd, w)\u001b[0m\n\u001b[0;32m      3\u001b[0m     \u001b[0mret\u001b[0m \u001b[1;33m=\u001b[0m \u001b[0mnp\u001b[0m\u001b[1;33m.\u001b[0m\u001b[0mzeros_like\u001b[0m\u001b[1;33m(\u001b[0m\u001b[0mmu\u001b[0m\u001b[1;33m)\u001b[0m\u001b[1;33m\u001b[0m\u001b[1;33m\u001b[0m\u001b[0m\n\u001b[0;32m      4\u001b[0m     \u001b[1;32mfor\u001b[0m \u001b[0mi\u001b[0m \u001b[1;32min\u001b[0m \u001b[0mrange\u001b[0m\u001b[1;33m(\u001b[0m\u001b[0mret\u001b[0m\u001b[1;33m.\u001b[0m\u001b[0mshape\u001b[0m\u001b[1;33m[\u001b[0m\u001b[1;36m0\u001b[0m\u001b[1;33m]\u001b[0m\u001b[1;33m)\u001b[0m\u001b[1;33m:\u001b[0m\u001b[1;33m\u001b[0m\u001b[1;33m\u001b[0m\u001b[0m\n\u001b[1;32m----> 5\u001b[1;33m         \u001b[0mret\u001b[0m\u001b[1;33m[\u001b[0m\u001b[0mi\u001b[0m\u001b[1;33m]\u001b[0m \u001b[1;33m=\u001b[0m \u001b[0mmu\u001b[0m\u001b[1;33m[\u001b[0m\u001b[0mi\u001b[0m\u001b[1;33m]\u001b[0m \u001b[1;33m-\u001b[0m \u001b[0my_train\u001b[0m\u001b[1;33m[\u001b[0m\u001b[0mi\u001b[0m\u001b[1;33m]\u001b[0m\u001b[1;33m*\u001b[0m\u001b[0mnp\u001b[0m\u001b[1;33m.\u001b[0m\u001b[0mlog\u001b[0m\u001b[1;33m(\u001b[0m\u001b[0mmu\u001b[0m\u001b[1;33m[\u001b[0m\u001b[0mi\u001b[0m\u001b[1;33m]\u001b[0m\u001b[1;33m)\u001b[0m \u001b[1;33m+\u001b[0m \u001b[0mnp\u001b[0m\u001b[1;33m.\u001b[0m\u001b[0mlog\u001b[0m\u001b[1;33m(\u001b[0m\u001b[1;36m1.0\u001b[0m\u001b[1;33m*\u001b[0m\u001b[0mnp\u001b[0m\u001b[1;33m.\u001b[0m\u001b[0mmath\u001b[0m\u001b[1;33m.\u001b[0m\u001b[0mfactorial\u001b[0m\u001b[1;33m(\u001b[0m\u001b[0my_train\u001b[0m\u001b[1;33m[\u001b[0m\u001b[0mi\u001b[0m\u001b[1;33m]\u001b[0m\u001b[1;33m)\u001b[0m\u001b[1;33m)\u001b[0m\u001b[1;33m\u001b[0m\u001b[1;33m\u001b[0m\u001b[0m\n\u001b[0m\u001b[0;32m      6\u001b[0m     \u001b[1;32mreturn\u001b[0m \u001b[0mnp\u001b[0m\u001b[1;33m.\u001b[0m\u001b[0mmean\u001b[0m\u001b[1;33m(\u001b[0m\u001b[0mret\u001b[0m\u001b[1;33m)\u001b[0m\u001b[1;33m\u001b[0m\u001b[1;33m\u001b[0m\u001b[0m\n\u001b[0;32m      7\u001b[0m \u001b[0mw\u001b[0m \u001b[1;33m=\u001b[0m \u001b[0mnp\u001b[0m\u001b[1;33m.\u001b[0m\u001b[0mones\u001b[0m\u001b[1;33m(\u001b[0m\u001b[1;36m5\u001b[0m\u001b[1;33m)\u001b[0m\u001b[1;33m\u001b[0m\u001b[1;33m\u001b[0m\u001b[0m\n",
      "\u001b[1;31mTypeError\u001b[0m: 'numpy.float32' object cannot be interpreted as an integer"
     ]
    }
   ],
   "source": [
    "def NLL(y_train, Xd, w):\n",
    "    mu = np.exp(np.matmul(Xd,w))\n",
    "    ret = np.zeros_like(mu)\n",
    "    for i in range(ret.shape[0]):\n",
    "        ret[i] = mu[i] - y_train[i]*np.log(mu[i]) + np.log(1.0*np.math.factorial(y_train[i]))\n",
    "    return np.mean(ret)\n",
    "w = np.ones(5)\n",
    "NLL(y_train, Xd,w)"
   ]
  },
  {
   "cell_type": "code",
   "execution_count": null,
   "metadata": {
    "colab": {
     "base_uri": "https://localhost:8080/",
     "height": 34
    },
    "colab_type": "code",
    "id": "LwpfoYG-U4BL",
    "outputId": "3cf4dd06-24bf-417e-dbb3-679193216af5"
   },
   "outputs": [],
   "source": [
    "def gradNLL(y_train, Xd, w):\n",
    "    mu = np.exp(np.matmul(Xd,w))\n",
    "    #print(mu.shape)\n",
    "    ret = np.zeros_like(Xd)\n",
    "    for i in range(Xd.shape[0]):\n",
    "        mux = Xd[i] * mu[i]\n",
    "        ret[i] = -mux + y_train[i] *Xd[i]\n",
    "    return np.mean(ret, axis=0)\n",
    "\n",
    "NLL(y_train, Xd,np.ones(5))\n",
    "np.round(gradNLL(y_train, Xd,np.ones(5)),2)\n",
    "#1518.61, 1403.99, 1171.02, 5701.91, 3258.7"
   ]
  },
  {
   "cell_type": "code",
   "execution_count": null,
   "metadata": {
    "colab": {
     "base_uri": "https://localhost:8080/",
     "height": 68
    },
    "colab_type": "code",
    "id": "DjXqvYyqU4BN",
    "outputId": "5184b8fa-b50a-436c-c8a1-8c831306fc26"
   },
   "outputs": [],
   "source": [
    "from tqdm import tqdm \n",
    "w = np.ones(5)\n",
    "hist = []\n",
    "for i in tqdm(range(10000)):\n",
    "    if (i % 10 == 0):\n",
    "        hist.append(NLL(y_train, Xd,w))\n",
    "    w = w + 0.001 * gradNLL(y_train, Xd,w)\n",
    "w, NLL(y_train, Xd,w)"
   ]
  },
  {
   "cell_type": "code",
   "execution_count": null,
   "metadata": {
    "colab": {
     "base_uri": "https://localhost:8080/",
     "height": 286
    },
    "colab_type": "code",
    "id": "tRV1sLkQU4BO",
    "outputId": "88b17695-3df7-49c9-ce6b-87f30da200ed"
   },
   "outputs": [],
   "source": [
    "plt.plot(hist)\n",
    "plt.ylim(0,5)"
   ]
  },
  {
   "cell_type": "code",
   "execution_count": null,
   "metadata": {
    "colab": {
     "base_uri": "https://localhost:8080/",
     "height": 34
    },
    "colab_type": "code",
    "id": "j-HhXc7GU4BQ",
    "outputId": "d2743421-6e15-4202-9b28-a02fb7d3d842"
   },
   "outputs": [],
   "source": [
    "mupred = np.exp(np.matmul(Xdt, w))\n",
    "np.sqrt(np.mean((mupred - y_test)**2)), NLL(y_test, Xdt,w)"
   ]
  },
  {
   "cell_type": "markdown",
   "metadata": {
    "colab_type": "text",
    "id": "rtumKjuJEVKE"
   },
   "source": [
    "## A) Poisson Regression using a NN build with Keras\n",
    "\n",
    "Redo the analysis from above using Keras. You may (but don't have to) use tfp."
   ]
  },
  {
   "cell_type": "code",
   "execution_count": 8,
   "metadata": {
    "colab": {},
    "colab_type": "code",
    "id": "z4hUQh2aHFje",
    "scrolled": false
   },
   "outputs": [
    {
     "data": {
      "text/plain": [
       "6.0"
      ]
     },
     "execution_count": 8,
     "metadata": {},
     "output_type": "execute_result"
    }
   ],
   "source": [
    "X_train \n",
    "X_test\n",
    "y_train\n",
    "y_test\n",
    "X_train[0]#\"livebait\",\"camper\",\"persons\",\"child\"\n",
    "y_train[0]"
   ]
  },
  {
   "cell_type": "code",
   "execution_count": 17,
   "metadata": {},
   "outputs": [
    {
     "data": {
      "text/plain": [
       "'2.4.0'"
      ]
     },
     "execution_count": 17,
     "metadata": {},
     "output_type": "execute_result"
    }
   ],
   "source": [
    "import numpy as np\n",
    "import matplotlib.pyplot as plt\n",
    "\n",
    "import tensorflow as tf\n",
    "import tensorflow.keras as keras\n",
    "from tensorflow.keras.models import Sequential,Model\n",
    "from tensorflow.keras.layers import Dense, Convolution2D, MaxPooling2D, Flatten , Activation, Dropout,Convolution1D,Input\n",
    "from tensorflow.keras.optimizers import SGD,Adam\n",
    "import tensorflow_probability as tfp\n",
    "tf.__version__"
   ]
  },
  {
   "cell_type": "markdown",
   "metadata": {},
   "source": [
    "\n",
    "    how many people are in the group\n",
    "    the number children in the group\n",
    "    the use of live bait\n",
    "    whether the group came with a camper to the park.\n"
   ]
  },
  {
   "cell_type": "code",
   "execution_count": 50,
   "metadata": {},
   "outputs": [
    {
     "name": "stdout",
     "output_type": "stream",
     "text": [
      "Model: \"model_10\"\n",
      "_________________________________________________________________\n",
      "Layer (type)                 Output Shape              Param #   \n",
      "=================================================================\n",
      "input_15 (InputLayer)        [(None, 4)]               0         \n",
      "_________________________________________________________________\n",
      "dense_14 (Dense)             (None, 1)                 5         \n",
      "_________________________________________________________________\n",
      "distribution_lambda_11 (Dist multiple                  0         \n",
      "=================================================================\n",
      "Total params: 5\n",
      "Trainable params: 5\n",
      "Non-trainable params: 0\n",
      "_________________________________________________________________\n"
     ]
    }
   ],
   "source": [
    "tfd = tfp.distributions\n",
    "inputs = Input(shape=(X_train.shape[1],))  \n",
    "rate = Dense(1, \n",
    "         activation=tf.exp)(inputs)\n",
    "p_y = tfp.layers.DistributionLambda(tfd.Poisson)(rate)\n",
    " \n",
    "model_p = Model(inputs=inputs, outputs=p_y)\n",
    " \n",
    " \n",
    "def NLL(y_true, y_hat):\n",
    "  return -y_hat.log_prob(y_true)\n",
    " \n",
    "model_p.compile(Adam(learning_rate=0.01), loss=NLL)\n",
    "model_p.summary()"
   ]
  },
  {
   "cell_type": "code",
   "execution_count": 51,
   "metadata": {},
   "outputs": [
    {
     "name": "stdout",
     "output_type": "stream",
     "text": [
      "Epoch 1/150\n",
      "20/20 [==============================] - 1s 11ms/step - loss: 15.2442 - val_loss: 8.0515\n",
      "Epoch 2/150\n",
      "20/20 [==============================] - 0s 3ms/step - loss: 7.3835 - val_loss: 7.6423\n",
      "Epoch 3/150\n",
      "20/20 [==============================] - 0s 3ms/step - loss: 6.2018 - val_loss: 7.2364\n",
      "Epoch 4/150\n",
      "20/20 [==============================] - 0s 3ms/step - loss: 6.5701 - val_loss: 6.8207\n",
      "Epoch 5/150\n",
      "20/20 [==============================] - 0s 3ms/step - loss: 6.1944 - val_loss: 6.4878\n",
      "Epoch 6/150\n",
      "20/20 [==============================] - 0s 3ms/step - loss: 5.1692 - val_loss: 6.1775\n",
      "Epoch 7/150\n",
      "20/20 [==============================] - 0s 3ms/step - loss: 6.1005 - val_loss: 5.9056\n",
      "Epoch 8/150\n",
      "20/20 [==============================] - 0s 3ms/step - loss: 6.3656 - val_loss: 5.6303\n",
      "Epoch 9/150\n",
      "20/20 [==============================] - 0s 3ms/step - loss: 6.0463 - val_loss: 5.4191\n",
      "Epoch 10/150\n",
      "20/20 [==============================] - 0s 3ms/step - loss: 3.4837 - val_loss: 5.2812\n",
      "Epoch 11/150\n",
      "20/20 [==============================] - 0s 3ms/step - loss: 5.1900 - val_loss: 5.1006\n",
      "Epoch 12/150\n",
      "20/20 [==============================] - 0s 3ms/step - loss: 3.6795 - val_loss: 4.9404\n",
      "Epoch 13/150\n",
      "20/20 [==============================] - 0s 3ms/step - loss: 6.4256 - val_loss: 4.7820\n",
      "Epoch 14/150\n",
      "20/20 [==============================] - 0s 3ms/step - loss: 3.9677 - val_loss: 4.6713\n",
      "Epoch 15/150\n",
      "20/20 [==============================] - 0s 3ms/step - loss: 3.8516 - val_loss: 4.5577\n",
      "Epoch 16/150\n",
      "20/20 [==============================] - 0s 3ms/step - loss: 3.4003 - val_loss: 4.4696\n",
      "Epoch 17/150\n",
      "20/20 [==============================] - 0s 3ms/step - loss: 3.7475 - val_loss: 4.3690\n",
      "Epoch 18/150\n",
      "20/20 [==============================] - 0s 3ms/step - loss: 4.9441 - val_loss: 4.2817\n",
      "Epoch 19/150\n",
      "20/20 [==============================] - 0s 3ms/step - loss: 4.6689 - val_loss: 4.2063\n",
      "Epoch 20/150\n",
      "20/20 [==============================] - 0s 3ms/step - loss: 3.6726 - val_loss: 4.1325\n",
      "Epoch 21/150\n",
      "20/20 [==============================] - 0s 3ms/step - loss: 6.7563 - val_loss: 4.0707\n",
      "Epoch 22/150\n",
      "20/20 [==============================] - 0s 3ms/step - loss: 6.9153 - val_loss: 4.0079\n",
      "Epoch 23/150\n",
      "20/20 [==============================] - 0s 3ms/step - loss: 3.1017 - val_loss: 3.9745\n",
      "Epoch 24/150\n",
      "20/20 [==============================] - 0s 3ms/step - loss: 4.7794 - val_loss: 3.9142\n",
      "Epoch 25/150\n",
      "20/20 [==============================] - 0s 3ms/step - loss: 3.7039 - val_loss: 3.8577\n",
      "Epoch 26/150\n",
      "20/20 [==============================] - 0s 3ms/step - loss: 3.4280 - val_loss: 3.8169\n",
      "Epoch 27/150\n",
      "20/20 [==============================] - 0s 3ms/step - loss: 4.4784 - val_loss: 3.7760\n",
      "Epoch 28/150\n",
      "20/20 [==============================] - 0s 3ms/step - loss: 6.2156 - val_loss: 3.7390\n",
      "Epoch 29/150\n",
      "20/20 [==============================] - 0s 3ms/step - loss: 4.3392 - val_loss: 3.7011\n",
      "Epoch 30/150\n",
      "20/20 [==============================] - 0s 3ms/step - loss: 5.7095 - val_loss: 3.6720\n",
      "Epoch 31/150\n",
      "20/20 [==============================] - 0s 3ms/step - loss: 3.2677 - val_loss: 3.6940\n",
      "Epoch 32/150\n",
      "20/20 [==============================] - 0s 3ms/step - loss: 6.5980 - val_loss: 3.6118\n",
      "Epoch 33/150\n",
      "20/20 [==============================] - 0s 3ms/step - loss: 3.5867 - val_loss: 3.5777\n",
      "Epoch 34/150\n",
      "20/20 [==============================] - 0s 3ms/step - loss: 3.1763 - val_loss: 3.5728\n",
      "Epoch 35/150\n",
      "20/20 [==============================] - 0s 3ms/step - loss: 3.2565 - val_loss: 3.5393\n",
      "Epoch 36/150\n",
      "20/20 [==============================] - 0s 3ms/step - loss: 3.0777 - val_loss: 3.5141\n",
      "Epoch 37/150\n",
      "20/20 [==============================] - 0s 3ms/step - loss: 3.7897 - val_loss: 3.4902\n",
      "Epoch 38/150\n",
      "20/20 [==============================] - 0s 3ms/step - loss: 2.9796 - val_loss: 3.5100\n",
      "Epoch 39/150\n",
      "20/20 [==============================] - 0s 3ms/step - loss: 5.3238 - val_loss: 3.4533\n",
      "Epoch 40/150\n",
      "20/20 [==============================] - 0s 3ms/step - loss: 5.5306 - val_loss: 3.4245\n",
      "Epoch 41/150\n",
      "20/20 [==============================] - 0s 3ms/step - loss: 3.7384 - val_loss: 3.4126\n",
      "Epoch 42/150\n",
      "20/20 [==============================] - 0s 3ms/step - loss: 3.7595 - val_loss: 3.3968\n",
      "Epoch 43/150\n",
      "20/20 [==============================] - 0s 3ms/step - loss: 3.6473 - val_loss: 3.3831\n",
      "Epoch 44/150\n",
      "20/20 [==============================] - 0s 3ms/step - loss: 2.7010 - val_loss: 3.3814\n",
      "Epoch 45/150\n",
      "20/20 [==============================] - 0s 3ms/step - loss: 2.7922 - val_loss: 3.3505\n",
      "Epoch 46/150\n",
      "20/20 [==============================] - 0s 3ms/step - loss: 4.3797 - val_loss: 3.3441\n",
      "Epoch 47/150\n",
      "20/20 [==============================] - 0s 3ms/step - loss: 3.4417 - val_loss: 3.3409\n",
      "Epoch 48/150\n",
      "20/20 [==============================] - 0s 3ms/step - loss: 4.1791 - val_loss: 3.3074\n",
      "Epoch 49/150\n",
      "20/20 [==============================] - 0s 3ms/step - loss: 5.2943 - val_loss: 3.2967\n",
      "Epoch 50/150\n",
      "20/20 [==============================] - 0s 3ms/step - loss: 3.7084 - val_loss: 3.2840\n",
      "Epoch 51/150\n",
      "20/20 [==============================] - 0s 3ms/step - loss: 3.3046 - val_loss: 3.2723\n",
      "Epoch 52/150\n",
      "20/20 [==============================] - 0s 3ms/step - loss: 2.6980 - val_loss: 3.2735\n",
      "Epoch 53/150\n",
      "20/20 [==============================] - 0s 3ms/step - loss: 3.9137 - val_loss: 3.2713\n",
      "Epoch 54/150\n",
      "20/20 [==============================] - 0s 3ms/step - loss: 2.6601 - val_loss: 3.2413\n",
      "Epoch 55/150\n",
      "20/20 [==============================] - 0s 3ms/step - loss: 3.6653 - val_loss: 3.2307\n",
      "Epoch 56/150\n",
      "20/20 [==============================] - 0s 3ms/step - loss: 4.2383 - val_loss: 3.2303\n",
      "Epoch 57/150\n",
      "20/20 [==============================] - 0s 3ms/step - loss: 3.8176 - val_loss: 3.2189\n",
      "Epoch 58/150\n",
      "20/20 [==============================] - 0s 3ms/step - loss: 3.2789 - val_loss: 3.2116\n",
      "Epoch 59/150\n",
      "20/20 [==============================] - 0s 3ms/step - loss: 4.2920 - val_loss: 3.1949\n",
      "Epoch 60/150\n",
      "20/20 [==============================] - 0s 3ms/step - loss: 3.7792 - val_loss: 3.1917\n",
      "Epoch 61/150\n",
      "20/20 [==============================] - 0s 3ms/step - loss: 3.0709 - val_loss: 3.1879\n",
      "Epoch 62/150\n",
      "20/20 [==============================] - 0s 3ms/step - loss: 4.6525 - val_loss: 3.1732\n",
      "Epoch 63/150\n",
      "20/20 [==============================] - 0s 3ms/step - loss: 3.4778 - val_loss: 3.1606\n",
      "Epoch 64/150\n",
      "20/20 [==============================] - 0s 3ms/step - loss: 2.5988 - val_loss: 3.1974\n",
      "Epoch 65/150\n",
      "20/20 [==============================] - 0s 3ms/step - loss: 2.4751 - val_loss: 3.1635\n",
      "Epoch 66/150\n",
      "20/20 [==============================] - 0s 3ms/step - loss: 3.6865 - val_loss: 3.1523\n",
      "Epoch 67/150\n",
      "20/20 [==============================] - 0s 3ms/step - loss: 2.4212 - val_loss: 3.1412\n",
      "Epoch 68/150\n",
      "20/20 [==============================] - 0s 3ms/step - loss: 3.9675 - val_loss: 3.1307\n",
      "Epoch 69/150\n",
      "20/20 [==============================] - 0s 3ms/step - loss: 3.3458 - val_loss: 3.1217\n",
      "Epoch 70/150\n",
      "20/20 [==============================] - 0s 3ms/step - loss: 2.9819 - val_loss: 3.1189\n",
      "Epoch 71/150\n",
      "20/20 [==============================] - 0s 3ms/step - loss: 4.5437 - val_loss: 3.1120\n",
      "Epoch 72/150\n",
      "20/20 [==============================] - 0s 3ms/step - loss: 4.4676 - val_loss: 3.1119\n",
      "Epoch 73/150\n",
      "20/20 [==============================] - 0s 3ms/step - loss: 4.1920 - val_loss: 3.1162\n",
      "Epoch 74/150\n",
      "20/20 [==============================] - 0s 3ms/step - loss: 3.4642 - val_loss: 3.0934\n",
      "Epoch 75/150\n",
      "20/20 [==============================] - 0s 3ms/step - loss: 2.9720 - val_loss: 3.0988\n",
      "Epoch 76/150\n",
      "20/20 [==============================] - 0s 3ms/step - loss: 2.8251 - val_loss: 3.0959\n",
      "Epoch 77/150\n",
      "20/20 [==============================] - 0s 3ms/step - loss: 3.4599 - val_loss: 3.0877\n",
      "Epoch 78/150\n",
      "20/20 [==============================] - 0s 3ms/step - loss: 3.9082 - val_loss: 3.0771\n",
      "Epoch 79/150\n",
      "20/20 [==============================] - 0s 3ms/step - loss: 3.9374 - val_loss: 3.0686\n",
      "Epoch 80/150\n",
      "20/20 [==============================] - 0s 3ms/step - loss: 3.4030 - val_loss: 3.0776\n",
      "Epoch 81/150\n",
      "20/20 [==============================] - 0s 3ms/step - loss: 4.0930 - val_loss: 3.0621\n",
      "Epoch 82/150\n",
      "20/20 [==============================] - 0s 3ms/step - loss: 3.3541 - val_loss: 3.0664\n"
     ]
    },
    {
     "name": "stdout",
     "output_type": "stream",
     "text": [
      "Epoch 83/150\n",
      "20/20 [==============================] - 0s 3ms/step - loss: 3.0703 - val_loss: 3.0777\n",
      "Epoch 84/150\n",
      "20/20 [==============================] - 0s 3ms/step - loss: 3.0291 - val_loss: 3.0599\n",
      "Epoch 85/150\n",
      "20/20 [==============================] - 0s 3ms/step - loss: 2.6210 - val_loss: 3.0414\n",
      "Epoch 86/150\n",
      "20/20 [==============================] - 0s 3ms/step - loss: 3.0176 - val_loss: 3.0393\n",
      "Epoch 87/150\n",
      "20/20 [==============================] - 0s 3ms/step - loss: 3.0776 - val_loss: 3.0396\n",
      "Epoch 88/150\n",
      "20/20 [==============================] - 0s 3ms/step - loss: 4.1344 - val_loss: 3.0355\n",
      "Epoch 89/150\n",
      "20/20 [==============================] - 0s 3ms/step - loss: 2.5607 - val_loss: 3.0592\n",
      "Epoch 90/150\n",
      "20/20 [==============================] - 0s 3ms/step - loss: 3.3208 - val_loss: 3.0516\n",
      "Epoch 91/150\n",
      "20/20 [==============================] - 0s 3ms/step - loss: 4.0550 - val_loss: 3.0320\n",
      "Epoch 92/150\n",
      "20/20 [==============================] - 0s 3ms/step - loss: 3.1235 - val_loss: 3.0174\n",
      "Epoch 93/150\n",
      "20/20 [==============================] - 0s 3ms/step - loss: 3.0334 - val_loss: 3.0236\n",
      "Epoch 94/150\n",
      "20/20 [==============================] - 0s 3ms/step - loss: 3.2499 - val_loss: 3.0076\n",
      "Epoch 95/150\n",
      "20/20 [==============================] - 0s 3ms/step - loss: 3.5995 - val_loss: 3.0034\n",
      "Epoch 96/150\n",
      "20/20 [==============================] - 0s 3ms/step - loss: 3.4000 - val_loss: 2.9996\n",
      "Epoch 97/150\n",
      "20/20 [==============================] - 0s 3ms/step - loss: 3.0760 - val_loss: 3.0042\n",
      "Epoch 98/150\n",
      "20/20 [==============================] - 0s 3ms/step - loss: 2.6512 - val_loss: 3.0208\n",
      "Epoch 99/150\n",
      "20/20 [==============================] - 0s 3ms/step - loss: 2.5910 - val_loss: 2.9922\n",
      "Epoch 100/150\n",
      "20/20 [==============================] - 0s 3ms/step - loss: 3.4585 - val_loss: 3.0104\n",
      "Epoch 101/150\n",
      "20/20 [==============================] - 0s 3ms/step - loss: 2.4837 - val_loss: 2.9944\n",
      "Epoch 102/150\n",
      "20/20 [==============================] - 0s 3ms/step - loss: 2.9431 - val_loss: 2.9858\n",
      "Epoch 103/150\n",
      "20/20 [==============================] - 0s 3ms/step - loss: 3.8365 - val_loss: 2.9748\n",
      "Epoch 104/150\n",
      "20/20 [==============================] - 0s 3ms/step - loss: 2.5182 - val_loss: 2.9974\n",
      "Epoch 105/150\n",
      "20/20 [==============================] - 0s 3ms/step - loss: 4.8557 - val_loss: 2.9776\n",
      "Epoch 106/150\n",
      "20/20 [==============================] - 0s 3ms/step - loss: 2.6892 - val_loss: 2.9809\n",
      "Epoch 107/150\n",
      "20/20 [==============================] - 0s 3ms/step - loss: 3.5175 - val_loss: 2.9769\n",
      "Epoch 108/150\n",
      "20/20 [==============================] - 0s 3ms/step - loss: 3.1573 - val_loss: 2.9637\n",
      "Epoch 109/150\n",
      "20/20 [==============================] - 0s 3ms/step - loss: 3.8464 - val_loss: 2.9912\n",
      "Epoch 110/150\n",
      "20/20 [==============================] - 0s 3ms/step - loss: 3.1790 - val_loss: 2.9608\n",
      "Epoch 111/150\n",
      "20/20 [==============================] - 0s 3ms/step - loss: 4.9051 - val_loss: 2.9555\n",
      "Epoch 112/150\n",
      "20/20 [==============================] - 0s 3ms/step - loss: 3.2488 - val_loss: 2.9627\n",
      "Epoch 113/150\n",
      "20/20 [==============================] - 0s 3ms/step - loss: 3.5634 - val_loss: 2.9563\n",
      "Epoch 114/150\n",
      "20/20 [==============================] - 0s 3ms/step - loss: 3.6141 - val_loss: 2.9557\n",
      "Epoch 115/150\n",
      "20/20 [==============================] - 0s 3ms/step - loss: 2.8783 - val_loss: 2.9634\n",
      "Epoch 116/150\n",
      "20/20 [==============================] - 0s 3ms/step - loss: 2.4810 - val_loss: 2.9547\n",
      "Epoch 117/150\n",
      "20/20 [==============================] - 0s 3ms/step - loss: 2.6627 - val_loss: 2.9514\n",
      "Epoch 118/150\n",
      "20/20 [==============================] - 0s 3ms/step - loss: 3.4332 - val_loss: 2.9533\n",
      "Epoch 119/150\n",
      "20/20 [==============================] - 0s 3ms/step - loss: 3.3355 - val_loss: 2.9456\n",
      "Epoch 120/150\n",
      "20/20 [==============================] - 0s 3ms/step - loss: 5.0482 - val_loss: 2.9366\n",
      "Epoch 121/150\n",
      "20/20 [==============================] - 0s 3ms/step - loss: 4.0424 - val_loss: 2.9528\n",
      "Epoch 122/150\n",
      "20/20 [==============================] - 0s 3ms/step - loss: 6.0455 - val_loss: 2.9370\n",
      "Epoch 123/150\n",
      "20/20 [==============================] - 0s 3ms/step - loss: 3.0697 - val_loss: 2.9283\n",
      "Epoch 124/150\n",
      "20/20 [==============================] - 0s 3ms/step - loss: 3.5870 - val_loss: 2.9320\n",
      "Epoch 125/150\n",
      "20/20 [==============================] - 0s 3ms/step - loss: 3.6760 - val_loss: 2.9263\n",
      "Epoch 126/150\n",
      "20/20 [==============================] - 0s 3ms/step - loss: 2.5516 - val_loss: 2.9595\n",
      "Epoch 127/150\n",
      "20/20 [==============================] - 0s 3ms/step - loss: 3.2229 - val_loss: 2.9277\n",
      "Epoch 128/150\n",
      "20/20 [==============================] - ETA: 0s - loss: 1.882 - 0s 3ms/step - loss: 3.6461 - val_loss: 2.9144\n",
      "Epoch 129/150\n",
      "20/20 [==============================] - 0s 3ms/step - loss: 3.6848 - val_loss: 2.9252\n",
      "Epoch 130/150\n",
      "20/20 [==============================] - 0s 3ms/step - loss: 2.8846 - val_loss: 2.9489\n",
      "Epoch 131/150\n",
      "20/20 [==============================] - 0s 3ms/step - loss: 2.7562 - val_loss: 2.9200\n",
      "Epoch 132/150\n",
      "20/20 [==============================] - 0s 3ms/step - loss: 4.9589 - val_loss: 2.9054\n",
      "Epoch 133/150\n",
      "20/20 [==============================] - 0s 3ms/step - loss: 2.9079 - val_loss: 2.9098\n",
      "Epoch 134/150\n",
      "20/20 [==============================] - 0s 3ms/step - loss: 3.4744 - val_loss: 2.9118\n",
      "Epoch 135/150\n",
      "20/20 [==============================] - 0s 3ms/step - loss: 5.6894 - val_loss: 2.9087\n",
      "Epoch 136/150\n",
      "20/20 [==============================] - 0s 3ms/step - loss: 3.9642 - val_loss: 2.9100\n",
      "Epoch 137/150\n",
      "20/20 [==============================] - 0s 3ms/step - loss: 2.6087 - val_loss: 2.9726\n",
      "Epoch 138/150\n",
      "20/20 [==============================] - 0s 3ms/step - loss: 2.7149 - val_loss: 2.9134\n",
      "Epoch 139/150\n",
      "20/20 [==============================] - 0s 3ms/step - loss: 3.3069 - val_loss: 2.9011\n",
      "Epoch 140/150\n",
      "20/20 [==============================] - 0s 3ms/step - loss: 2.5987 - val_loss: 2.9015\n",
      "Epoch 141/150\n",
      "20/20 [==============================] - 0s 3ms/step - loss: 3.4762 - val_loss: 2.8930\n",
      "Epoch 142/150\n",
      "20/20 [==============================] - 0s 3ms/step - loss: 3.3045 - val_loss: 2.8917\n",
      "Epoch 143/150\n",
      "20/20 [==============================] - 0s 3ms/step - loss: 3.2651 - val_loss: 2.9235\n",
      "Epoch 144/150\n",
      "20/20 [==============================] - 0s 3ms/step - loss: 2.9566 - val_loss: 2.8892\n",
      "Epoch 145/150\n",
      "20/20 [==============================] - 0s 3ms/step - loss: 3.9906 - val_loss: 2.8869\n",
      "Epoch 146/150\n",
      "20/20 [==============================] - 0s 3ms/step - loss: 3.0372 - val_loss: 2.8925\n",
      "Epoch 147/150\n",
      "20/20 [==============================] - 0s 3ms/step - loss: 3.5100 - val_loss: 2.9105\n",
      "Epoch 148/150\n",
      "20/20 [==============================] - 0s 3ms/step - loss: 3.8756 - val_loss: 2.8905\n",
      "Epoch 149/150\n",
      "20/20 [==============================] - 0s 3ms/step - loss: 3.3030 - val_loss: 2.8821\n",
      "Epoch 150/150\n",
      "20/20 [==============================] - 0s 3ms/step - loss: 3.2070 - val_loss: 2.8846\n"
     ]
    }
   ],
   "source": [
    "history = model_p.fit(X_train,y_train,                    \n",
    "          batch_size=10,\n",
    "          epochs=150, \n",
    "          validation_data=(X_test,y_test))\n"
   ]
  },
  {
   "cell_type": "code",
   "execution_count": 41,
   "metadata": {},
   "outputs": [
    {
     "data": {
      "image/png": "[encoded data removed]",
      "text/plain": [
       "<Figure size 432x288 with 1 Axes>"
      ]
     },
     "metadata": {
      "needs_background": "light"
     },
     "output_type": "display_data"
    }
   ],
   "source": [
    "\n",
    "ypred = model_p.predict(X_test)\n",
    "plt.scatter(ypred, y_test,alpha=0.3)\n",
    "sort_idx=np.argsort(ypred,axis=0)\n",
    "plt.plot(ypred, ypred, c=\"black\")\n",
    "plt.title('Comparison on the testset')\n",
    "plt.xlabel('predicted average of caught fish')\n",
    "plt.ylabel('observed number of caught fish')\n",
    "plt.xlim(-2.5,15)\n",
    "plt.ylim(-2.5,15)\n",
    "plt.show()"
   ]
  },
  {
   "cell_type": "code",
   "execution_count": 52,
   "metadata": {},
   "outputs": [
    {
     "data": {
      "image/png": "[encoded data removed]",
      "text/plain": [
       "<Figure size 432x288 with 1 Axes>"
      ]
     },
     "metadata": {
      "needs_background": "light"
     },
     "output_type": "display_data"
    }
   ],
   "source": [
    "plt.plot(history.history['loss'])\n",
    "plt.plot(history.history['val_loss'])\n",
    "plt.title('model loss')\n",
    "plt.ylabel('loss')\n",
    "plt.xlabel('epoch')\n",
    "plt.legend(['train', 'validation'], loc='upper left')\n",
    "plt.show()"
   ]
  },
  {
   "cell_type": "code",
   "execution_count": null,
   "metadata": {},
   "outputs": [],
   "source": []
  }
 ],
 "metadata": {
  "colab": {
   "collapsed_sections": [],
   "name": "Fish_Poisson_Keras.ipynb",
   "provenance": [],
   "toc_visible": true
  },
  "kernelspec": {
   "display_name": "Python 3",
   "language": "python",
   "name": "python3"
  },
  "language_info": {
   "codemirror_mode": {
    "name": "ipython",
    "version": 3
   },
   "file_extension": ".py",
   "mimetype": "text/x-python",
   "name": "python",
   "nbconvert_exporter": "python",
   "pygments_lexer": "ipython3",
   "version": "3.8.5"
  }
 },
 "nbformat": 4,
 "nbformat_minor": 1
}

{
 "cells": [
  {
   "cell_type": "markdown",
   "metadata": {},
   "source": [
    "# Classification of Faces\n",
    "\n",
    "In this excercise, we try to classify images of : \"Miranda_Cosgrove\" \"Chris_Martin\" \"Emma_Stone\" \"Jamie_Foxx\" \"Steve_Jobs\" \"Zac_Efron\" \"Sandra_Oh\" \"Taryn_Manning\". The data is from a random sample of 8 persons of the OXFORD VGG Face dataset, more information here: http://www.robots.ox.ac.uk/~vgg/data/vgg_face/."
   ]
  },
  {
   "cell_type": "markdown",
   "metadata": {},
   "source": [
    "## Downloading of Data\n",
    "\n",
    "You can download the data using the following code:"
   ]
  },
  {
   "cell_type": "code",
   "execution_count": 1,
   "metadata": {},
   "outputs": [],
   "source": [
    "import gzip\n",
    "import numpy as np\n",
    "import matplotlib.pyplot as plt\n",
    "import tensorflow as tf\n",
    "import tensorflow.keras as keras\n",
    "from tensorflow.keras.preprocessing.image import ImageDataGenerator\n",
    "from tensorflow.keras.models import Sequential\n",
    "from tensorflow.keras.layers import Dense, Dropout, Activation, Flatten\n",
    "from tensorflow.keras.layers import Conv2D, MaxPooling2D\n",
    "from tensorflow.keras.optimizers import SGD\n",
    "from tensorflow.keras import layers\n",
    "from tensorflow.keras import activations\n",
    "\n",
    "from tensorflow.keras import metrics"
   ]
  },
  {
   "cell_type": "code",
   "execution_count": 2,
   "metadata": {},
   "outputs": [
    {
     "name": "stderr",
     "output_type": "stream",
     "text": [
      "Der Befehl \"ls\" ist entweder falsch geschrieben oder\n",
      "konnte nicht gefunden werden.\n"
     ]
    }
   ],
   "source": [
    "# Downloading the data, if it does not exist, this will take some time... (>120MB)\n",
    "import urllib\n",
    "import os\n",
    "if not os.path.isfile('8_faces_train_and_valid.hdf5'):\n",
    "    urllib.request.urlretrieve(\"https://www.dropbox.com/s/dx03vk6dmbtoywn/8_faces_train_and_valid.hdf5?dl=1\",\"8_faces_train_and_valid.hdf5\")\n",
    "!ls -l 8_faces_train_and_valid.hdf5"
   ]
  },
  {
   "cell_type": "code",
   "execution_count": 18,
   "metadata": {},
   "outputs": [
    {
     "name": "stdout",
     "output_type": "stream",
     "text": [
      "['X_train_8_faces', 'X_valid_8_faces', 'Y_train_8_faces', 'Y_valid_8_faces']\n",
      "(2000, 48, 48, 3)\n",
      "(2000,)\n",
      "(400, 48, 48, 3)\n",
      "(400,) float64\n"
     ]
    },
    {
     "name": "stderr",
     "output_type": "stream",
     "text": [
      "<ipython-input-18-cb1dfbb9d158>:4: H5pyDeprecationWarning: dataset.value has been deprecated. Use dataset[()] instead.\n",
      "  X_train = h5f_X['X_train_8_faces'].value\n",
      "<ipython-input-18-cb1dfbb9d158>:6: H5pyDeprecationWarning: dataset.value has been deprecated. Use dataset[()] instead.\n",
      "  Y_train = h5f_X['Y_train_8_faces'].value\n",
      "<ipython-input-18-cb1dfbb9d158>:8: H5pyDeprecationWarning: dataset.value has been deprecated. Use dataset[()] instead.\n",
      "  X_valid = h5f_X['X_valid_8_faces'].value\n",
      "<ipython-input-18-cb1dfbb9d158>:10: H5pyDeprecationWarning: dataset.value has been deprecated. Use dataset[()] instead.\n",
      "  Y_valid = h5f_X['Y_valid_8_faces'].value\n"
     ]
    }
   ],
   "source": [
    "import h5py\n",
    "h5f_X = h5py.File('8_faces_train_and_valid.hdf5', 'r')\n",
    "print(list(h5f_X.keys()))\n",
    "X_train = h5f_X['X_train_8_faces'].value\n",
    "print(X_train.shape)\n",
    "Y_train = h5f_X['Y_train_8_faces'].value\n",
    "print(Y_train.shape)\n",
    "X_valid = h5f_X['X_valid_8_faces'].value\n",
    "print(X_valid.shape)\n",
    "Y_valid = h5f_X['Y_valid_8_faces'].value\n",
    "print(Y_valid.shape, X_valid.dtype)"
   ]
  },
  {
   "cell_type": "code",
   "execution_count": 24,
   "metadata": {},
   "outputs": [
    {
     "name": "stdout",
     "output_type": "stream",
     "text": [
      "250\n"
     ]
    },
    {
     "data": {
      "text/plain": [
       "<matplotlib.image.AxesImage at 0x247bb1994c0>"
      ]
     },
     "execution_count": 24,
     "metadata": {},
     "output_type": "execute_result"
    },
    {
     "data": {
      "image/png": "[encoded data removed]",
      "text/plain": [
       "<Figure size 432x288 with 1 Axes>"
      ]
     },
     "metadata": {
      "needs_background": "light"
     },
     "output_type": "display_data"
    }
   ],
   "source": [
    "n = 0 #Miranda Cosgrove\n",
    "n = 1 #Chris Martin (singer)\n",
    "n = 2 #Emma Stone (actress)\n",
    "n = 3 #Jamie Foxx (actor)\n",
    "n = 4 #Steve Jobs (entrepreneur)\n",
    "n = 5 #Zac Efron (actor)\n",
    "n = 6 #Sandra Oh (actress)\n",
    "n = 7 #Taryn Manning (actress)\n",
    "n = 4 \n",
    "idx=np.reshape(np.where(Y_train[0:len(Y_train)]==n),(250))\n",
    "print(len(Y_train[idx]))\n",
    "plt.imshow(np.asarray(X_train[idx][0],dtype=\"uint8\"))\n"
   ]
  },
  {
   "cell_type": "code",
   "execution_count": 22,
   "metadata": {},
   "outputs": [
    {
     "name": "stdout",
     "output_type": "stream",
     "text": [
      "['X_test_8_faces', 'Y_test_8_faces']\n",
      "(400, 48, 48, 3)\n",
      "(400,)\n"
     ]
    },
    {
     "name": "stderr",
     "output_type": "stream",
     "text": [
      "<ipython-input-22-fa69679b5ec8>:6: H5pyDeprecationWarning: dataset.value has been deprecated. Use dataset[()] instead.\n",
      "  X_test = h5f_X['X_test_8_faces'].value\n",
      "<ipython-input-22-fa69679b5ec8>:8: H5pyDeprecationWarning: dataset.value has been deprecated. Use dataset[()] instead.\n",
      "  Y_test = h5f_X['Y_test_8_faces'].value\n"
     ]
    }
   ],
   "source": [
    "#Downloading the data, if it does not exist\n",
    "if not os.path.isfile('8_faces_test.hdf5'):\n",
    "  urllib.request.urlretrieve(\"https://www.dropbox.com/s/ugxrdo0lpc2ixvr/8_faces_test.hdf5?dl=1\",\"8_faces_test.hdf5\")\n",
    "h5f_X = h5py.File('8_faces_test.hdf5', 'r')\n",
    "print(list(h5f_X.keys()))\n",
    "X_test = h5f_X['X_test_8_faces'].value\n",
    "print(X_test.shape)\n",
    "Y_test = h5f_X['Y_test_8_faces'].value\n",
    "print(Y_test.shape)"
   ]
  },
  {
   "cell_type": "code",
   "execution_count": 23,
   "metadata": {},
   "outputs": [],
   "source": [
    "np.min(X_train),np.max(X_train),np.min(X_test),np.max(X_test)\n",
    "X_train /= 255\n",
    "X_valid /= 255\n",
    "X_test /= 255\n",
    "\n"
   ]
  },
  {
   "cell_type": "markdown",
   "metadata": {},
   "source": [
    "## a) Training an CNN from scratch\n",
    "\n",
    "Train a model (as shown below) from scratch, using the training data for training and the validation data for validation. For all activations in the hidden layer use the 'ReLU', for the last layer use softmax. Use 3x3 convolutions and use padding = same.\n",
    "\n",
    "* Plot the learning curves: (epochs vs training loss and validation loss) and epochs vs accuracy. \n",
    "* Calculate the accuracy on the test set (you should reach an accuracy of about 0.54)\n",
    "* Calculate the confusion matrix\n",
    "* Have a look at missclassified examples\n",
    "\n",
    "Image of the network:\n",
    "https://github.com/ioskn/mldl_htwg/blob/master/uebungen/dl_cnn_faces_net.png"
   ]
  },
  {
   "cell_type": "code",
   "execution_count": 7,
   "metadata": {},
   "outputs": [],
   "source": [
    "Y_trainF =[]\n",
    "Y_validF =[]\n",
    "Y_testF = []\n",
    "for i in Y_train:\n",
    "    arr = []\n",
    "    for j in range(0,8):\n",
    "        if i == j:\n",
    "            arr.append(1)\n",
    "        else:\n",
    "            arr.append(0)\n",
    "    Y_trainF.append(np.array(arr))\n",
    "for i in Y_valid:\n",
    "    arr = []\n",
    "    for j in range(0,8):\n",
    "        if i == j:\n",
    "            arr.append(1)\n",
    "        else:\n",
    "            arr.append(0)\n",
    "    Y_validF.append(np.array(arr))\n",
    "    \n",
    "for i in Y_test:\n",
    "    arr = []\n",
    "    for j in range(0,8):\n",
    "        if i == j:\n",
    "            arr.append(1)\n",
    "        else:\n",
    "            arr.append(0)\n",
    "    Y_testF.append(np.array(arr))    \n",
    "Y_trainF =np.array(Y_trainF)\n",
    "Y_validF =np.array(Y_validF)\n",
    "Y_testF =np.array(Y_testF)"
   ]
  },
  {
   "cell_type": "code",
   "execution_count": 8,
   "metadata": {},
   "outputs": [],
   "source": [
    "model = Sequential()\n",
    "model.add(Conv2D(15, kernel_size=(3, 3),activation='relu',input_shape=(48, 48, 3),padding=\"same\"))\n",
    "model.add(Activation(activations.relu))\n",
    "model.add(Conv2D(15, kernel_size=(3, 3),activation='relu',input_shape=(48, 48, 15),padding=\"same\"))\n",
    "model.add(Activation(activations.relu))\n",
    "\n",
    "model.add(MaxPooling2D(pool_size=(2, 2)))\n",
    "\n",
    "model.add(Conv2D(30, kernel_size=(3, 3),activation='relu',input_shape=(24, 24, 15),padding=\"same\"))\n",
    "model.add(Activation(activations.relu))\n",
    "model.add(Conv2D(30, kernel_size=(3, 3),activation='relu',input_shape=(24, 24, 30),padding=\"same\"))\n",
    "model.add(Activation(activations.relu))\n",
    "\n",
    "model.add(MaxPooling2D(pool_size=(4, 4)))\n",
    "\n",
    "model.add(Flatten())\n",
    "model.add(Dense(300, activation='relu'))\n",
    "model.add(Activation(activations.relu))\n",
    "model.add(Dropout(0.5))\n",
    "model.add(Dense(8, activation='softmax'))\n",
    "\n"
   ]
  },
  {
   "cell_type": "code",
   "execution_count": 9,
   "metadata": {},
   "outputs": [
    {
     "name": "stdout",
     "output_type": "stream",
     "text": [
      "Epoch 1/10\n",
      "125/125 [==============================] - 9s 69ms/step - loss: 2.0745 - accuracy: 0.1325 - val_loss: 2.0153 - val_accuracy: 0.2400\n",
      "Epoch 2/10\n",
      "125/125 [==============================] - 8s 63ms/step - loss: 2.0046 - accuracy: 0.2156 - val_loss: 1.9007 - val_accuracy: 0.2900\n",
      "Epoch 3/10\n",
      "125/125 [==============================] - 8s 63ms/step - loss: 1.8896 - accuracy: 0.2706 - val_loss: 1.7835 - val_accuracy: 0.3550\n",
      "Epoch 4/10\n",
      "125/125 [==============================] - 8s 62ms/step - loss: 1.7892 - accuracy: 0.3414 - val_loss: 1.7119 - val_accuracy: 0.4025\n",
      "Epoch 5/10\n",
      "125/125 [==============================] - 8s 62ms/step - loss: 1.6882 - accuracy: 0.3880 - val_loss: 1.6380 - val_accuracy: 0.4125\n",
      "Epoch 6/10\n",
      "125/125 [==============================] - 8s 61ms/step - loss: 1.5994 - accuracy: 0.4074 - val_loss: 1.6222 - val_accuracy: 0.3925\n",
      "Epoch 7/10\n",
      "125/125 [==============================] - 8s 62ms/step - loss: 1.4769 - accuracy: 0.4641 - val_loss: 1.4743 - val_accuracy: 0.4575\n",
      "Epoch 8/10\n",
      "125/125 [==============================] - 8s 63ms/step - loss: 1.4045 - accuracy: 0.4870 - val_loss: 1.4483 - val_accuracy: 0.4700\n",
      "Epoch 9/10\n",
      "125/125 [==============================] - 8s 62ms/step - loss: 1.3072 - accuracy: 0.5257 - val_loss: 1.4566 - val_accuracy: 0.5050\n",
      "Epoch 10/10\n",
      "125/125 [==============================] - 8s 62ms/step - loss: 1.2413 - accuracy: 0.5554 - val_loss: 1.3593 - val_accuracy: 0.5175\n"
     ]
    }
   ],
   "source": [
    "eta = 0.03                  # learning rate\n",
    "wdecay = 0.1/X_train.shape[0]    # weight decay\n",
    "sgd = SGD(lr=eta, decay=wdecay)\n",
    "\n",
    "model.compile(loss='categorical_crossentropy',\n",
    "              optimizer=sgd,\n",
    "              metrics=['accuracy'])\n",
    "\n",
    "history = model.fit(X_train,Y_trainF ,\n",
    "          batch_size=16,\n",
    "          epochs=10,\n",
    "          verbose=1,\n",
    "          validation_data=(X_valid, Y_validF))\n",
    "\n"
   ]
  },
  {
   "cell_type": "code",
   "execution_count": 10,
   "metadata": {},
   "outputs": [
    {
     "name": "stdout",
     "output_type": "stream",
     "text": [
      "Model: \"sequential\"\n",
      "_________________________________________________________________\n",
      "Layer (type)                 Output Shape              Param #   \n",
      "=================================================================\n",
      "conv2d (Conv2D)              (None, 48, 48, 15)        420       \n",
      "_________________________________________________________________\n",
      "activation (Activation)      (None, 48, 48, 15)        0         \n",
      "_________________________________________________________________\n",
      "conv2d_1 (Conv2D)            (None, 48, 48, 15)        2040      \n",
      "_________________________________________________________________\n",
      "activation_1 (Activation)    (None, 48, 48, 15)        0         \n",
      "_________________________________________________________________\n",
      "max_pooling2d (MaxPooling2D) (None, 24, 24, 15)        0         \n",
      "_________________________________________________________________\n",
      "conv2d_2 (Conv2D)            (None, 24, 24, 30)        4080      \n",
      "_________________________________________________________________\n",
      "activation_2 (Activation)    (None, 24, 24, 30)        0         \n",
      "_________________________________________________________________\n",
      "conv2d_3 (Conv2D)            (None, 24, 24, 30)        8130      \n",
      "_________________________________________________________________\n",
      "activation_3 (Activation)    (None, 24, 24, 30)        0         \n",
      "_________________________________________________________________\n",
      "max_pooling2d_1 (MaxPooling2 (None, 6, 6, 30)          0         \n",
      "_________________________________________________________________\n",
      "flatten (Flatten)            (None, 1080)              0         \n",
      "_________________________________________________________________\n",
      "dense (Dense)                (None, 300)               324300    \n",
      "_________________________________________________________________\n",
      "activation_4 (Activation)    (None, 300)               0         \n",
      "_________________________________________________________________\n",
      "dropout (Dropout)            (None, 300)               0         \n",
      "_________________________________________________________________\n",
      "dense_1 (Dense)              (None, 8)                 2408      \n",
      "=================================================================\n",
      "Total params: 341,378\n",
      "Trainable params: 341,378\n",
      "Non-trainable params: 0\n",
      "_________________________________________________________________\n"
     ]
    }
   ],
   "source": [
    "model.summary()"
   ]
  },
  {
   "cell_type": "code",
   "execution_count": 11,
   "metadata": {},
   "outputs": [
    {
     "name": "stdout",
     "output_type": "stream",
     "text": [
      "dict_keys(['loss', 'accuracy', 'val_loss', 'val_accuracy'])\n"
     ]
    },
    {
     "data": {
      "image/png": "[encoded data removed]",
      "text/plain": [
       "<Figure size 432x288 with 1 Axes>"
      ]
     },
     "metadata": {
      "needs_background": "light"
     },
     "output_type": "display_data"
    },
    {
     "data": {
      "image/png": "[encoded data removed]",
      "text/plain": [
       "<Figure size 432x288 with 1 Axes>"
      ]
     },
     "metadata": {
      "needs_background": "light"
     },
     "output_type": "display_data"
    }
   ],
   "source": [
    "print(history.history.keys())\n",
    "#  \"Accuracy\"\n",
    "plt.plot(history.history['accuracy'])\n",
    "plt.plot(history.history['val_accuracy'])\n",
    "plt.title('model accuracy')\n",
    "plt.ylabel('accuracy')\n",
    "plt.xlabel('epoch')\n",
    "plt.legend(['train', 'validation'], loc='upper left')\n",
    "plt.show()\n",
    "# \"Loss\"\n",
    "plt.plot(history.history['loss'])\n",
    "plt.plot(history.history['val_loss'])\n",
    "plt.title('model loss')\n",
    "plt.ylabel('loss')\n",
    "plt.xlabel('epoch')\n",
    "plt.legend(['train', 'validation'], loc='upper left')\n",
    "plt.show()"
   ]
  },
  {
   "cell_type": "code",
   "execution_count": 12,
   "metadata": {},
   "outputs": [
    {
     "name": "stdout",
     "output_type": "stream",
     "text": [
      "25/25 [==============================] - 0s 12ms/step - loss: 1.2797 - accuracy: 0.5425\n",
      "[1.2796986103057861, 0.5425000190734863]\n"
     ]
    }
   ],
   "source": [
    "results = model.evaluate(X_test, Y_testF, batch_size=16)\n",
    "print(results)"
   ]
  },
  {
   "cell_type": "code",
   "execution_count": 13,
   "metadata": {},
   "outputs": [
    {
     "name": "stdout",
     "output_type": "stream",
     "text": [
      "(400,)\n",
      "tf.Tensor(\n",
      "[[40  1  4  2  0  1  2  0]\n",
      " [ 1 17  7  8  5  4  2  6]\n",
      " [ 3  0 42  3  0  1  0  1]\n",
      " [ 5  3  6 32  0  3  0  1]\n",
      " [ 1  7  0  1 36  1  1  3]\n",
      " [ 9  5  8  6  0 20  1  1]\n",
      " [18  1  8  4  0  0 17  2]\n",
      " [ 6  4 20  3  0  3  1 13]], shape=(8, 8), dtype=int32)\n",
      "[[6, 3, 1], [7, 1, 3], [10, 4, 1], [14, 1, 7], [16, 2, 5], [17, 0, 5], [18, 6, 7], [20, 5, 1], [21, 2, 6], [23, 3, 1]]\n"
     ]
    },
    {
     "data": {
      "image/png": "[encoded data removed]",
      "text/plain": [
       "<Figure size 432x288 with 1 Axes>"
      ]
     },
     "metadata": {
      "needs_background": "light"
     },
     "output_type": "display_data"
    }
   ],
   "source": [
    "pred =[]\n",
    "for arr in model.predict(X_test):\n",
    "    pred.append(np.argmax(arr))\n",
    "print(np.shape(pred))\n",
    "matrix = tf.math.confusion_matrix(Y_test, pred)\n",
    "cnt = 0\n",
    "wrong_pic = []\n",
    "for i in range(0,np.shape(pred)[0]):\n",
    "    if Y_test[i] != pred[i] and cnt <10:\n",
    "        cnt = cnt + 1\n",
    "        pic = X_test[i]*255\n",
    "        plt.imshow(np.asarray(pic,dtype=\"uint8\"))\n",
    "        wrong_pic.append([i,pred[i],Y_test[i]])\n",
    "print(matrix)\n",
    "print(wrong_pic)\n",
    "n = 0 #Miranda Cosgrove\n",
    "n = 1 #Chris Martin (singer)\n",
    "n = 2 #Emma Stone (actress)\n",
    "n = 3 #Jamie Foxx (actor)\n",
    "n = 4 #Steve Jobs (entrepreneur)\n",
    "n = 5 #Zac Efron (actor)\n",
    "n = 6 #Sandra Oh (actress)\n",
    "n = 7 #Taryn Manning (actress)"
   ]
  },
  {
   "cell_type": "code",
   "execution_count": null,
   "metadata": {},
   "outputs": [],
   "source": []
  },
  {
   "cell_type": "markdown",
   "metadata": {},
   "source": [
    "## b) Training using transfer learning\n",
    "In transfer learning you use an existing trained model with given weights trained on a different task. You then add a few layers yourself and only train them. The model you add should look like:\n",
    "\n",
    "```\n",
    "my_dense1 (Dense)            (None, 512)               262656    \n",
    "_________________________________________________________________\n",
    "my_dense2 (Dense)            (None, 512)               262656    \n",
    "_________________________________________________________________\n",
    "my_dense3 (Dense)            (None, 100)               51300     \n",
    "_________________________________________________________________\n",
    "my_dense4 (Dense)            (None, 8)                 808       \n",
    "```\n",
    "\n",
    "Use the following code as a starting point:"
   ]
  },
  {
   "cell_type": "code",
   "execution_count": 14,
   "metadata": {},
   "outputs": [],
   "source": [
    "from tensorflow.keras.applications import VGG16\n",
    "img_height = img_width = 48\n",
    "base_model = VGG16(weights='imagenet', include_top=False,input_shape = (img_width, img_height, 3))"
   ]
  },
  {
   "cell_type": "code",
   "execution_count": 32,
   "metadata": {},
   "outputs": [
    {
     "name": "stdout",
     "output_type": "stream",
     "text": [
      "Model: \"model_3\"\n",
      "_________________________________________________________________\n",
      "Layer (type)                 Output Shape              Param #   \n",
      "=================================================================\n",
      "input_1 (InputLayer)         [(None, 48, 48, 3)]       0         \n",
      "_________________________________________________________________\n",
      "block1_conv1 (Conv2D)        (None, 48, 48, 64)        1792      \n",
      "_________________________________________________________________\n",
      "block1_conv2 (Conv2D)        (None, 48, 48, 64)        36928     \n",
      "_________________________________________________________________\n",
      "block1_pool (MaxPooling2D)   (None, 24, 24, 64)        0         \n",
      "_________________________________________________________________\n",
      "block2_conv1 (Conv2D)        (None, 24, 24, 128)       73856     \n",
      "_________________________________________________________________\n",
      "block2_conv2 (Conv2D)        (None, 24, 24, 128)       147584    \n",
      "_________________________________________________________________\n",
      "block2_pool (MaxPooling2D)   (None, 12, 12, 128)       0         \n",
      "_________________________________________________________________\n",
      "block3_conv1 (Conv2D)        (None, 12, 12, 256)       295168    \n",
      "_________________________________________________________________\n",
      "block3_conv2 (Conv2D)        (None, 12, 12, 256)       590080    \n",
      "_________________________________________________________________\n",
      "block3_conv3 (Conv2D)        (None, 12, 12, 256)       590080    \n",
      "_________________________________________________________________\n",
      "block3_pool (MaxPooling2D)   (None, 6, 6, 256)         0         \n",
      "_________________________________________________________________\n",
      "block4_conv1 (Conv2D)        (None, 6, 6, 512)         1180160   \n",
      "_________________________________________________________________\n",
      "block4_conv2 (Conv2D)        (None, 6, 6, 512)         2359808   \n",
      "_________________________________________________________________\n",
      "block4_conv3 (Conv2D)        (None, 6, 6, 512)         2359808   \n",
      "_________________________________________________________________\n",
      "block4_pool (MaxPooling2D)   (None, 3, 3, 512)         0         \n",
      "_________________________________________________________________\n",
      "block5_conv1 (Conv2D)        (None, 3, 3, 512)         2359808   \n",
      "_________________________________________________________________\n",
      "block5_conv2 (Conv2D)        (None, 3, 3, 512)         2359808   \n",
      "_________________________________________________________________\n",
      "block5_conv3 (Conv2D)        (None, 3, 3, 512)         2359808   \n",
      "_________________________________________________________________\n",
      "block5_pool (MaxPooling2D)   (None, 1, 1, 512)         0         \n",
      "_________________________________________________________________\n",
      "flatten_4 (Flatten)          (None, 512)               0         \n",
      "_________________________________________________________________\n",
      "my_dense1 (Dense)            (None, 512)               262656    \n",
      "_________________________________________________________________\n",
      "my_dense2 (Dense)            (None, 512)               262656    \n",
      "_________________________________________________________________\n",
      "my_dense3 (Dense)            (None, 100)               51300     \n",
      "_________________________________________________________________\n",
      "my_dense4 (Dense)            (None, 8)                 808       \n",
      "=================================================================\n",
      "Total params: 15,292,108\n",
      "Trainable params: 577,420\n",
      "Non-trainable params: 14,714,688\n",
      "_________________________________________________________________\n"
     ]
    }
   ],
   "source": [
    "fc1 = base_model.output\n",
    "fc1 = Flatten()(fc1)\n",
    "\n",
    "fc1 = Dense(512,activation='relu', name='my_dense1')(fc1)\n",
    "fc1 = Dense(512,activation='relu', name='my_dense2')(fc1)\n",
    "fc1 = Dense(100,activation='relu', name='my_dense3')(fc1)\n",
    "\n",
    "fc1 = Dense(8,activation='softmax', name='my_dense4')(fc1)\n",
    "model_trans = tf.compat.v1.keras.Model(base_model.input, fc1) #Current hack for TF 2.0 and keras\n",
    "model_trans.summary()"
   ]
  },
  {
   "cell_type": "code",
   "execution_count": 27,
   "metadata": {},
   "outputs": [
    {
     "name": "stdout",
     "output_type": "stream",
     "text": [
      "my_dense1\n",
      "my_dense2\n",
      "my_dense3\n",
      "my_dense4\n"
     ]
    }
   ],
   "source": [
    "#base_model.summary()\n",
    "for layer in model_trans.layers:\n",
    "  name = layer.name\n",
    "  if name.startswith('my'):\n",
    "    layer.trainable = True\n",
    "    print(name)\n",
    "  else:\n",
    "    layer.trainable = False"
   ]
  },
  {
   "cell_type": "code",
   "execution_count": 33,
   "metadata": {},
   "outputs": [
    {
     "name": "stdout",
     "output_type": "stream",
     "text": [
      "Epoch 1/10\n",
      "125/125 [==============================] - 20s 153ms/step - loss: 1.9828 - accuracy: 0.2380 - val_loss: 1.6952 - val_accuracy: 0.3800\n",
      "Epoch 2/10\n",
      "125/125 [==============================] - 18s 148ms/step - loss: 1.6376 - accuracy: 0.3987 - val_loss: 1.5913 - val_accuracy: 0.4350\n",
      "Epoch 3/10\n",
      "125/125 [==============================] - 18s 147ms/step - loss: 1.4958 - accuracy: 0.4484 - val_loss: 1.5338 - val_accuracy: 0.4600\n",
      "Epoch 4/10\n",
      "125/125 [==============================] - 18s 147ms/step - loss: 1.3865 - accuracy: 0.4856 - val_loss: 1.4646 - val_accuracy: 0.4525\n",
      "Epoch 5/10\n",
      "125/125 [==============================] - 19s 149ms/step - loss: 1.3143 - accuracy: 0.5361 - val_loss: 1.3803 - val_accuracy: 0.5175\n",
      "Epoch 6/10\n",
      "125/125 [==============================] - 20s 157ms/step - loss: 1.2626 - accuracy: 0.5544 - val_loss: 1.4111 - val_accuracy: 0.5250\n",
      "Epoch 7/10\n",
      "125/125 [==============================] - 20s 162ms/step - loss: 1.1713 - accuracy: 0.5735 - val_loss: 1.3523 - val_accuracy: 0.5425\n",
      "Epoch 8/10\n",
      "125/125 [==============================] - 18s 147ms/step - loss: 1.1008 - accuracy: 0.6001 - val_loss: 1.4370 - val_accuracy: 0.4600\n",
      "Epoch 9/10\n",
      "125/125 [==============================] - 20s 162ms/step - loss: 1.0642 - accuracy: 0.6258 - val_loss: 1.2774 - val_accuracy: 0.5575\n",
      "Epoch 10/10\n",
      "125/125 [==============================] - 20s 157ms/step - loss: 0.9895 - accuracy: 0.6582 - val_loss: 1.3021 - val_accuracy: 0.5275\n"
     ]
    }
   ],
   "source": [
    "eta = 0.03                  # learning rate\n",
    "wdecay = 0.1/X_train.shape[0]    # weight decay\n",
    "sgd = SGD(lr=eta, decay=wdecay)\n",
    "\n",
    "model_trans.compile(loss='categorical_crossentropy',\n",
    "              optimizer=sgd,\n",
    "              metrics=['accuracy'])\n",
    "\n",
    "history = model_trans.fit(X_train,Y_trainF ,\n",
    "          batch_size=16,\n",
    "          epochs=10,\n",
    "          verbose=1,\n",
    "          validation_data=(X_valid, Y_validF))\n",
    "\n"
   ]
  },
  {
   "cell_type": "markdown",
   "metadata": {},
   "source": [
    "Do the same analysis as in a) above. You should get an accuracy of approx 0.61"
   ]
  },
  {
   "cell_type": "code",
   "execution_count": 35,
   "metadata": {},
   "outputs": [
    {
     "name": "stdout",
     "output_type": "stream",
     "text": [
      "25/25 [==============================] - 3s 123ms/step - loss: 1.1965 - accuracy: 0.5375\n",
      "[1.1965011358261108, 0.5375000238418579]\n"
     ]
    }
   ],
   "source": [
    "results = model_trans.evaluate(X_test, Y_testF, batch_size=16)\n",
    "print(results)"
   ]
  },
  {
   "cell_type": "markdown",
   "metadata": {},
   "source": [
    "## c) Try to get better.\n",
    "\n",
    "Ideas: use dropout and other tricks to prevent overfitting. Try to learn some convulutional layers as well."
   ]
  },
  {
   "cell_type": "code",
   "execution_count": 39,
   "metadata": {},
   "outputs": [
    {
     "name": "stdout",
     "output_type": "stream",
     "text": [
      "Model: \"model_6\"\n",
      "_________________________________________________________________\n",
      "Layer (type)                 Output Shape              Param #   \n",
      "=================================================================\n",
      "input_1 (InputLayer)         [(None, 48, 48, 3)]       0         \n",
      "_________________________________________________________________\n",
      "block1_conv1 (Conv2D)        (None, 48, 48, 64)        1792      \n",
      "_________________________________________________________________\n",
      "block1_conv2 (Conv2D)        (None, 48, 48, 64)        36928     \n",
      "_________________________________________________________________\n",
      "block1_pool (MaxPooling2D)   (None, 24, 24, 64)        0         \n",
      "_________________________________________________________________\n",
      "block2_conv1 (Conv2D)        (None, 24, 24, 128)       73856     \n",
      "_________________________________________________________________\n",
      "block2_conv2 (Conv2D)        (None, 24, 24, 128)       147584    \n",
      "_________________________________________________________________\n",
      "block2_pool (MaxPooling2D)   (None, 12, 12, 128)       0         \n",
      "_________________________________________________________________\n",
      "block3_conv1 (Conv2D)        (None, 12, 12, 256)       295168    \n",
      "_________________________________________________________________\n",
      "block3_conv2 (Conv2D)        (None, 12, 12, 256)       590080    \n",
      "_________________________________________________________________\n",
      "block3_conv3 (Conv2D)        (None, 12, 12, 256)       590080    \n",
      "_________________________________________________________________\n",
      "block3_pool (MaxPooling2D)   (None, 6, 6, 256)         0         \n",
      "_________________________________________________________________\n",
      "block4_conv1 (Conv2D)        (None, 6, 6, 512)         1180160   \n",
      "_________________________________________________________________\n",
      "block4_conv2 (Conv2D)        (None, 6, 6, 512)         2359808   \n",
      "_________________________________________________________________\n",
      "block4_conv3 (Conv2D)        (None, 6, 6, 512)         2359808   \n",
      "_________________________________________________________________\n",
      "block4_pool (MaxPooling2D)   (None, 3, 3, 512)         0         \n",
      "_________________________________________________________________\n",
      "block5_conv1 (Conv2D)        (None, 3, 3, 512)         2359808   \n",
      "_________________________________________________________________\n",
      "block5_conv2 (Conv2D)        (None, 3, 3, 512)         2359808   \n",
      "_________________________________________________________________\n",
      "block5_conv3 (Conv2D)        (None, 3, 3, 512)         2359808   \n",
      "_________________________________________________________________\n",
      "block5_pool (MaxPooling2D)   (None, 1, 1, 512)         0         \n",
      "_________________________________________________________________\n",
      "flatten_7 (Flatten)          (None, 512)               0         \n",
      "_________________________________________________________________\n",
      "my_dense1 (Dense)            (None, 512)               262656    \n",
      "_________________________________________________________________\n",
      "dropout_6 (Dropout)          (None, 512)               0         \n",
      "_________________________________________________________________\n",
      "my_dense2 (Dense)            (None, 512)               262656    \n",
      "_________________________________________________________________\n",
      "dropout_7 (Dropout)          (None, 512)               0         \n",
      "_________________________________________________________________\n",
      "my_dense3 (Dense)            (None, 100)               51300     \n",
      "_________________________________________________________________\n",
      "dropout_8 (Dropout)          (None, 100)               0         \n",
      "_________________________________________________________________\n",
      "my_dense4 (Dense)            (None, 8)                 808       \n",
      "=================================================================\n",
      "Total params: 15,292,108\n",
      "Trainable params: 577,420\n",
      "Non-trainable params: 14,714,688\n",
      "_________________________________________________________________\n"
     ]
    }
   ],
   "source": [
    "fc1 = base_model.output\n",
    "fc1 = Flatten()(fc1)\n",
    "\n",
    "fc1 = Dense(512,activation='relu', name='my_dense1')(fc1)\n",
    "fc1 = Dropout(0.5)(fc1)\n",
    "fc1 = Dense(512,activation='relu', name='my_dense2')(fc1)\n",
    "fc1 = Dropout(0.5)(fc1)\n",
    "fc1 = Dense(100,activation='relu', name='my_dense3')(fc1)\n",
    "fc1 = Dropout(0.5)(fc1)\n",
    "fc1 = Dense(8,activation='softmax', name='my_dense4')(fc1)\n",
    "model_trans = tf.compat.v1.keras.Model(base_model.input, fc1) #Current hack for TF 2.0 and keras\n",
    "model_trans.summary()"
   ]
  },
  {
   "cell_type": "code",
   "execution_count": 43,
   "metadata": {},
   "outputs": [
    {
     "name": "stdout",
     "output_type": "stream",
     "text": [
      "Model: \"model_7\"\n",
      "_________________________________________________________________\n",
      "Layer (type)                 Output Shape              Param #   \n",
      "=================================================================\n",
      "input_1 (InputLayer)         [(None, 48, 48, 3)]       0         \n",
      "_________________________________________________________________\n",
      "block1_conv1 (Conv2D)        (None, 48, 48, 64)        1792      \n",
      "_________________________________________________________________\n",
      "block1_conv2 (Conv2D)        (None, 48, 48, 64)        36928     \n",
      "_________________________________________________________________\n",
      "block1_pool (MaxPooling2D)   (None, 24, 24, 64)        0         \n",
      "_________________________________________________________________\n",
      "block2_conv1 (Conv2D)        (None, 24, 24, 128)       73856     \n",
      "_________________________________________________________________\n",
      "block2_conv2 (Conv2D)        (None, 24, 24, 128)       147584    \n",
      "_________________________________________________________________\n",
      "block2_pool (MaxPooling2D)   (None, 12, 12, 128)       0         \n",
      "_________________________________________________________________\n",
      "block3_conv1 (Conv2D)        (None, 12, 12, 256)       295168    \n",
      "_________________________________________________________________\n",
      "block3_conv2 (Conv2D)        (None, 12, 12, 256)       590080    \n",
      "_________________________________________________________________\n",
      "block3_conv3 (Conv2D)        (None, 12, 12, 256)       590080    \n",
      "_________________________________________________________________\n",
      "block3_pool (MaxPooling2D)   (None, 6, 6, 256)         0         \n",
      "_________________________________________________________________\n",
      "block4_conv1 (Conv2D)        (None, 6, 6, 512)         1180160   \n",
      "_________________________________________________________________\n",
      "block4_conv2 (Conv2D)        (None, 6, 6, 512)         2359808   \n",
      "_________________________________________________________________\n",
      "block4_conv3 (Conv2D)        (None, 6, 6, 512)         2359808   \n",
      "_________________________________________________________________\n",
      "block4_pool (MaxPooling2D)   (None, 3, 3, 512)         0         \n",
      "_________________________________________________________________\n",
      "block5_conv1 (Conv2D)        (None, 3, 3, 512)         2359808   \n",
      "_________________________________________________________________\n",
      "block5_conv2 (Conv2D)        (None, 3, 3, 512)         2359808   \n",
      "_________________________________________________________________\n",
      "block5_conv3 (Conv2D)        (None, 3, 3, 512)         2359808   \n",
      "_________________________________________________________________\n",
      "block5_pool (MaxPooling2D)   (None, 1, 1, 512)         0         \n",
      "_________________________________________________________________\n",
      "flatten_9 (Flatten)          (None, 512)               0         \n",
      "_________________________________________________________________\n",
      "my_dense1 (Dense)            (None, 512)               262656    \n",
      "_________________________________________________________________\n",
      "my_dense2 (Dense)            (None, 512)               262656    \n",
      "_________________________________________________________________\n",
      "my_dense3 (Dense)            (None, 100)               51300     \n",
      "_________________________________________________________________\n",
      "my_dense4 (Dense)            (None, 8)                 808       \n",
      "=================================================================\n",
      "Total params: 15,292,108\n",
      "Trainable params: 577,420\n",
      "Non-trainable params: 14,714,688\n",
      "_________________________________________________________________\n"
     ]
    }
   ],
   "source": [
    "es_callback = keras.callbacks.EarlyStopping(monitor='val_loss', patience=3)\n",
    "fc1 = base_model.output\n",
    "fc1 = Flatten()(fc1)\n",
    "fc1 = Dense(512,activation='relu', name='my_dense1')(fc1)\n",
    "\n",
    "fc1 = Dense(512,activation='relu', name='my_dense2')(fc1)\n",
    "\n",
    "fc1 = Dense(100,activation='relu', name='my_dense3')(fc1)\n",
    "\n",
    "fc1 = Dense(8,activation='softmax', name='my_dense4')(fc1)\n",
    "model_trans = tf.compat.v1.keras.Model(base_model.input, fc1) #Current hack for TF 2.0 and keras\n",
    "model_trans.summary()"
   ]
  },
  {
   "cell_type": "code",
   "execution_count": 44,
   "metadata": {},
   "outputs": [
    {
     "name": "stdout",
     "output_type": "stream",
     "text": [
      "Epoch 1/10\n",
      "125/125 [==============================] - 20s 153ms/step - loss: 1.9937 - accuracy: 0.2154 - val_loss: 1.7100 - val_accuracy: 0.3675\n",
      "Epoch 2/10\n",
      "125/125 [==============================] - 19s 152ms/step - loss: 1.6725 - accuracy: 0.3995 - val_loss: 1.5985 - val_accuracy: 0.4100\n",
      "Epoch 3/10\n",
      "125/125 [==============================] - 19s 153ms/step - loss: 1.4867 - accuracy: 0.4740 - val_loss: 1.5001 - val_accuracy: 0.4450\n",
      "Epoch 4/10\n",
      "125/125 [==============================] - 19s 153ms/step - loss: 1.3687 - accuracy: 0.5052 - val_loss: 1.6973 - val_accuracy: 0.3875\n",
      "Epoch 5/10\n",
      "125/125 [==============================] - 20s 157ms/step - loss: 1.2837 - accuracy: 0.5370 - val_loss: 1.3326 - val_accuracy: 0.5400\n",
      "Epoch 6/10\n",
      "125/125 [==============================] - 19s 151ms/step - loss: 1.2348 - accuracy: 0.5597 - val_loss: 1.3821 - val_accuracy: 0.5350\n",
      "Epoch 7/10\n",
      "125/125 [==============================] - 19s 149ms/step - loss: 1.1497 - accuracy: 0.5918 - val_loss: 1.5611 - val_accuracy: 0.4575\n",
      "Epoch 8/10\n",
      "125/125 [==============================] - 18s 148ms/step - loss: 1.1261 - accuracy: 0.5983 - val_loss: 1.4330 - val_accuracy: 0.5075\n"
     ]
    }
   ],
   "source": [
    "eta = 0.03                  # learning rate\n",
    "wdecay = 0.1/X_train.shape[0]    # weight decay\n",
    "sgd = SGD(lr=eta, decay=wdecay)\n",
    "\n",
    "model_trans.compile(loss='categorical_crossentropy',\n",
    "              optimizer=sgd,\n",
    "              metrics=['accuracy'])\n",
    "\n",
    "history = model_trans.fit(X_train,Y_trainF ,\n",
    "          batch_size=16,\n",
    "          epochs=10,\n",
    "          verbose=1,\n",
    "          validation_data=(X_valid, Y_validF), callbacks=[es_callback])"
   ]
  },
  {
   "cell_type": "code",
   "execution_count": 41,
   "metadata": {},
   "outputs": [
    {
     "name": "stdout",
     "output_type": "stream",
     "text": [
      "25/25 [==============================] - 3s 123ms/step - loss: 1.5360 - accuracy: 0.4375\n",
      "[1.5360249280929565, 0.4375]\n"
     ]
    }
   ],
   "source": [
    "results = model_trans.evaluate(X_test, Y_testF, batch_size=16)\n",
    "print(results)"
   ]
  },
  {
   "cell_type": "code",
   "execution_count": null,
   "metadata": {},
   "outputs": [],
   "source": []
  }
 ],
 "metadata": {
  "kernelspec": {
   "display_name": "Python 3",
   "language": "python",
   "name": "python3"
  },
  "language_info": {
   "codemirror_mode": {
    "name": "ipython",
    "version": 3
   },
   "file_extension": ".py",
   "mimetype": "text/x-python",
   "name": "python",
   "nbconvert_exporter": "python",
   "pygments_lexer": "ipython3",
   "version": "3.8.5"
  }
 },
 "nbformat": 4,
 "nbformat_minor": 2
}

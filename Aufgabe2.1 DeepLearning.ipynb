{
 "cells": [
  {
   "cell_type": "code",
   "execution_count": 1,
   "metadata": {},
   "outputs": [
    {
     "data": {
      "text/plain": [
       "'2.4.0'"
      ]
     },
     "execution_count": 1,
     "metadata": {},
     "output_type": "execute_result"
    }
   ],
   "source": [
    "import numpy as np\n",
    "import matplotlib.pyplot as plt\n",
    "\n",
    "\n",
    "\n",
    "import tensorflow as tf\n",
    "import tensorflow.keras as keras\n",
    "from tensorflow.keras.models import Sequential\n",
    "from tensorflow.keras.layers import Dense, Convolution2D, MaxPooling2D, Flatten , Activation, Dropout\n",
    "from tensorflow.keras.optimizers import SGD\n",
    "tf.__version__\n",
    "\n"
   ]
  },
  {
   "cell_type": "code",
   "execution_count": 2,
   "metadata": {},
   "outputs": [],
   "source": [
    "test_data =[]\n",
    "training_data =[]\n",
    "test_class = []\n",
    "training_class =[]\n",
    "cnt  = 0;\n",
    "for n in range(0,2000):\n",
    "    rand_lines_v = []\n",
    "    rand_lines_h =[]\n",
    "    while len(rand_lines_v)!=10:\n",
    "        new_i = np.random.randint(0,50)\n",
    "        if new_i not in rand_lines_v:\n",
    "            rand_lines_v.append(new_i)\n",
    "    while len(rand_lines_h)!=10:\n",
    "        new_i = np.random.randint(0,50)\n",
    "        if new_i not in rand_lines_h:\n",
    "            rand_lines_h.append(new_i)  \n",
    "    grayscale_img = np.zeros((50,50))\n",
    "    for i in range(0,50):\n",
    "        grayscale_img[i]= np.random.uniform(0,1,50);\n",
    "    clas = np.random.randint(0,2)\n",
    "    if bool(clas):\n",
    "        cnt = cnt+1\n",
    "        for i in range(0,10):\n",
    "            rand_start_v=np.random.randint(0,40);\n",
    "            for j in range(0,10):\n",
    "                grayscale_img[rand_lines_v[i],j+rand_start_v]=0\n",
    "    else:\n",
    "        for i in range(0,10):\n",
    "            rand_start_h=np.random.randint(0,40);\n",
    "            for j in range(0,10):\n",
    "                grayscale_img[j+rand_start_h,rand_lines_h[i]]=0\n",
    "    if n<1000:\n",
    "        training_data.append(grayscale_img)\n",
    "        training_class.append([clas,int(not clas)])\n",
    "        #plt.pcolor(range(0,50),range(0,50),grayscale_img,cmap='gray')\n",
    "        #plt.show()\n",
    "        #print(clas)\n",
    "    else:\n",
    "        test_data.append(grayscale_img)\n",
    "        test_class.append([clas,int(not clas)])\n",
    "training_data = np.reshape(training_data,(1000,2500))\n",
    "test_data = np.reshape(test_data,(1000,2500))\n",
    "test_class = np.array(test_class)\n",
    "training_class = np.array(training_class)\n",
    "\n",
    "\n"
   ]
  },
  {
   "cell_type": "code",
   "execution_count": 12,
   "metadata": {},
   "outputs": [],
   "source": [
    "model = Sequential()\n",
    "model.add(keras.layers.Reshape(target_shape=(50, 50, 1)))\n",
    "model.add(Convolution2D(1, kernel_size=(5, 5),activation='relu',input_shape=(50,50,1),name=\"conv\"))\n",
    "model.add(MaxPooling2D(pool_size=(46, 46)))\n",
    "model.add(Flatten())\n",
    "model.add(Dropout(0.5))\n",
    "model.add(Dense(2, activation='softmax'))"
   ]
  },
  {
   "cell_type": "code",
   "execution_count": 4,
   "metadata": {},
   "outputs": [
    {
     "data": {
      "text/plain": [
       "(1000, 2)"
      ]
     },
     "execution_count": 4,
     "metadata": {},
     "output_type": "execute_result"
    }
   ],
   "source": [
    "np.shape(test_class)"
   ]
  },
  {
   "cell_type": "code",
   "execution_count": 13,
   "metadata": {},
   "outputs": [
    {
     "name": "stdout",
     "output_type": "stream",
     "text": [
      "Epoch 1/30\n",
      "100/100 [==============================] - 2s 12ms/step - loss: 0.6941 - accuracy: 0.5043 - val_loss: 0.6882 - val_accuracy: 0.5420\n",
      "Epoch 2/30\n",
      "100/100 [==============================] - 1s 10ms/step - loss: 0.6880 - accuracy: 0.5155 - val_loss: 0.6805 - val_accuracy: 0.7430\n",
      "Epoch 3/30\n",
      "100/100 [==============================] - 1s 10ms/step - loss: 0.6818 - accuracy: 0.5919 - val_loss: 0.6627 - val_accuracy: 0.9140\n",
      "Epoch 4/30\n",
      "100/100 [==============================] - 1s 10ms/step - loss: 0.6597 - accuracy: 0.6161 - val_loss: 0.6284 - val_accuracy: 0.9680\n",
      "Epoch 5/30\n",
      "100/100 [==============================] - 1s 9ms/step - loss: 0.6404 - accuracy: 0.6382 - val_loss: 0.5902 - val_accuracy: 0.9800\n",
      "Epoch 6/30\n",
      "100/100 [==============================] - 1s 9ms/step - loss: 0.5957 - accuracy: 0.7128 - val_loss: 0.5651 - val_accuracy: 0.9860\n",
      "Epoch 7/30\n",
      "100/100 [==============================] - 1s 9ms/step - loss: 0.5813 - accuracy: 0.6985 - val_loss: 0.5311 - val_accuracy: 0.9890\n",
      "Epoch 8/30\n",
      "100/100 [==============================] - 1s 9ms/step - loss: 0.5608 - accuracy: 0.7099 - val_loss: 0.4917 - val_accuracy: 0.9810\n",
      "Epoch 9/30\n",
      "100/100 [==============================] - 1s 9ms/step - loss: 0.5551 - accuracy: 0.7131 - val_loss: 0.4633 - val_accuracy: 0.9830\n",
      "Epoch 10/30\n",
      "100/100 [==============================] - 1s 10ms/step - loss: 0.5301 - accuracy: 0.7296 - val_loss: 0.4346 - val_accuracy: 0.9760\n",
      "Epoch 11/30\n",
      "100/100 [==============================] - 1s 10ms/step - loss: 0.5204 - accuracy: 0.7510 - val_loss: 0.4150 - val_accuracy: 0.9790\n",
      "Epoch 12/30\n",
      "100/100 [==============================] - 1s 9ms/step - loss: 0.5429 - accuracy: 0.7130 - val_loss: 0.4123 - val_accuracy: 0.9860\n",
      "Epoch 13/30\n",
      "100/100 [==============================] - 1s 9ms/step - loss: 0.4619 - accuracy: 0.7958 - val_loss: 0.3901 - val_accuracy: 0.9860\n",
      "Epoch 14/30\n",
      "100/100 [==============================] - 1s 10ms/step - loss: 0.5218 - accuracy: 0.7172 - val_loss: 0.3802 - val_accuracy: 0.9880\n",
      "Epoch 15/30\n",
      "100/100 [==============================] - 1s 10ms/step - loss: 0.4986 - accuracy: 0.7491 - val_loss: 0.3806 - val_accuracy: 0.9920\n",
      "Epoch 16/30\n",
      "100/100 [==============================] - 1s 9ms/step - loss: 0.5253 - accuracy: 0.7201 - val_loss: 0.3564 - val_accuracy: 0.9830\n",
      "Epoch 17/30\n",
      "100/100 [==============================] - 1s 9ms/step - loss: 0.4879 - accuracy: 0.7390 - val_loss: 0.3671 - val_accuracy: 0.9960\n",
      "Epoch 18/30\n",
      "100/100 [==============================] - 1s 9ms/step - loss: 0.4935 - accuracy: 0.7337 - val_loss: 0.3693 - val_accuracy: 0.9960\n",
      "Epoch 19/30\n",
      "100/100 [==============================] - 1s 10ms/step - loss: 0.4894 - accuracy: 0.7495 - val_loss: 0.3628 - val_accuracy: 0.9960\n",
      "Epoch 20/30\n",
      "100/100 [==============================] - 1s 10ms/step - loss: 0.5208 - accuracy: 0.7233 - val_loss: 0.3526 - val_accuracy: 0.9910\n",
      "Epoch 21/30\n",
      "100/100 [==============================] - 1s 9ms/step - loss: 0.4850 - accuracy: 0.7472 - val_loss: 0.3437 - val_accuracy: 0.9910\n",
      "Epoch 22/30\n",
      "100/100 [==============================] - 1s 10ms/step - loss: 0.4898 - accuracy: 0.7417 - val_loss: 0.3272 - val_accuracy: 0.9890\n",
      "Epoch 23/30\n",
      "100/100 [==============================] - 1s 10ms/step - loss: 0.4829 - accuracy: 0.7556 - val_loss: 0.3200 - val_accuracy: 0.9840\n",
      "Epoch 24/30\n",
      "100/100 [==============================] - 1s 9ms/step - loss: 0.5135 - accuracy: 0.7260 - val_loss: 0.3147 - val_accuracy: 0.9820\n",
      "Epoch 25/30\n",
      "100/100 [==============================] - 1s 9ms/step - loss: 0.4994 - accuracy: 0.7376 - val_loss: 0.3333 - val_accuracy: 0.9900\n",
      "Epoch 26/30\n",
      "100/100 [==============================] - 1s 9ms/step - loss: 0.4673 - accuracy: 0.7602 - val_loss: 0.3285 - val_accuracy: 0.9920\n",
      "Epoch 27/30\n",
      "100/100 [==============================] - 1s 10ms/step - loss: 0.4935 - accuracy: 0.7581 - val_loss: 0.3230 - val_accuracy: 0.9910\n",
      "Epoch 28/30\n",
      "100/100 [==============================] - 1s 10ms/step - loss: 0.4955 - accuracy: 0.7384 - val_loss: 0.3223 - val_accuracy: 0.9920\n",
      "Epoch 29/30\n",
      "100/100 [==============================] - 1s 9ms/step - loss: 0.4868 - accuracy: 0.7536 - val_loss: 0.3038 - val_accuracy: 0.9840\n",
      "Epoch 30/30\n",
      "100/100 [==============================] - 1s 9ms/step - loss: 0.5095 - accuracy: 0.7223 - val_loss: 0.3200 - val_accuracy: 0.9910\n"
     ]
    }
   ],
   "source": [
    "\n",
    "# Optimierer\n",
    "eta = 0.03                  # learning rate\n",
    "wdecay = 0.1/np.shape(training_data)[0]    # weight decay\n",
    "sgd = SGD(lr=eta, decay=wdecay)\n",
    "\n",
    "model.compile(loss='categorical_crossentropy',\n",
    "              optimizer=sgd,\n",
    "              metrics=['accuracy'])\n",
    "\n",
    "history = model.fit(training_data,training_class,\n",
    "          batch_size=10,\n",
    "          epochs=30,\n",
    "          verbose=1,\n",
    "          validation_data=(test_data,test_class))\n"
   ]
  },
  {
   "cell_type": "code",
   "execution_count": 14,
   "metadata": {},
   "outputs": [
    {
     "name": "stdout",
     "output_type": "stream",
     "text": [
      "dict_keys(['loss', 'accuracy', 'val_loss', 'val_accuracy'])\n"
     ]
    },
    {
     "data": {
      "image/png": "[encoded data removed]",
      "text/plain": [
       "<Figure size 432x288 with 1 Axes>"
      ]
     },
     "metadata": {
      "needs_background": "light"
     },
     "output_type": "display_data"
    },
    {
     "data": {
      "image/png": "[encoded data removed]",
      "text/plain": [
       "<Figure size 432x288 with 1 Axes>"
      ]
     },
     "metadata": {
      "needs_background": "light"
     },
     "output_type": "display_data"
    }
   ],
   "source": [
    "print(history.history.keys())\n",
    "#  \"Accuracy\"\n",
    "plt.plot(history.history['accuracy'])\n",
    "plt.plot(history.history['val_accuracy'])\n",
    "plt.title('model accuracy')\n",
    "plt.ylabel('accuracy')\n",
    "plt.xlabel('epoch')\n",
    "plt.legend(['train', 'validation'], loc='upper left')\n",
    "plt.show()\n",
    "# \"Loss\"\n",
    "plt.plot(history.history['loss'])\n",
    "plt.plot(history.history['val_loss'])\n",
    "plt.title('model loss')\n",
    "plt.ylabel('loss')\n",
    "plt.xlabel('epoch')\n",
    "plt.legend(['train', 'validation'], loc='upper left')\n",
    "plt.show()"
   ]
  },
  {
   "cell_type": "code",
   "execution_count": 7,
   "metadata": {
    "scrolled": true
   },
   "outputs": [
    {
     "name": "stdout",
     "output_type": "stream",
     "text": [
      "(5, 5, 1, 1)\n",
      "(1,)\n",
      "(1, 2)\n",
      "(2,)\n",
      "Model: \"sequential\"\n",
      "_________________________________________________________________\n",
      "Layer (type)                 Output Shape              Param #   \n",
      "=================================================================\n",
      "reshape (Reshape)            (10, 50, 50, 1)           0         \n",
      "_________________________________________________________________\n",
      "conv (Conv2D)                (10, 46, 46, 1)           26        \n",
      "_________________________________________________________________\n",
      "max_pooling2d (MaxPooling2D) (10, 1, 1, 1)             0         \n",
      "_________________________________________________________________\n",
      "flatten (Flatten)            (10, 1)                   0         \n",
      "_________________________________________________________________\n",
      "dropout (Dropout)            (10, 1)                   0         \n",
      "_________________________________________________________________\n",
      "dense (Dense)                (10, 2)                   4         \n",
      "=================================================================\n",
      "Total params: 30\n",
      "Trainable params: 30\n",
      "Non-trainable params: 0\n",
      "_________________________________________________________________\n"
     ]
    }
   ],
   "source": [
    "w = model.get_weights()\n",
    "print(np.shape(w[0]))\n",
    "print(np.shape(w[1]))\n",
    "print(np.shape(w[2]))\n",
    "print(np.shape(w[3]))\n",
    "#plt.pcolor(range(0,5),range(0,5),grayscale_img,cmap='gray')\n",
    "model.summary()\n"
   ]
  },
  {
   "cell_type": "code",
   "execution_count": 25,
   "metadata": {},
   "outputs": [],
   "source": [
    "def plot_conv_weights(model, layer):\n",
    "    W = model.get_layer(name=layer).get_weights()[0]\n",
    "    if len(W.shape) == 4:\n",
    "        W = W.reshape((W.shape[0], W.shape[1], W.shape[2]*W.shape[3])) \n",
    "        fig, axs = plt.subplots(1,1, figsize=(8,8))\n",
    "        fig.subplots_adjust(hspace = .5, wspace=.001)\n",
    "        axs.imshow(W[:,:,0])\n",
    "        axs.set_title(str(0))"
   ]
  },
  {
   "cell_type": "code",
   "execution_count": 26,
   "metadata": {},
   "outputs": [
    {
     "data": {
      "image/png": "[encoded data removed]",
      "text/plain": [
       "<Figure size 576x576 with 1 Axes>"
      ]
     },
     "metadata": {
      "needs_background": "light"
     },
     "output_type": "display_data"
    }
   ],
   "source": [
    "plot_conv_weights(model,\"conv\")"
   ]
  },
  {
   "cell_type": "code",
   "execution_count": null,
   "metadata": {},
   "outputs": [],
   "source": []
  }
 ],
 "metadata": {
  "kernelspec": {
   "display_name": "Python 3",
   "language": "python",
   "name": "python3"
  },
  "language_info": {
   "codemirror_mode": {
    "name": "ipython",
    "version": 3
   },
   "file_extension": ".py",
   "mimetype": "text/x-python",
   "name": "python",
   "nbconvert_exporter": "python",
   "pygments_lexer": "ipython3",
   "version": "3.8.5"
  }
 },
 "nbformat": 4,
 "nbformat_minor": 4
}

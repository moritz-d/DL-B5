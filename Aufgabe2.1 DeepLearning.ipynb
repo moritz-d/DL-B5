{
 "cells": [
  {
   "cell_type": "code",
   "execution_count": 1,
   "metadata": {},
   "outputs": [
    {
     "data": {
      "text/plain": [
       "'2.4.0'"
      ]
     },
     "execution_count": 1,
     "metadata": {},
     "output_type": "execute_result"
    }
   ],
   "source": [
    "import numpy as np\n",
    "import matplotlib.pyplot as plt\n",
    "\n",
    "\n",
    "\n",
    "import tensorflow as tf\n",
    "import tensorflow.keras as keras\n",
    "from tensorflow.keras.models import Sequential\n",
    "from tensorflow.keras.layers import Dense, Convolution2D, MaxPooling2D, Flatten , Activation, Dropout\n",
    "from tensorflow.keras.optimizers import SGD\n",
    "tf.__version__\n",
    "\n"
   ]
  },
  {
   "cell_type": "code",
   "execution_count": 2,
   "metadata": {},
   "outputs": [],
   "source": [
    "test_data =[]\n",
    "training_data =[]\n",
    "test_class = []\n",
    "training_class =[]\n",
    "cnt  = 0;\n",
    "for n in range(0,2000):\n",
    "    rand_lines_v = []\n",
    "    rand_lines_h =[]\n",
    "    while len(rand_lines_v)!=10:\n",
    "        new_i = np.random.randint(0,50)\n",
    "        if new_i not in rand_lines_v:\n",
    "            rand_lines_v.append(new_i)\n",
    "    while len(rand_lines_h)!=10:\n",
    "        new_i = np.random.randint(0,50)\n",
    "        if new_i not in rand_lines_h:\n",
    "            rand_lines_h.append(new_i)  \n",
    "    grayscale_img = np.zeros((50,50))\n",
    "    for i in range(0,50):\n",
    "        grayscale_img[i]= np.random.uniform(0,1,50);\n",
    "    clas = np.random.randint(0,2)\n",
    "    if bool(clas):\n",
    "        cnt = cnt+1\n",
    "        for i in range(0,10):\n",
    "            rand_start_v=np.random.randint(0,40);\n",
    "            for j in range(0,10):\n",
    "                grayscale_img[rand_lines_v[i],j+rand_start_v]=0\n",
    "    else:\n",
    "        for i in range(0,10):\n",
    "            rand_start_h=np.random.randint(0,40);\n",
    "            for j in range(0,10):\n",
    "                grayscale_img[j+rand_start_h,rand_lines_h[i]]=0\n",
    "    if n<1000:\n",
    "        training_data.append(grayscale_img)\n",
    "        training_class.append([clas,int(not clas)])\n",
    "        #plt.pcolor(range(0,50),range(0,50),grayscale_img,cmap='gray')\n",
    "        #plt.show()\n",
    "        #print(clas)\n",
    "    else:\n",
    "        test_data.append(grayscale_img)\n",
    "        test_class.append([clas,int(not clas)])\n",
    "training_data = np.reshape(training_data,(1000,2500))\n",
    "test_data = np.reshape(test_data,(1000,2500))\n",
    "test_class = np.array(test_class)\n",
    "training_class = np.array(training_class)\n",
    "\n",
    "\n"
   ]
  },
  {
   "cell_type": "code",
   "execution_count": 3,
   "metadata": {},
   "outputs": [
    {
     "data": {
      "text/plain": [
       "<tensorflow.python.keras.engine.sequential.Sequential at 0x2627ce47160>"
      ]
     },
     "execution_count": 3,
     "metadata": {},
     "output_type": "execute_result"
    }
   ],
   "source": [
    "model = Sequential()\n",
    "model.add(keras.layers.Reshape(target_shape=(50, 50, 1)))\n",
    "model.add(Convolution2D(2, kernel_size=(5, 5),activation='relu',input_shape=(50,50,1),name=\"conv\"))\n",
    "model.add(MaxPooling2D(pool_size=(2, 2)))\n",
    "model.add(Flatten())\n",
    "model.add(Dropout(0.5))\n",
    "model.add(Dense(2, activation='softmax'))\n",
    "model"
   ]
  },
  {
   "cell_type": "code",
   "execution_count": 4,
   "metadata": {},
   "outputs": [
    {
     "data": {
      "text/plain": [
       "(1000, 2)"
      ]
     },
     "execution_count": 4,
     "metadata": {},
     "output_type": "execute_result"
    }
   ],
   "source": [
    "np.shape(test_class)"
   ]
  },
  {
   "cell_type": "code",
   "execution_count": 5,
   "metadata": {},
   "outputs": [
    {
     "name": "stdout",
     "output_type": "stream",
     "text": [
      "Epoch 1/15\n",
      "100/100 [==============================] - 2s 19ms/step - loss: 0.7712 - accuracy: 0.4898 - val_loss: 0.6947 - val_accuracy: 0.5050\n",
      "Epoch 2/15\n",
      "100/100 [==============================] - 1s 8ms/step - loss: 0.6901 - accuracy: 0.5362 - val_loss: 0.6934 - val_accuracy: 0.4960\n",
      "Epoch 3/15\n",
      "100/100 [==============================] - 1s 9ms/step - loss: 0.6897 - accuracy: 0.5256 - val_loss: 0.6929 - val_accuracy: 0.4910\n",
      "Epoch 4/15\n",
      "100/100 [==============================] - 1s 8ms/step - loss: 0.6860 - accuracy: 0.5359 - val_loss: 0.6907 - val_accuracy: 0.5000\n",
      "Epoch 5/15\n",
      "100/100 [==============================] - 1s 8ms/step - loss: 0.6787 - accuracy: 0.5579 - val_loss: 0.6754 - val_accuracy: 0.5500\n",
      "Epoch 6/15\n",
      "100/100 [==============================] - 1s 8ms/step - loss: 0.6572 - accuracy: 0.6019 - val_loss: 0.6545 - val_accuracy: 0.5040\n",
      "Epoch 7/15\n",
      "100/100 [==============================] - 1s 8ms/step - loss: 0.5699 - accuracy: 0.7727 - val_loss: 0.5227 - val_accuracy: 0.7610\n",
      "Epoch 8/15\n",
      "100/100 [==============================] - 1s 8ms/step - loss: 0.4215 - accuracy: 0.8910 - val_loss: 0.3155 - val_accuracy: 0.9550\n",
      "Epoch 9/15\n",
      "100/100 [==============================] - 1s 8ms/step - loss: 0.2651 - accuracy: 0.9567 - val_loss: 0.1444 - val_accuracy: 1.0000\n",
      "Epoch 10/15\n",
      "100/100 [==============================] - 1s 8ms/step - loss: 0.1748 - accuracy: 0.9712 - val_loss: 0.0781 - val_accuracy: 1.0000\n",
      "Epoch 11/15\n",
      "100/100 [==============================] - 1s 8ms/step - loss: 0.0899 - accuracy: 0.9929 - val_loss: 0.0535 - val_accuracy: 1.0000\n",
      "Epoch 12/15\n",
      "100/100 [==============================] - 1s 8ms/step - loss: 0.0617 - accuracy: 0.9937 - val_loss: 0.0460 - val_accuracy: 1.0000\n",
      "Epoch 13/15\n",
      "100/100 [==============================] - 1s 8ms/step - loss: 0.0389 - accuracy: 0.9989 - val_loss: 0.0246 - val_accuracy: 1.0000\n",
      "Epoch 14/15\n",
      "100/100 [==============================] - 1s 8ms/step - loss: 0.0280 - accuracy: 0.9999 - val_loss: 0.0213 - val_accuracy: 1.0000\n",
      "Epoch 15/15\n",
      "100/100 [==============================] - 1s 8ms/step - loss: 0.0250 - accuracy: 1.0000 - val_loss: 0.0136 - val_accuracy: 1.0000\n"
     ]
    }
   ],
   "source": [
    "\n",
    "# Optimierer\n",
    "eta = 0.03                  # learning rate\n",
    "wdecay = 0.1/np.shape(training_data)[0]    # weight decay\n",
    "sgd = SGD(lr=eta, decay=wdecay)\n",
    "\n",
    "model.compile(loss='categorical_crossentropy',\n",
    "              optimizer=sgd,\n",
    "              metrics=['accuracy'])\n",
    "\n",
    "history = model.fit(training_data,training_class,\n",
    "          batch_size=10,\n",
    "          epochs=15,\n",
    "          verbose=1,\n",
    "          validation_data=(test_data,test_class))\n"
   ]
  },
  {
   "cell_type": "code",
   "execution_count": 6,
   "metadata": {},
   "outputs": [
    {
     "name": "stdout",
     "output_type": "stream",
     "text": [
      "dict_keys(['loss', 'accuracy', 'val_loss', 'val_accuracy'])\n"
     ]
    },
    {
     "data": {
      "image/png": "[encoded data removed]",
      "text/plain": [
       "<Figure size 432x288 with 1 Axes>"
      ]
     },
     "metadata": {
      "needs_background": "light"
     },
     "output_type": "display_data"
    },
    {
     "data": {
      "image/png": "[encoded data removed]",
      "text/plain": [
       "<Figure size 432x288 with 1 Axes>"
      ]
     },
     "metadata": {
      "needs_background": "light"
     },
     "output_type": "display_data"
    }
   ],
   "source": [
    "print(history.history.keys())\n",
    "#  \"Accuracy\"\n",
    "plt.plot(history.history['accuracy'])\n",
    "plt.plot(history.history['val_accuracy'])\n",
    "plt.title('model accuracy')\n",
    "plt.ylabel('accuracy')\n",
    "plt.xlabel('epoch')\n",
    "plt.legend(['train', 'validation'], loc='upper left')\n",
    "plt.show()\n",
    "# \"Loss\"\n",
    "plt.plot(history.history['loss'])\n",
    "plt.plot(history.history['val_loss'])\n",
    "plt.title('model loss')\n",
    "plt.ylabel('loss')\n",
    "plt.xlabel('epoch')\n",
    "plt.legend(['train', 'validation'], loc='upper left')\n",
    "plt.show()"
   ]
  },
  {
   "cell_type": "code",
   "execution_count": 7,
   "metadata": {
    "scrolled": true
   },
   "outputs": [
    {
     "name": "stdout",
     "output_type": "stream",
     "text": [
      "(5, 5, 1, 2)\n",
      "(2,)\n",
      "(1058, 2)\n",
      "(2,)\n"
     ]
    },
    {
     "data": {
      "text/plain": [
       "array([0.08806234, 0.14147401], dtype=float32)"
      ]
     },
     "execution_count": 7,
     "metadata": {},
     "output_type": "execute_result"
    }
   ],
   "source": [
    "w = model.get_weights()\n",
    "print(np.shape(w[0]))\n",
    "print(np.shape(w[1]))\n",
    "print(np.shape(w[2]))\n",
    "print(np.shape(w[3]))\n",
    "#plt.pcolor(range(0,5),range(0,5),grayscale_img,cmap='gray')\n",
    "w[1]\n"
   ]
  },
  {
   "cell_type": "code",
   "execution_count": 8,
   "metadata": {},
   "outputs": [],
   "source": [
    "def plot_conv_weights(model, layer):\n",
    "    W = model.get_layer(name=layer).get_weights()[0]\n",
    "    if len(W.shape) == 4:\n",
    "        W = W.reshape((W.shape[0], W.shape[1], W.shape[2]*W.shape[3])) \n",
    "        fig, axs = plt.subplots(2,1, figsize=(8,8))\n",
    "        fig.subplots_adjust(hspace = .5, wspace=.001)\n",
    "        axs = axs.ravel()\n",
    "        for i in range(2):\n",
    "            axs[i].imshow(W[:,:,i])\n",
    "            axs[i].set_title(str(i))"
   ]
  },
  {
   "cell_type": "code",
   "execution_count": 9,
   "metadata": {},
   "outputs": [
    {
     "data": {
      "image/png": "[encoded data removed]",
      "text/plain": [
       "<Figure size 576x576 with 2 Axes>"
      ]
     },
     "metadata": {
      "needs_background": "light"
     },
     "output_type": "display_data"
    }
   ],
   "source": [
    "plot_conv_weights(model,\"conv\")"
   ]
  },
  {
   "cell_type": "code",
   "execution_count": null,
   "metadata": {},
   "outputs": [],
   "source": []
  }
 ],
 "metadata": {
  "kernelspec": {
   "display_name": "Python 3",
   "language": "python",
   "name": "python3"
  },
  "language_info": {
   "codemirror_mode": {
    "name": "ipython",
    "version": 3
   },
   "file_extension": ".py",
   "mimetype": "text/x-python",
   "name": "python",
   "nbconvert_exporter": "python",
   "pygments_lexer": "ipython3",
   "version": "3.8.5"
  }
 },
 "nbformat": 4,
 "nbformat_minor": 4
}

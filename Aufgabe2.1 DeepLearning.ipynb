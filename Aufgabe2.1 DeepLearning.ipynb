{
 "cells": [
  {
   "cell_type": "code",
   "execution_count": 1,
   "metadata": {},
   "outputs": [],
   "source": [
    "import numpy as np\n",
    "import matplotlib.pyplot as plt\n",
    "from tensorflow.keras import datasets, layers, models"
   ]
  },
  {
   "cell_type": "code",
   "execution_count": 2,
   "metadata": {},
   "outputs": [
    {
     "data": {
      "text/plain": [
       "(1000, 50, 50)"
      ]
     },
     "execution_count": 2,
     "metadata": {},
     "output_type": "execute_result"
    }
   ],
   "source": [
    "test_data =[]\n",
    "training_data =[]\n",
    "for n in range(0,2000):\n",
    "    rand_lines_v = []\n",
    "    rand_lines_h =[]\n",
    "    while len(rand_lines_v)!=10:\n",
    "        new_i = np.random.randint(0,50)\n",
    "        if new_i not in rand_lines_v:\n",
    "            rand_lines_v.append(new_i)\n",
    "    while len(rand_lines_h)!=10:\n",
    "        new_i = np.random.randint(0,50)\n",
    "        if new_i not in rand_lines_h:\n",
    "            rand_lines_h.append(new_i)  \n",
    "    grayscale_img = np.zeros((50,50))\n",
    "    for i in range(0,50):\n",
    "        grayscale_img[i]= np.random.uniform(0,1,50);\n",
    "\n",
    "\n",
    "    for i in range(0,10):\n",
    "        rand_start_v=np.random.randint(0,40);\n",
    "        for j in range(0,10):\n",
    "            grayscale_img[rand_lines_v[i],j+rand_start_v]=0\n",
    "    for i in range(0,10):\n",
    "        rand_start_h=np.random.randint(0,40);\n",
    "        for j in range(0,10):\n",
    "            grayscale_img[j+rand_start_h,rand_lines_h[i]]=0\n",
    "    if n<1000:\n",
    "        training_data.append(grayscale_img)\n",
    "    else:\n",
    "        test_data.append(grayscale_img)\n",
    "np.shape(training_data)\n",
    "#plt.pcolor(range(0,50),range(0,50),grayscale_img,cmap='gray')\n",
    "\n"
   ]
  },
  {
   "cell_type": "code",
   "execution_count": 3,
   "metadata": {},
   "outputs": [],
   "source": [
    "model = models.Sequential()\n",
    "model.add(layers.Conv2D(50, (1, 1), activation='relu', input_shape=(50, 50, 1)))"
   ]
  },
  {
   "cell_type": "code",
   "execution_count": null,
   "metadata": {},
   "outputs": [],
   "source": []
  }
 ],
 "metadata": {
  "kernelspec": {
   "display_name": "Python 3",
   "language": "python",
   "name": "python3"
  },
  "language_info": {
   "codemirror_mode": {
    "name": "ipython",
    "version": 3
   },
   "file_extension": ".py",
   "mimetype": "text/x-python",
   "name": "python",
   "nbconvert_exporter": "python",
   "pygments_lexer": "ipython3",
   "version": "3.8.5"
  }
 },
 "nbformat": 4,
 "nbformat_minor": 4
}
